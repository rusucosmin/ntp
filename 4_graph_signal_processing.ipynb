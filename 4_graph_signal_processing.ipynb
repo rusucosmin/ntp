{
 "cells": [
  {
   "cell_type": "markdown",
   "metadata": {},
   "source": [
    "# [NTDS'18] milestone 4: graph signal processing\n",
    "[ntds'18]: https://github.com/mdeff/ntds_2018\n",
    "\n",
    "[Rodrigo Pena](https://people.epfl.ch/254838), [EPFL LTS2](http://lts2.epfl.ch)"
   ]
  },
  {
   "cell_type": "markdown",
   "metadata": {},
   "source": [
    "## Students\n",
    "\n",
    "* Team: `28`\n",
    "* Students: `Guillain, Léonore Valentine; Pase, Francesco; Rusu, Cosmin-Ionut; Zhuang, Ying`\n",
    "* Dataset: `Flight Routes`\n"
   ]
  },
  {
   "cell_type": "markdown",
   "metadata": {},
   "source": [
    "## Rules\n",
    "\n",
    "* Milestones have to be completed by teams. No collaboration between teams is allowed.\n",
    "* Textual answers shall be short. Typically one to two sentences.\n",
    "* Code has to be clean.\n",
    "* You cannot import any other library than we imported.\n",
    "* When submitting, the notebook is executed and the results are stored. I.e., if you open the notebook again it should show numerical results and plots. We won't be able to execute your notebooks.\n",
    "* The notebook is re-executed from a blank state before submission. That is to be sure it is reproducible. You can click \"Kernel\" then \"Restart & Run All\" in Jupyter."
   ]
  },
  {
   "cell_type": "markdown",
   "metadata": {},
   "source": [
    "## Objective\n",
    "\n",
    "The goal of this milestone is to do some Graph Signal Processing (GSP) on the data of your project.\n",
    "\n",
    "### A note about plotting\n",
    "\n",
    "There are several questions in this milestone that ask you to plot a signal on your network.\n",
    "There are several ways from which you could approach it.\n",
    "In all cases, compute the position of the nodes a single time at the beginning, as this is likely to be a costly operation.\n",
    "Using a single layout for all the graph plots will also make it easier to compare the plots.\n",
    "Indeed, the only thing changing between plots is the signal displayed.\n",
    "You can represent the features/labels lying on the graph via node **colors**.\n",
    "To do so, make sure to have a consistent color map throughout and remember to display a colorbar and scale in all plots, so that we can tell what numbers the colors represent.\n",
    "\n",
    "* An option is to use the **Laplacian eigenmaps** that you have seen in the previous milestone to embed your graph on the plane. For example:\n",
    "  ```\n",
    "  from matplotlib import pyplot as plt\n",
    "  plt.scatter(eigenvectors[:, 1], eigenvectors[:, 2], c=signal, alpha=0.5)\n",
    "  plt.colorbar()\n",
    "  ```\n",
    "* Another option is to use the plotting capabilities of **[NetworkX](https://networkx.github.io)**.\n",
    "  See the documentation of its [drawing methods](https://networkx.github.io/documentation/stable/reference/drawing.html).\n",
    "  For example:\n",
    "  ```\n",
    "  import networkx as nx\n",
    "  graph = nx.from_scipy_sparse_matrix(adjacency)\n",
    "  coords = nx.spring_layout(graph)  # Force-directed layout.\n",
    "  coords = eigenvectors[:, 1:3]  # Laplacian eigenmaps.\n",
    "  nx.draw_networkx_nodes(graph, coords, node_size=60, node_color=signal)\n",
    "  nx.draw_networkx_edges(graph, coords, alpha=0.3)\n",
    "  ```\n",
    "* Another option is to use the plotting capabilities of the **[PyGSP](https://github.com/epfl-lts2/pygsp)**, a Python package for Graph Signal Processing.\n",
    "  **Note that your are forbidden to use the PyGSP for anything else than plotting.**\n",
    "  See the documentation of its [plotting utilities](https://pygsp.readthedocs.io/en/stable/reference/plotting.html).\n",
    "  For example:\n",
    "  ```\n",
    "  import pygsp as pg\n",
    "  graph = pg.graphs.Graph(adjacency)\n",
    "  graph.set_coordinates('spring')  # Force-directed layout.\n",
    "  graph.set_coordinates(eigenvectors[:, 1:3])  # Laplacian eigenmaps.\n",
    "  graph.plot_signal(signal)\n",
    "  ```\n",
    "* Yet another option is to save your graph on disk, use **[Gephi](https://gephi.org)** externally, to visualize the graph, save the graph with the Gephi coordinates and finally load the nodes coordinates back into the notebook.\n",
    "\n",
    "We encourage you to try all the above methods before making your choice. Then be consistent and use only one throughout the milestone.\n",
    "NetworkX and PyGSP should already be installed in your environement. If that's not the case, install with `conda install networkx pygsp` (after activating the `ntds_2018` environment)."
   ]
  },
  {
   "cell_type": "markdown",
   "metadata": {},
   "source": [
    "## 0 - Load your network"
   ]
  },
  {
   "cell_type": "code",
   "execution_count": null,
   "metadata": {},
   "outputs": [],
   "source": [
    "%matplotlib inline"
   ]
  },
  {
   "cell_type": "markdown",
   "metadata": {},
   "source": [
    "If you get a `No module named 'pyunlocbox'` error when running the below cell, install the [pyunlocbox](https://github.com/epfl-lts2/pyunlocbox) with `conda install pyunlocbox` (after activating the `ntds_2018` environment)."
   ]
  },
  {
   "cell_type": "code",
   "execution_count": null,
   "metadata": {},
   "outputs": [],
   "source": [
    "import numpy as np\n",
    "from scipy import sparse\n",
    "import scipy.sparse.linalg\n",
    "from matplotlib import pyplot as plt\n",
    "from pyunlocbox import functions, solvers\n",
    "\n",
    "#only used as helper functions for plotting and loading the lables\n",
    "import pandas as pd\n",
    "import networkx as nx"
   ]
  },
  {
   "cell_type": "markdown",
   "metadata": {},
   "source": [
    "For this milestone, all we will need is a set of features/labels for each of the nodes on the network, as well as the Laplacian, $L,$ and Gradient, $\\nabla_G,$ matrices that you have computed for your network while working on milestone 3.\n",
    "\n",
    "Import those objects in the cell below (or recompute the Laplacian and Gradient from your stored adjacency matrix, if you wish).\n",
    "\n",
    "_Note_: If your features/labels are not floating-point numbers, please convert them. For example, if your data has labels \"cat\" and \"dog\" for nodes that represent cats or dogs, respectively, you may assign the number `1.0` for the label \"cat\" and the number `-1.0` for the label \"dog\".  "
   ]
  },
  {
   "cell_type": "code",
   "execution_count": null,
   "metadata": {},
   "outputs": [],
   "source": [
    "adjacency = np.load('adjacency.npy') # the adjacency matrix"
   ]
  },
  {
   "cell_type": "markdown",
   "metadata": {},
   "source": [
    "We take the time zones as lables as label:"
   ]
  },
  {
   "cell_type": "code",
   "execution_count": null,
   "metadata": {},
   "outputs": [],
   "source": [
    "features = pd.read_csv(\"features.csv\", index_col=0)"
   ]
  },
  {
   "cell_type": "markdown",
   "metadata": {},
   "source": [
    "Here we calculate the values needed in this homework: **graph, laplacian, the eigenvalues**"
   ]
  },
  {
   "cell_type": "code",
   "execution_count": null,
   "metadata": {},
   "outputs": [],
   "source": [
    "graph = nx.from_numpy_array(adjacency)\n",
    "largest_cc = max(nx.connected_components(graph), key=len)\n",
    "graph = graph.subgraph(largest_cc)\n",
    "n_nodes =  len(largest_cc) # the number of nodes in the network"
   ]
  },
  {
   "cell_type": "code",
   "execution_count": null,
   "metadata": {},
   "outputs": [],
   "source": [
    "laplacian_graph = nx.laplacian_matrix(graph)\n",
    "laplacian = laplacian_graph.todense()"
   ]
  },
  {
   "cell_type": "code",
   "execution_count": null,
   "metadata": {},
   "outputs": [],
   "source": [
    "eigenval, eigenvec = np.linalg.eigh(laplacian)"
   ]
  },
  {
   "cell_type": "markdown",
   "metadata": {},
   "source": [
    "eigenvalues are already sorted! proof:"
   ]
  },
  {
   "cell_type": "code",
   "execution_count": null,
   "metadata": {},
   "outputs": [],
   "source": [
    "(~(sorted(eigenval) == eigenval)).sum()"
   ]
  },
  {
   "cell_type": "markdown",
   "metadata": {},
   "source": [
    "Getting the **labels** that we will use in the homework, we will use the **timezone**:"
   ]
  },
  {
   "cell_type": "code",
   "execution_count": null,
   "metadata": {},
   "outputs": [],
   "source": [
    "labels = np.array(features.iloc[list(largest_cc)].Timezone.tolist())"
   ]
  },
  {
   "cell_type": "markdown",
   "metadata": {},
   "source": [
    "getting the **gradient**:"
   ]
  },
  {
   "cell_type": "markdown",
   "metadata": {},
   "source": [
    "## 1 - Graph Fourier Transform\n",
    "\n",
    "In this section we will observe how your feature/label vector looks like in the \"Graph Fourier\" domain."
   ]
  },
  {
   "cell_type": "markdown",
   "metadata": {
    "inputHidden": false,
    "outputHidden": false
   },
   "source": [
    "### Question 1\n",
    "\n",
    "Compute the Fourier basis vectors and the Laplacian eigenvalues. Make sure to order those from smaller to larger, $\\lambda_0 \\leq \\lambda_1 \\leq \\dots \\leq \\lambda_{N-1},$ and use the same ordering for the Fourier basis vectors."
   ]
  },
  {
   "cell_type": "code",
   "execution_count": null,
   "metadata": {
    "inputHidden": false,
    "outputHidden": false
   },
   "outputs": [],
   "source": [
    "# sort the eigenvalues\n",
    "e = eigenval # Ordered Laplacian eigenvalues.\n",
    "U = eigenvec # Ordered graph Fourier basis."
   ]
  },
  {
   "cell_type": "markdown",
   "metadata": {},
   "source": [
    "Plot the first 3 and the last Fourier basis vectors as signals on your graph. Clearly indicate which plot belongs to which basis vector.\n",
    "\n",
    "**answer**\n",
    "\n",
    "We plot it as a signal, encoding the value as color, and embedding the graph with geographical coordiantes."
   ]
  },
  {
   "cell_type": "code",
   "execution_count": null,
   "metadata": {},
   "outputs": [],
   "source": [
    "from pygsp import graphs, filters, plotting\n",
    "import pygsp as pg\n",
    "\n",
    "adjacency = nx.to_numpy_array(graph)\n",
    "\n",
    "G = pg.graphs.Graph(adjacency)\n",
    "G.compute_differential_operator()"
   ]
  },
  {
   "cell_type": "code",
   "execution_count": null,
   "metadata": {},
   "outputs": [],
   "source": [
    "G.D.todense()"
   ]
  },
  {
   "cell_type": "code",
   "execution_count": null,
   "metadata": {},
   "outputs": [],
   "source": [
    "# -*- coding: utf-8 -*-\n",
    "\n",
    "import numpy as np\n",
    "from scipy import sparse\n",
    "\n",
    "from pygsp import utils\n",
    "\n",
    "\n",
    "def compute_differential_operator(self):\n",
    "    r\"\"\"Compute the graph differential operator (cached).\n",
    "\n",
    "    The differential operator is a matrix such that\n",
    "\n",
    "    .. math:: L = D^T D,\n",
    "\n",
    "    where :math:`D` is the differential operator and :math:`L` is the graph\n",
    "    Laplacian. It is used to compute the gradient and the divergence of a\n",
    "    graph signal, see :meth:`grad` and :meth:`div`.\n",
    "\n",
    "    The result is cached and accessible by the :attr:`D` property.\n",
    "\n",
    "    See also\n",
    "    --------\n",
    "    grad : compute the gradient\n",
    "    div : compute the divergence\n",
    "\n",
    "    Examples\n",
    "    --------\n",
    "    >>> G = graphs.Logo()\n",
    "    >>> G.N, G.Ne\n",
    "    (1130, 3131)\n",
    "    >>> G.compute_differential_operator()\n",
    "    >>> G.D.shape == (G.Ne, G.N)\n",
    "    True\n",
    "\n",
    "    \"\"\"\n",
    "\n",
    "    v_in, v_out, weights = self.get_edge_list()\n",
    "\n",
    "    n = len(v_in)\n",
    "    Dr = np.concatenate((np.arange(n), np.arange(n)))\n",
    "    Dc = np.empty(2*n)\n",
    "    Dc[:n] = v_in\n",
    "    Dc[n:] = v_out\n",
    "    Dv = np.empty(2*n)\n",
    "\n",
    "    if self.lap_type == 'combinatorial':\n",
    "        Dv[:n] = np.sqrt(weights)\n",
    "        Dv[n:] = -Dv[:n]\n",
    "    elif self.lap_type == 'normalized':\n",
    "        Dv[:n] = np.sqrt(weights / self.dw[v_in])\n",
    "        Dv[n:] = -np.sqrt(weights / self.dw[v_out])\n",
    "    else:\n",
    "        raise ValueError('Unknown lap_type {}'.format(self.lap_type))\n",
    "\n",
    "    self._D = sparse.csc_matrix((Dv, (Dr, Dc)), shape=(n, self.N))"
   ]
  },
  {
   "cell_type": "markdown",
   "metadata": {},
   "source": [
    "https://pygsp.readthedocs.io/en/stable/reference/graphs.html?highlight=gradient#pygsp.graphs.Graph.compute_differential_operator"
   ]
  },
  {
   "cell_type": "markdown",
   "metadata": {},
   "source": [
    "get geographical embedding of our graph:"
   ]
  },
  {
   "cell_type": "code",
   "execution_count": null,
   "metadata": {},
   "outputs": [],
   "source": [
    "pos = features.iloc[list(largest_cc)].apply(lambda x :[x.Longitude, x.Latitude], axis=1).to_dict()"
   ]
  },
  {
   "cell_type": "code",
   "execution_count": null,
   "metadata": {},
   "outputs": [],
   "source": [
    "def draw_map(node_color, cmap=plt.cm.Accent, width=0.01, create_fig=True, **kwargs):\n",
    "    \"\"\"Draws our graph in geographical embedding with for a given coloring\"\"\"\n",
    "    if create_fig:\n",
    "        fig = plt.figure(figsize=(10 , 5))\n",
    "    \n",
    "    nx.draw(graph, pos=pos, node_size=[10, 10], node_color=node_color, width = width, \n",
    "        cmap=cmap, **kwargs)"
   ]
  },
  {
   "cell_type": "code",
   "execution_count": null,
   "metadata": {
    "scrolled": false
   },
   "outputs": [],
   "source": [
    "# Your code here.\n",
    "relevant_vectors = list(range(3))\n",
    "for i in relevant_vectors:\n",
    "    \n",
    "    f = np.array(np.squeeze(U[:, i]))[0]\n",
    "    draw_map(list(f), vmin=-1, vmax=1)\n",
    "    plt.title(f'Eigenvector of eigenvalue $\\lambda_{i}$ = {e[i]:9.3f}')"
   ]
  },
  {
   "cell_type": "code",
   "execution_count": null,
   "metadata": {
    "scrolled": false
   },
   "outputs": [],
   "source": [
    "relevant_vectors = list(range(3))\n",
    "\n",
    "for i in relevant_vectors:\n",
    "    f = np.array(np.squeeze(U[:, -(i+1)]))[0]\n",
    "    draw_map(f, vmin=-1, vmax=1)\n",
    "    plt.title('Eigenvector of eigenvalue $\\lambda_{'+str(n_nodes-i)+ '}$ = '+str(e[-(i+1)])[:5])"
   ]
  },
  {
   "cell_type": "markdown",
   "metadata": {},
   "source": [
    "### Question 2\n",
    "\n",
    "What can you observe in terms of local variations when comparing the basis vectors corresponding to the smallest eigenvalues to those corresponding to the largest eigenvalue? How would this justify the interpretation of the eigenvalues as \"graph frequencies\"?"
   ]
  },
  {
   "cell_type": "markdown",
   "metadata": {},
   "source": [
    "**Your answer here.**\n",
    "\n",
    "#TOCHECK\n",
    "\n",
    "By looking at the plots above we see that the first eigenvectors have rather uniform values over the network, whereas the last eigenvectors present fast varying signals over the entire graph. \n",
    "\n",
    "Such beahviour rooted in the problem those vectors solve. We know that the eigenvector associated to the smallest eigenvalue ($\\lambda_0 = 0$) is the constant one, and it is indeed the signal that minimizes the value : $ f^{\\top} \\mathbf{L} f = \\sum_{i\\sim j} \\mathbf{W}(i,k)(f[i] - f]j])^2$, which contains the information on the smoothness of a signal $f$. \n",
    "\n",
    "In general, the i-th eigenvector minimizes this quadratic form $ f^{\\top} \\mathbf{L}f$ (Dirichlet form) with the additional constraint of being orthogonal (or even orthonormal) to the first $(i-1)$ eigenvectors. \n",
    "\n",
    "Indeed we can infer that higher eigenvectors (those related to higher eigenvalues) will vary faster and faster presenting in the graph domain (that is a general non-Euclidian domain) behaviours closely related to those of higer frequencies in the Real domain (with the Euclidean norm)."
   ]
  },
  {
   "cell_type": "markdown",
   "metadata": {},
   "source": [
    "### Question 3\n",
    "\n",
    "Implement a function that returns the Graph Fourier Transform (GFT) of a given vector $x \\in \\mathbb{R}^{N},$ with respect to your graph, and a function that computes the corresponding inverse GFT (iGFT)."
   ]
  },
  {
   "cell_type": "code",
   "execution_count": null,
   "metadata": {
    "inputHidden": false,
    "outputHidden": false
   },
   "outputs": [],
   "source": [
    "def GFT(x):\n",
    "    return U.T @ x\n",
    "\n",
    "def iGFT(x):\n",
    "    return U @ x"
   ]
  },
  {
   "cell_type": "markdown",
   "metadata": {},
   "source": [
    "### Question 4\n",
    "\n",
    "Plot your feature/label vector as a signal on your graph"
   ]
  },
  {
   "cell_type": "code",
   "execution_count": null,
   "metadata": {},
   "outputs": [],
   "source": [
    "draw_map(labels, plt.cm.hsv)"
   ]
  },
  {
   "cell_type": "markdown",
   "metadata": {},
   "source": [
    "Plot the absolute values of the GFT of your feature/label signal as a function of the graph eigenvalues. Make sure to add a marker indicating the position of each graph eigenvalue, and remember to properly name the axes."
   ]
  },
  {
   "cell_type": "code",
   "execution_count": null,
   "metadata": {
    "inputHidden": false,
    "outputHidden": false
   },
   "outputs": [],
   "source": [
    "# Plot our features as eigenvalues functions\n",
    "fig = plt.figure(figsize=(20 , 8))\n",
    "\n",
    "#get label to correct dimension\n",
    "label_vector = np.expand_dims(labels, 1)\n",
    "\n",
    "plt.title('Label signal as function of graph eigenvalue')\n",
    "#we just want the absolute values\n",
    "plt.plot(eigenval, abs(GFT(label_vector)), marker='.', markeredgecolor='red')\n",
    "plt.xlabel('Eigenvalues')\n",
    "\n",
    "_ = plt.ylabel('response')"
   ]
  },
  {
   "cell_type": "markdown",
   "metadata": {},
   "source": [
    "We will also plot the log-log plot to see more about the dense cluster in the first one hundred eigenvalues. Because we also have the 0 eigenvalue, we will add 1 to all the eigenvalues (so that the logplot is more uniform)."
   ]
  },
  {
   "cell_type": "code",
   "execution_count": null,
   "metadata": {},
   "outputs": [],
   "source": [
    "# Plot our features as eigenvalues functions\n",
    "fig = plt.figure(figsize=(20 , 8))\n",
    "\n",
    "#get label to correct dimension\n",
    "label_vector = np.expand_dims(labels, 1)\n",
    "\n",
    "plt.title('Label signal as function of graph eigenvalue')\n",
    "#we just want the absolute values\n",
    "plt.plot(eigenval + 1, abs(GFT(label_vector)), marker='.', markeredgecolor='red')\n",
    "plt.xlabel('Eigenvalues')\n",
    "plt.yscale('log')\n",
    "plt.xscale('log')\n",
    "\n",
    "_ = plt.ylabel('response')"
   ]
  },
  {
   "cell_type": "markdown",
   "metadata": {},
   "source": [
    "### Question 5\n",
    "\n",
    "Discuss the behavior of the GFT that you plotted in the last question via comparing the plot of your label signal and those of the Fourier basis of Question 1. Would you consider your labels a \"low-pass\" or \"high-pass\" signal, or yet something else entirely?"
   ]
  },
  {
   "cell_type": "markdown",
   "metadata": {},
   "source": [
    "**Your answer here.**\n",
    "\n",
    "\n",
    "#TODO: compare to label signals of the Fourier basis of Question 1 after plotting__\n",
    "\n",
    "By costruction our signal is uniform among nodes belonging to similar geographical poistions (longitude) and varies among nodes that are more distant from each others. \n",
    "\n",
    "Such beahviour is also encoded in the first eigenvectors plotted before: the reason is that even if there are flight routes between airports that could be far one from each other, the network structure is such that nodes belonging to closed geographic locatiotions are more connected. \n",
    "\n",
    "Given that, signals related to the first eigenvectors has to be uniform in local areas and are allowed to vary just on distant nodes, encoding in this way smooth signals over the graph (as explained in Q2). We can also observe the same thing in the spectral (eigenvalues) domain: the \"energy\" of the GFT of our signal is mostly  distributed in the low eigenvalues, indicating that our signal is almost entirely composed by a linear combination the first eigenvectors."
   ]
  },
  {
   "cell_type": "markdown",
   "metadata": {
    "code_folding": []
   },
   "source": [
    "## 2 - Filtering on graphs\n",
    "\n",
    "In this section we will check how filtered Dirac impulses diffuse on your graph."
   ]
  },
  {
   "cell_type": "markdown",
   "metadata": {
    "inputHidden": false,
    "outputHidden": false
   },
   "source": [
    "### Question 6 \n",
    "\n",
    "Implement the following three filter kernels and the graph filtering operation.\n",
    "\n",
    "- The **heat kernel** is supposed to take in a vector of eigenvalues `e` and a parameter `t` and output a vector of evaluations of the heat kernel at those eigenvalues (see the course slides for help).\n",
    "- The **inverse filter** kernel is supposed to take in a vector of eigenvalues `e` and a parameter `t` and implement spectrally the  filter defined in the node domain by $f_{out}  = (I + t L)^{-1} f_{in},$ where $f_{in}, f_{out} \\in \\mathbb{R}^{N}$ are, repectively, the input and output signals to the filter.\n",
    "- The **rectangle kernel** takes in a vector of eigenvalues `e` and parameters `l_min` and `l_max` and returns `1.0` at coordinates satisfying $(e[l] \\geq l_{min}) \\wedge (e[l] \\leq l_{max}),$ and `0.0` otherwise.\n",
    "- The **graph filtering** operation takes a graph signal $x \\in \\mathbb{R}^{N}$, a spectral graph `kernel` and a set of keyworded variables, and returns the corresponding filtered signal.\n",
    "    - _Hint:_ Remember that you have implemented the `GFT` and `iGFT` operations in Question 3.\n",
    "    - The `**kwargs` is a placeholder to collect supplementary pairs of keyword-values that are not known by the implementation before execution time.\n",
    "      The `kwargs` variable is a dictionary whose keyes and values are the parameter names and values.\n",
    "      This is useful to allow both `graph_filter(x, heat_kernel, tau=1.0)` and `graph_filter(x, rectangle_kernel, lambda_min=0.0, lambda_max=1.0)` to be valid calls from the same implementation.\n",
    "      One can then defer the keyword-value assignment to the `kernel` call: `foo = kernel(bar, **kwargs)`."
   ]
  },
  {
   "cell_type": "code",
   "execution_count": null,
   "metadata": {
    "inputHidden": false,
    "outputHidden": false
   },
   "outputs": [],
   "source": [
    "def heat_kernel(e, t):  \n",
    "    #normalize for better results\n",
    "    return  np.exp((-t * e/e[-1]))\n",
    "\n",
    "def inverse_kernel(e, t):\n",
    "    #point to point inversion\n",
    "    return 1/(1 + t*e)\n",
    "\n",
    "def rectangle_kernel(e, l_min, l_max):\n",
    "    return ((e >= l_min) & (e<= l_max))\n",
    "\n",
    "def graph_filter(x, kernel, **kwargs):\n",
    "    #compute filtered signal in spectral domain and then return to graph domain\n",
    "    \n",
    "    #reshape to gt correct dimensions\n",
    "    gft = GFT(x)\n",
    "    gft = np.array(np.squeeze(gft))[0]\n",
    "    \n",
    "    k = kernel(e, **kwargs)\n",
    "    return iGFT(np.expand_dims(gft * k, 1))"
   ]
  },
  {
   "cell_type": "markdown",
   "metadata": {},
   "source": [
    "### Question 7\n",
    "\n",
    "Plot all three filter kernels in the spectral domain. Remember to properly name the axes and title the plots. Choose filter parameters that best approximate the behavior of the GFT of your feature/label signal (as seen in Question 4)."
   ]
  },
  {
   "cell_type": "code",
   "execution_count": null,
   "metadata": {},
   "outputs": [],
   "source": [
    "def plot_filtered(filtered_signal, e, title, log = False):\n",
    "    plt.figure(figsize=(10,5))\n",
    "    plt.plot(e, GFT(filtered_signal))\n",
    "    plt.xlabel(\"graph frequency\")\n",
    "    if log:\n",
    "        plt.xscale('log')\n",
    "    plt.ylabel(\"value\")\n",
    "    plt.title(title)\n",
    "    plt.show()"
   ]
  },
  {
   "cell_type": "markdown",
   "metadata": {},
   "source": [
    "as mentioned before, the first eigenvectors contain the most information, hence we preform low pass flitering:\n",
    "#TODO"
   ]
  },
  {
   "cell_type": "code",
   "execution_count": null,
   "metadata": {
    "inputHidden": false,
    "outputHidden": false,
    "scrolled": false
   },
   "outputs": [],
   "source": [
    "# Your code here.\n",
    "\n",
    "filtered_signal = graph_filter(label_vector, heat_kernel, t=2000)\n",
    "plot_filtered(filtered_signal, e, 'Heat Kernel')\n",
    "\n",
    "filtered_signal = graph_filter(label_vector, inverse_kernel, t=5)\n",
    "plot_filtered(filtered_signal, e, 'Inverse Kernel')\n",
    "\n",
    "filtered_signal = graph_filter(label_vector, rectangle_kernel, l_min=2, l_max=5)\n",
    "plot_filtered(filtered_signal, e, 'Rectangle Kernel')"
   ]
  },
  {
   "cell_type": "markdown",
   "metadata": {},
   "source": [
    "Again, we will use a log scale for the xaxis to 'zoom' into the cluttered part."
   ]
  },
  {
   "cell_type": "code",
   "execution_count": null,
   "metadata": {},
   "outputs": [],
   "source": [
    "filtered_signal = graph_filter(label_vector, heat_kernel, t=2000)\n",
    "plot_filtered(filtered_signal, e, 'Heat Kernel', log=True)\n",
    "\n",
    "filtered_signal = graph_filter(label_vector, inverse_kernel, t=5)\n",
    "plot_filtered(filtered_signal, e, 'Inverse Kernel', log=True)\n",
    "\n",
    "filtered_signal = graph_filter(label_vector, rectangle_kernel, l_min=2, l_max=5)\n",
    "plot_filtered(filtered_signal, e, 'Rectangle Kernel', log=True)"
   ]
  },
  {
   "cell_type": "markdown",
   "metadata": {},
   "source": [
    "### Question 8\n",
    "\n",
    "Consider two Dirac impulses arbitrarily placed on your graph. Plot their filtered versions by the three filter kernels implemented in Question 6."
   ]
  },
  {
   "cell_type": "code",
   "execution_count": null,
   "metadata": {
    "inputHidden": false,
    "outputHidden": false,
    "scrolled": false
   },
   "outputs": [],
   "source": [
    "# Your code here.\n",
    "f = np.zeros((n_nodes, 1))\n",
    "peak_position = np.random.choice(graph.nodes,size=2)\n",
    "f[peak_position] = 1000\n",
    "\n",
    "plot_filtered(f, e, 'GFT Dirac')\n",
    "draw_map(f.flatten(), plt.cm.magma_r, edge_color='grey')\n",
    "plt.title('Dirac delta at position ' + str(peak_position))\n",
    "plt.show()"
   ]
  },
  {
   "cell_type": "code",
   "execution_count": null,
   "metadata": {},
   "outputs": [],
   "source": [
    "def reshape(x):\n",
    "    return np.array(np.squeeze(x))[0]"
   ]
  },
  {
   "cell_type": "code",
   "execution_count": null,
   "metadata": {
    "scrolled": false
   },
   "outputs": [],
   "source": [
    "signal = graph_filter(f, heat_kernel, t=2000)\n",
    "plot_filtered(signal, e, 'Heat Kernel')\n",
    "draw_map(reshape(signal), plt.cm.magma_r, edge_color='grey')\n",
    "plt.show()\n",
    "\n",
    "\n",
    "signal = graph_filter(f, inverse_kernel, t=5)\n",
    "plot_filtered(signal, e, 'Inverse Kernel')\n",
    "draw_map(reshape(signal), plt.cm.magma_r, edge_color='grey')\n",
    "plt.show()\n",
    "\n",
    "\n",
    "\n",
    "signal = graph_filter(f, rectangle_kernel, l_min=0, l_max=5)\n",
    "plot_filtered(signal, e, 'Rectangle Kernel')\n",
    "draw_map(reshape(signal), plt.cm.magma_r, edge_color='grey')\n",
    "plt.show()\n"
   ]
  },
  {
   "cell_type": "markdown",
   "metadata": {},
   "source": [
    "Comment on the \"diffusion\" of the Diracs induced by the filters. What does it say about the \"communication\" of information across your network? Relate that to the network connectivity measures that you analyzed during the previous milestones."
   ]
  },
  {
   "cell_type": "markdown",
   "metadata": {
    "inputHidden": false,
    "outputHidden": false
   },
   "source": [
    "**Your answer here.**\n",
    "\n",
    "#TODO: comment on difference between filters. \n",
    "\n",
    "The diffusion strongly depends on the initial location of the diracs. This is due to the star like structure of our graph. If the diract lies close to a hub or all on the hub, the signal will be distributed through out the graph, no matter the filter. However, if the dirac lies in a more isolated location, then the signal will barely defuse, due to the few connections.\n",
    "\n",
    "#TODO"
   ]
  },
  {
   "cell_type": "markdown",
   "metadata": {},
   "source": [
    "## 3 - De-noising\n",
    "\n",
    "In this section we will add some centered Gaussian noise to your feature/label signal and attempt to recover it."
   ]
  },
  {
   "cell_type": "markdown",
   "metadata": {},
   "source": [
    "### Question 9\n",
    "\n",
    "In the cell below, set the noise variance $\\sigma^2$ by making sure that the signal-to-noise ratio $SNR = \\frac{\\operatorname{Var}(\\text{labels})}{\\sigma^2}$ is about  $1.5$.\n",
    "\n",
    "_Note:_ Actually, you might want to play with the noise variance here and set it to different values and see how the denoising filters behave."
   ]
  },
  {
   "cell_type": "code",
   "execution_count": null,
   "metadata": {
    "inputHidden": false,
    "outputHidden": false
   },
   "outputs": [],
   "source": [
    "noise_variance = 24\n",
    "noisy_measurements = labels + noise_variance * np.random.randn(n_nodes)"
   ]
  },
  {
   "cell_type": "code",
   "execution_count": null,
   "metadata": {},
   "outputs": [],
   "source": [
    "SNR = np.var(labels)/noise_variance\n",
    "print(f'SNR: {SNR}')"
   ]
  },
  {
   "cell_type": "code",
   "execution_count": null,
   "metadata": {},
   "outputs": [],
   "source": [
    "plt.figure(figsize=(12, 5))\n",
    "plt.subplot(121)\n",
    "plt.title('Noisy signal')\n",
    "plt.plot(noisy_measurements)\n",
    "plt.subplot(122)\n",
    "plt.title('True signal')\n",
    "plt.plot(labels)"
   ]
  },
  {
   "cell_type": "markdown",
   "metadata": {},
   "source": [
    "### Question 10\n",
    "\n",
    "In the denoising setting, a common graph signal processing assumption is that the signal $z$ that we want to recover is \"smooth\", in the sense that $\\|\\nabla_G z\\|_2 = \\sqrt{z^{\\top} L z}$ is small, while remaining \"close\" to the measurements that we start with. This leads to denoising by solving the following optimization problem:\n",
    "\n",
    "$$\n",
    "z^\\star = \\text{arg} \\, \\underset{z \\in \\mathbb{R}^{N}}{\\min} \\, \\|z - y\\|_2^2 + \\gamma z^{\\top} L z, \n",
    "$$\n",
    "\n",
    "where $y \\in \\mathbb{R}^{N}$ is the vector of noisy measurements.\n",
    "\n",
    "Derive the close form solution to this problem giving $z^\\star$ as a function of $y$, $\\gamma$ and $L$. Does this solution correspond to any graph filtering operation that you know?"
   ]
  },
  {
   "cell_type": "markdown",
   "metadata": {},
   "source": [
    "**Your answer here.**\n",
    "\n",
    "**TOCHECK**\n",
    "\n",
    "The function $: f = \\|z-y\\|_2^{2}+ \\gamma z^\\top L z$ is minimised at the point given by solving the equation\n",
    "\n",
    "$$\\frac{\\partial f}{\\partial z} = 0$$\n",
    "\n",
    "Since\n",
    "\n",
    "$$ \\frac{\\partial f}{\\partial z} = 2(z-y)^\\top + 2\\gamma z^\\top L $$ we can also rewrite as:\n",
    "\n",
    "$$ (2(z-y)^\\top + 2\\gamma z^\\top L)^\\top = 2z -2y + 2\\gamma Lz $$ because of transposition rule and the simmetry of $L$. We get now that $z^*$ is the solution fo the following equation:\n",
    "\n",
    "$$ z -y + \\gamma Lz = 0 $$\n",
    "\n",
    "$$ z = (I + \\gamma L)^{-1} y $$\n",
    "\n",
    "Now, given that $L$ is symmetric, as seen in class we can write the function $g(L) = (I + \\gamma L)^{-1}$ as a function of the eigenvalues (Borel functional calculus for symmetric matrices) $g(L) = \\sum_{l \\in \\mathcal(S)(L)} f(\\lambda_l)\\mathbf{u}_l \\mathbf{u}_l^\\top$. We obtain:\n",
    "\n",
    "$$ z^* = (I + \\gamma L)^{-1} y = \\sum_{l \\in \\mathcal(S)(L)} f(\\lambda_l) u_l u_l^\\top y =  \\sum_{l \\in \\mathcal(S)(L)} (\\frac{1}{1 + \\gamma \\lambda_l}) \\hat{y}(\\lambda_l) u_l $$.\n",
    "\n",
    "We can easily see that such filter is a low-pass filter and it is indeed the Inverse filter of Q6 with $t=\\gamma$.\n"
   ]
  },
  {
   "cell_type": "markdown",
   "metadata": {},
   "source": [
    "### Question 11\n",
    "\n",
    "Now, denoise the noisy measurements by passing them through the filters that you implemented in Question 6. Choose the filter parameters based on the behavior of the GFT of your original label signal (this is the prior knowledge that you input to the problem)."
   ]
  },
  {
   "cell_type": "code",
   "execution_count": null,
   "metadata": {
    "inputHidden": false,
    "outputHidden": false
   },
   "outputs": [],
   "source": [
    "s_heat_denoised = graph_filter(noisy_measurements, heat_kernel, t=2000)\n",
    "z_heat_denoised = GFT(s_heat_denoised)\n",
    "\n",
    "s_inv_denoised = graph_filter(noisy_measurements, inverse_kernel, t=5)\n",
    "z_inv_denoised = GFT(s_heat_denoised)\n",
    "\n",
    "s_rect_denoised = graph_filter(noisy_measurements, rectangle_kernel, l_min=2, l_max=5)\n",
    "z_rect_denoised = GFT(s_heat_denoised)"
   ]
  },
  {
   "cell_type": "markdown",
   "metadata": {},
   "source": [
    "Plot, on your graph, the original label signal, the noisy measurements, and the three denoised version obtained above. Report on each plot the value of the corresponding relative error \n",
    "$$\n",
    "\\text{rel-err} = \\frac{\\|\\text{labels} - z \\|_2}{\\|\\text{labels}\\|_2},\n",
    "$$\n",
    "where $z$ is the plotted signal."
   ]
  },
  {
   "cell_type": "code",
   "execution_count": null,
   "metadata": {},
   "outputs": [],
   "source": [
    "def rel_err(labels, z):\n",
    "    return np.linalg.norm(labels-z, ord=2)/np.linalg.norm(labels, ord=2)"
   ]
  },
  {
   "cell_type": "code",
   "execution_count": null,
   "metadata": {},
   "outputs": [],
   "source": [
    "print(f'Relative error true labels, noisy mesurement : {rel_err(labels, noisy_measurements):0.5}')\n",
    "print(f'Relative error true labels, heat kernel :{rel_err(labels, reshape(s_heat_denoised)):0.5}')\n",
    "print(f'Relative error true labels, inverse kernel :{rel_err(labels, reshape(s_inv_denoised)):0.5}')\n",
    "print(f'Relative error true labels, rectangle kernel :{rel_err(labels, reshape(s_rect_denoised)):0.5}')"
   ]
  },
  {
   "cell_type": "code",
   "execution_count": null,
   "metadata": {
    "inputHidden": false,
    "outputHidden": false,
    "scrolled": false
   },
   "outputs": [],
   "source": [
    "# Your code here.\n",
    "relevant_vectors = [labels, noisy_measurements, s_heat_denoised, s_inv_denoised, s_rect_denoised]\n",
    "titles = ['Original Signal', 'Noisy Signal', 'Heat kernel denoised signal', 'Inversed kernel denoised signal', \n",
    "          'rectangle kernel denoised signal']\n",
    "\n",
    "for ind, signal in enumerate(relevant_vectors):\n",
    "    if ind > 1:\n",
    "        f = reshape(signal)\n",
    "    else: \n",
    "        f = signal\n",
    "    \n",
    "    draw_map(np.ceil(f), plt.cm.hsv)\n",
    "    plt.title(titles[ind])"
   ]
  },
  {
   "cell_type": "markdown",
   "metadata": {},
   "source": [
    "Finally, overlay on the same plot the GFT of all five signals above."
   ]
  },
  {
   "cell_type": "code",
   "execution_count": null,
   "metadata": {},
   "outputs": [],
   "source": [
    "plt.figure(figsize=(15, 5))\n",
    "plt.plot(eigenval, reshape(GFT(labels)))\n",
    "plt.plot(eigenval, reshape(GFT(noisy_measurements)), alpha = 0.7)\n",
    "plt.plot(eigenval, z_heat_denoised, alpha=0.7)\n",
    "plt.plot(eigenval, z_rect_denoised, alpha=0.5)\n",
    "plt.plot(eigenval, z_inv_denoised, alpha=0.5)\n",
    "plt.legend(['true signal', 'noisy signal', 'heat', 'rect', 'inv'])\n",
    "plt.title('Overlay of all signals')"
   ]
  },
  {
   "cell_type": "markdown",
   "metadata": {},
   "source": [
    "### Question 12\n",
    "\n",
    "Comment on which denoised version seems to best match the original label signal. What is the underlying assumption behind the three filtering approaches? Do you think it holds for your label signal? Why?"
   ]
  },
  {
   "cell_type": "markdown",
   "metadata": {},
   "source": [
    "**Your answer here.**\n",
    "\n",
    "#TODO\n",
    "\n",
    "We can clearly see that the rectangle kernel does **not** match our signal. Both the inverse and heat kernel preform similarly. This makes sense as ____.\n",
    "\n",
    "The heat kernel matches best due the to the exponential decrease structure our orignal signal has in the GFT domain."
   ]
  },
  {
   "cell_type": "markdown",
   "metadata": {
    "ExecuteTime": {
     "end_time": "2018-08-31T13:05:59.301384Z",
     "start_time": "2018-08-31T13:05:59.297336Z"
    }
   },
   "source": [
    "## 4 - Transductive learning\n",
    "\n",
    "It is often the case in large networks that we can only afford to query properties/labels on a small subset of nodes. Nonetheless, if the underlying labels signal is \"regular\" enough, we might still be able to recover a good approximation of it by solving an offline variational problem, with constraints on the values of the measured nodes. \n",
    "\n",
    "In this section, we will be interested in solving such transductive learning problems by minimizing a (semi-) p-norm of the graph gradient applied to the signal of interest:\n",
    "\n",
    "$$\n",
    "\\text{arg} \\, \\underset{z|_S = y}{\\min} \\|\\nabla_G z\\|_p^p,\n",
    "$$\n",
    "\n",
    "where $S$ is the set of measured nodes.\n",
    "\n",
    "In English, we can say that we are looking for solutions with small \"aggregated local variations\", as measured by $\\|\\nabla_G z\\|_p^p = \\sum_{i=1}^{n} \\sum_{j=1}^{n} \\left( \\sqrt{W_{ij}} |z[i] - z[j]| \\right)^p,$ while satisfying the measurement constraints $z[i] = y[i]$ for $i \\in S.$\n",
    "\n",
    "We will work with two cases, according to the choices $p=1$ or $p=2.$ For $p=1,$ the problem is known as \"interpolation by graph total-variation minimization,\" whereas for $p=2$ it is sometimes called \"interpolation by Tikhonov regularization\".\n",
    "\n",
    "In order to solve these variational problems with the black-box solver provided to you, you will use the [pyunlocbox](https://pyunlocbox.readthedocs.io). This toolbox implements iterative solvers based on so-called [\"proximal-splitting\"](https://en.wikipedia.org/wiki/Proximal_gradient_method) methods."
   ]
  },
  {
   "cell_type": "markdown",
   "metadata": {},
   "source": [
    "### Question 13\n",
    "\n",
    "Throughout this section, we will consider only a binarized version of your label signal. If your variable `labels` currently has values other than $\\{-1, 1\\},$ threshold them so that those are the only values taken in this vector. This can be done for example by choosing a number $t \\in \\mathbb{R}$ and then setting $\\text{labels_bin}[i] = 1$ if $\\text{labels}[i] \\geq t$ and $\\text{labels_bin}[i] = 0$ otherwise."
   ]
  },
  {
   "cell_type": "code",
   "execution_count": null,
   "metadata": {},
   "outputs": [],
   "source": [
    "def get_labels(x):\n",
    "    if x < 1:\n",
    "        return 1\n",
    "    else:\n",
    "        return -1\n",
    "    \n",
    "features.Timezone.map(get_labels).value_counts()"
   ]
  },
  {
   "cell_type": "code",
   "execution_count": null,
   "metadata": {
    "inputHidden": false,
    "outputHidden": false
   },
   "outputs": [],
   "source": [
    "labels_bin = np.array(features.iloc[list(largest_cc)].Timezone.map(get_labels).tolist())"
   ]
  },
  {
   "cell_type": "markdown",
   "metadata": {},
   "source": [
    "Now, subsample this binarized label signal by $70\\%$ by choosing, uniformly at random, $30\\%$ of the nodes whose labels we will keep.\n",
    "\n",
    "You will do this by computing a \"measurement mask\" vector `w` with `1.0`'s at the measured coordinates, and $0.0$'s otherwise."
   ]
  },
  {
   "cell_type": "code",
   "execution_count": null,
   "metadata": {
    "inputHidden": false,
    "outputHidden": false
   },
   "outputs": [],
   "source": [
    "mn_ratio = 0.3\n",
    "m = int(mn_ratio * n_nodes) "
   ]
  },
  {
   "cell_type": "code",
   "execution_count": null,
   "metadata": {},
   "outputs": [],
   "source": [
    "#choose 30 percent of labeles to keep\n",
    "lables_to_keep = np.random.choice(np.arange(n_nodes), m, replace=False)\n",
    "#set 0 and 1\n",
    "alls_nodes = np.zeros(n_nodes, dtype=int)\n",
    "alls_nodes[lables_to_keep]  = 1\n",
    "print(f'Percentage of kept nodes : {alls_nodes.sum()/alls_nodes.shape[0]*100: 0.4}')"
   ]
  },
  {
   "cell_type": "code",
   "execution_count": null,
   "metadata": {},
   "outputs": [],
   "source": [
    "w = alls_nodes.copy() # Your code here."
   ]
  },
  {
   "cell_type": "markdown",
   "metadata": {},
   "source": [
    "Plot the subsampled signal on the graph. _Hint:_ you might want to set to `numpy.nan` the values of the un-measured nodes for a cleaner plot."
   ]
  },
  {
   "cell_type": "code",
   "execution_count": null,
   "metadata": {},
   "outputs": [],
   "source": [
    "draw_map(labels_bin*np.where(w == 0, np.nan, 1), plt.cm.Set1, vmin=-1, vmax=1, width=0.1)"
   ]
  },
  {
   "cell_type": "markdown",
   "metadata": {},
   "source": [
    "### Interlude\n",
    "\n",
    "For the solution of the variational problems you can use the following function as a \"black-box\". \n",
    "\n",
    "You will just need to provide a `gradient` matrix (which you should already have from Section 0), and an orthogonal projection operator `P` onto the span of the measured coordinates (made precise in the next question)."
   ]
  },
  {
   "cell_type": "markdown",
   "metadata": {},
   "source": [
    "**from the function, make description more readable:"
   ]
  },
  {
   "cell_type": "markdown",
   "metadata": {},
   "source": [
    "A signal $x$ is estimated from its measurements $y = A(x)$ by solving\n",
    "    $`\\text{arg}\\underset{z \\in \\mathbb{R}^n}{\\min}\n",
    "    \\| \\nabla_G z \\|_p^p \\text{ subject to } Az = y` $"
   ]
  },
  {
   "cell_type": "code",
   "execution_count": null,
   "metadata": {},
   "outputs": [],
   "source": [
    "def graph_pnorm_interpolation(gradient, P, x0=None, p=1., **kwargs):\n",
    "    r\"\"\"\n",
    "    Solve an interpolation problem via gradient p-norm minimization.\n",
    "\n",
    "    A signal :math:`x` is estimated from its measurements :math:`y = A(x)` by solving\n",
    "    :math:`\\text{arg}\\underset{z \\in \\mathbb{R}^n}{\\min}\n",
    "    \\| \\nabla_G z \\|_p^p \\text{ subject to } Az = y` \n",
    "    via a primal-dual, forward-backward-forward algorithm.\n",
    "\n",
    "    Parameters\n",
    "    ----------\n",
    "    gradient : array_like\n",
    "        A matrix representing the graph gradient operator\n",
    "    P : callable\n",
    "        Orthogonal projection operator mapping points in :math:`z \\in \\mathbb{R}^n` \n",
    "        onto the set satisfying :math:`A P(z) = A z`.\n",
    "    x0 : array_like, optional\n",
    "        Initial point of the iteration. Must be of dimension n.\n",
    "        (Default is `numpy.random.randn(n)`)\n",
    "    p : {1., 2.}\n",
    "    kwargs :\n",
    "        Additional solver parameters, such as maximum number of iterations\n",
    "        (maxit), relative tolerance on the objective (rtol), and verbosity\n",
    "        level (verbosity). See :func:`pyunlocbox.solvers.solve` for the full\n",
    "        list of options.\n",
    "\n",
    "    Returns\n",
    "    -------\n",
    "    x : array_like\n",
    "        The solution to the optimization problem.\n",
    "\n",
    "    \"\"\"\n",
    "    \n",
    "    grad = lambda z: gradient.dot(z)\n",
    "    div = lambda z: gradient.transpose().dot(z)\n",
    "\n",
    "    # Indicator function of the set satisfying :math:`y = A(z)`\n",
    "    f = functions.func()\n",
    "    f._eval = lambda z: 0\n",
    "    f._prox = lambda z, gamma: P(z)\n",
    "\n",
    "    # :math:`\\ell_1` norm of the dual variable :math:`d = \\nabla_G z`\n",
    "    g = functions.func()\n",
    "    g._eval = lambda z: np.sum(np.abs(grad(z)))\n",
    "    g._prox = lambda d, gamma: functions._soft_threshold(d, gamma)\n",
    "\n",
    "    # :math:`\\ell_2` norm of the gradient (for the smooth case)\n",
    "    h = functions.norm_l2(A=grad, At=div)\n",
    "\n",
    "    stepsize = (0.9 / (1. + scipy.sparse.linalg.norm(gradient, ord='fro'))) ** p\n",
    "\n",
    "    solver = solvers.mlfbf(L=grad, Lt=div, step=stepsize)\n",
    "\n",
    "    if p == 1.:\n",
    "        problem = solvers.solve([f, g, functions.dummy()], x0=x0, solver=solver, **kwargs)\n",
    "        return problem['sol']\n",
    "    if p == 2.:\n",
    "        problem = solvers.solve([f, functions.dummy(), h], x0=x0, solver=solver, **kwargs)\n",
    "        return problem['sol']\n",
    "    else:\n",
    "        return x0"
   ]
  },
  {
   "cell_type": "markdown",
   "metadata": {},
   "source": [
    "### Question 14\n",
    "\n",
    "During the iterations of the algorithm used for solving the variational problem, we have to make sure that the labels at the measured nodes stay the same. We will do this by means of an operator `P` which, given a vector $a \\in \\mathbb{R}^{N},$ returns another vector $b \\in \\mathbb{R}^{N}$ satisfying $b[i] = \\text{labels_bin}[i]$ for every node $i$ in the set $S$ of known labels, and $b[i] = a[i]$ otherwise. Write in the cell below the function for this orthogonal projection operator `P`.\n",
    "\n",
    "_Hint:_ remember you have already computed the mask `w`."
   ]
  },
  {
   "cell_type": "code",
   "execution_count": null,
   "metadata": {
    "inputHidden": false,
    "outputHidden": false
   },
   "outputs": [],
   "source": [
    "def P(a):\n",
    "    # Your code here.\n",
    "    b = a.copy()\n",
    "    #set of known labels\n",
    "    b[w==1] = labels_bin[w==1].copy()\n",
    "    return b"
   ]
  },
  {
   "cell_type": "markdown",
   "metadata": {
    "inputHidden": false,
    "outputHidden": false
   },
   "source": [
    "### Question 15\n",
    "\n",
    "Solve the variational problems for $p = 1$ and $p = 2$. Record the solution for the $1-$norm minimization under `sol_1norm_min` and the one for $2-$norm minimization under `sol_2norm_min`.\n",
    "\n",
    "Compute also binarized versions of these solutions by thresholding the values with respect to $0$, that is, non-negative values become `1.0`, while negative values become `-1.0`. Store those binarized versions under `sol_1norm_bin` and `sol_2norm_bin`, respectively."
   ]
  },
  {
   "cell_type": "code",
   "execution_count": null,
   "metadata": {},
   "outputs": [],
   "source": [
    "D = G.D"
   ]
  },
  {
   "cell_type": "code",
   "execution_count": null,
   "metadata": {
    "inputHidden": false,
    "outputHidden": false,
    "scrolled": false
   },
   "outputs": [],
   "source": [
    "#TODO: check what x0 is really supposed to be\n",
    "\n",
    "sol_1norm_min = graph_pnorm_interpolation(D, P=P, p=1, x0=(w*labels_bin).copy())# Your code here.\n",
    "\n",
    "sol_2norm_min = graph_pnorm_interpolation(D, P=P, p=2, x0=(w*labels_bin).copy())# Your code here.\n",
    "\n",
    "threshold = 0\n",
    "\n",
    "sol_1norm_bin = np.where(sol_1norm_min > threshold, 1, -1)# Your code here.\n",
    "sol_2norm_bin = np.where(sol_2norm_min > threshold, 1, -1)# Your code here."
   ]
  },
  {
   "cell_type": "markdown",
   "metadata": {
    "inputHidden": false,
    "outputHidden": false
   },
   "source": [
    "Plot, on your graph, the original `labels_bin` signal, as well as the solutions to the variational problems (both binarized and otherwise). Indicate on each plot the value of the relative error $\\text{rel-err} = \\frac{\\|\\text{labels_bin} - z\\|_2}{\\|\\text{labels_bin}\\|_2}$, where $z$ is the signal in the corresponding plot."
   ]
  },
  {
   "cell_type": "code",
   "execution_count": null,
   "metadata": {},
   "outputs": [],
   "source": [
    "draw_map(labels_bin, plt.cm.Set1)\n",
    "plt.title('original bin. lables')\n",
    "draw_map(sol_2norm_min, plt.cm.Set1)\n",
    "plt.title(f'solutons 2 norm, non binarized: relative error for 2 norm {rel_err(labels_bin, sol_2norm_min):0.4}')\n",
    "draw_map(sol_2norm_bin, plt.cm.Set1)\n",
    "_ = plt.title(f'solution 2 norm, binarized: relative error {rel_err(labels_bin, sol_2norm_bin):0.4}')"
   ]
  },
  {
   "cell_type": "code",
   "execution_count": null,
   "metadata": {},
   "outputs": [],
   "source": [
    "draw_map(sol_1norm_min, plt.cm.Set1)\n",
    "plt.title(f'solutions 1 norm, non binarized : relative error {rel_err(labels_bin, sol_1norm_min):0.4}')\n",
    "\n",
    "draw_map(sol_1norm_bin, plt.cm.Set1)\n",
    "_ = plt.title(f'solutions 1 norm, binarized: relative error {rel_err(labels_bin, sol_1norm_bin):0.4}')"
   ]
  },
  {
   "cell_type": "markdown",
   "metadata": {},
   "source": [
    "### Question 16\n",
    "\n",
    "Now that you have got a feeling for the sort of solutions that the transductive learning problems studied can give, we will see what is the effect of the number of measurements on the accuracy of both $p-$norm minimization problems.\n",
    "\n",
    "Towards this goal, you will write a `phase_transition()` function. This function will basically go over all the procedures that you have implemented in this section, but for varying numbers of measurements and thresholding values. It will also compute the relative error, $\\text{rel-err},$ of the solutions and average them over a number of trials.\n",
    "\n",
    "The output of the `phase_transition()` function has to be a matrix with `len(mn_ratios)` columns and `len(thresholds)` rows. Each pixel $(i,j)$ in the output matrix has to contain the average, over `n_trials` trials, of the relative error $\\text{rel-err}$ in the binarized (with threshold `thresholds[i]`) solution given by `graph_pnorm_interpolation()` from observing an `mn_ratios[j]` fraction of nodes. The randomness comes from a different choice of mask `w` at each trial, hence the averaging.\n",
    "\n",
    "The interest of this phase transition matrix is to assess what level of recovery error one could expect for a certain fraction of measurements and a certain threshold level."
   ]
  },
  {
   "cell_type": "code",
   "execution_count": null,
   "metadata": {
    "inputHidden": false,
    "outputHidden": false
   },
   "outputs": [],
   "source": [
    "#redefine P for new w\n",
    "def P(a, w):\n",
    "    b = a.copy()\n",
    "    #set of known labels\n",
    "    b[w==1] = labels_bin[w==1].copy()\n",
    "    return b\n",
    "\n",
    "\n",
    "def phase_transition(mn_ratios, thresholds, n_trials, labels_bin, p):\n",
    "\n",
    "    # Create sample mask.\n",
    "    \n",
    "    # Solve p-norm interpolation.\n",
    "    \n",
    "    # Aggregate.\n",
    "    pt_matrix=np.zeros((len(mn_ratios),len(thresholds)))\n",
    "    \n",
    "    for i,j in np.ndindex(pt_matrix.shape):\n",
    "        m= int(mn_ratios[i]*n_nodes)\n",
    "        for n in  range(n_trials):\n",
    "            #defining the new w\n",
    "            nodes_mat =np.zeros(n_nodes, dtype=int)\n",
    "            nodes_mat[np.random.choice(np.arange(n_nodes), m, replace=False)]  = 1\n",
    "            w = nodes_mat.copy()\n",
    "\n",
    "            \n",
    "            #getting the norm\n",
    "            norm=graph_pnorm_interpolation(D, P=lambda x: P(x, w),p=p, x0=(w*labels_bin).copy(), verbosity='NONE')\n",
    "            \n",
    "            #binazizing the norm\n",
    "            x0_bin=np.where(norm > thresholds[j], 1, -1)\n",
    "            \n",
    "            #calculating average rel_err & normalizing\n",
    "            pt_matrix[i,j]+=rel_err(labels_bin,x0_bin)/n_trials \n",
    "            \n",
    "    return pt_matrix"
   ]
  },
  {
   "cell_type": "markdown",
   "metadata": {},
   "source": [
    "### Question 17\n",
    "\n",
    "Pick 5 \"m/n\" ratios in $(0, 1)$ and 5 threshold levels in $(-1, 1)$ and run the `phase_transition()` function with `n_trials` = 20, for both $p = 1$ and $p = 2$."
   ]
  },
  {
   "cell_type": "code",
   "execution_count": null,
   "metadata": {
    "inputHidden": false,
    "outputHidden": false
   },
   "outputs": [],
   "source": [
    "mn_ratios = np.linspace(0.01, 0.9, 5) # Your code here.\n",
    "\n",
    "thresholds = np.linspace(-.9, 0.9, 5) # Your code here.\n",
    "\n",
    "n_trials=20\n",
    "\n",
    "pt_matrix_1norm = phase_transition(mn_ratios,thresholds,n_trials,labels_bin,1)# Your code here.\n",
    "pt_matrix_2norm = phase_transition(mn_ratios,thresholds,n_trials,labels_bin,2)# Your code here."
   ]
  },
  {
   "cell_type": "markdown",
   "metadata": {},
   "source": [
    "Plot both phase transition matrices as images with a colorbar. Make sure to properly name the axes and title the images. "
   ]
  },
  {
   "cell_type": "code",
   "execution_count": null,
   "metadata": {},
   "outputs": [],
   "source": [
    "plt.figure(figsize=(15, 5))\n",
    "plt.subplot(121)\n",
    "plt.title('1 norm phase transition matrix')\n",
    "plt.imshow(pt_matrix_1norm, vmin=0, vmax=1.5, cmap=plt.cm.Spectral_r)\n",
    "plt.colorbar()\n",
    "plt.yticks(list(range(len(mn_ratios))), mn_ratios)\n",
    "plt.xticks(list(range(len(thresholds))), thresholds)\n",
    "\n",
    "plt.ylabel('sample ratio value')\n",
    "plt.xlabel('threshold value')\n",
    "\n",
    "plt.subplot(122)\n",
    "plt.title('2 norm phase transition matrix')\n",
    "plt.imshow(pt_matrix_2norm, vmin=0, vmax=1.5, cmap=plt.cm.Spectral_r)\n",
    "plt.colorbar()\n",
    "plt.yticks(list(range(len(mn_ratios))), mn_ratios)\n",
    "plt.xticks(list(range(len(thresholds))), thresholds)\n",
    "\n",
    "plt.ylabel('sample ratio value')\n",
    "plt.xlabel('threshold value')\n",
    "plt.show()"
   ]
  },
  {
   "cell_type": "code",
   "execution_count": null,
   "metadata": {},
   "outputs": [],
   "source": [
    "pt_matrix_1norm <= pt_matrix_2norm"
   ]
  },
  {
   "cell_type": "markdown",
   "metadata": {},
   "source": [
    "### Question 18\n",
    "\n",
    "Do the phase transition plots above provide any justification for choosing one $p-$norm interpolation over the other? Why?"
   ]
  },
  {
   "cell_type": "markdown",
   "metadata": {},
   "source": [
    "**Your answer here.**"
   ]
  },
  {
   "cell_type": "markdown",
   "metadata": {},
   "source": [
    "#TODO\n",
    "\n",
    "The 2 norm preforms better than the 1 norm, as can be observed clearly from the plots, the 2 norm clearly out preforms the 1norm for rations $>= 0.25$.\n",
    "\n",
    "For very small ratios and negative threshold, the 1norm outpreforms the 2norm, but not with a significant margin."
   ]
  }
 ],
 "metadata": {
  "kernel_info": {
   "name": "python3"
  },
  "kernelspec": {
   "display_name": "Python 3",
   "language": "python",
   "name": "python3"
  },
  "language_info": {
   "codemirror_mode": {
    "name": "ipython",
    "version": 3
   },
   "file_extension": ".py",
   "mimetype": "text/x-python",
   "name": "python",
   "nbconvert_exporter": "python",
   "pygments_lexer": "ipython3",
   "version": "3.7.0"
  },
  "latex_envs": {
   "LaTeX_envs_menu_present": true,
   "autoclose": true,
   "autocomplete": true,
   "bibliofile": "biblio.bib",
   "cite_by": "apalike",
   "current_citInitial": 1,
   "eqLabelWithNumbers": true,
   "eqNumInitial": 1,
   "hotkeys": {
    "equation": "Ctrl-E",
    "itemize": "Ctrl-I"
   },
   "labels_anchors": false,
   "latex_user_defs": false,
   "report_style_numbering": false,
   "user_envs_cfg": false
  },
  "nteract": {
   "version": "0.12.3"
  },
  "varInspector": {
   "cols": {
    "lenName": 16,
    "lenType": 16,
    "lenVar": 40
   },
   "kernels_config": {
    "python": {
     "delete_cmd_postfix": "",
     "delete_cmd_prefix": "del ",
     "library": "var_list.py",
     "varRefreshCmd": "print(var_dic_list())"
    },
    "r": {
     "delete_cmd_postfix": ") ",
     "delete_cmd_prefix": "rm(",
     "library": "var_list.r",
     "varRefreshCmd": "cat(var_dic_list()) "
    }
   },
   "types_to_exclude": [
    "module",
    "function",
    "builtin_function_or_method",
    "instance",
    "_Feature"
   ],
   "window_display": false
  }
 },
 "nbformat": 4,
 "nbformat_minor": 2
}
