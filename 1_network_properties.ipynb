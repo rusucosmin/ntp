{
 "cells": [
  {
   "cell_type": "markdown",
   "metadata": {},
   "source": [
    "# NTDS'18 milestone 1: network collection and properties\n",
    "[Effrosyni Simou](https://lts4.epfl.ch/simou), [EPFL LTS4](https://lts4.epfl.ch)"
   ]
  },
  {
   "cell_type": "markdown",
   "metadata": {},
   "source": [
    "## Students\n",
    "\n",
    "* Team: `28`\n",
    "* Students: `Guillain, Léonore Valentinem; Pase, Francesco; Rusu, Cosmin-Ionut; Zhuang, Ying`\n",
    "* Dataset: `Flight Routes`"
   ]
  },
  {
   "cell_type": "markdown",
   "metadata": {},
   "source": [
    "## Rules\n",
    "\n",
    "* Milestones have to be completed by teams. No collaboration between teams is allowed.\n",
    "* Textual answers shall be short. Typically one to three sentences.\n",
    "* Code has to be clean.\n",
    "* You cannot import any other library than we imported.\n",
    "* When submitting, the notebook is executed and the results are stored. I.e., if you open the notebook again it should show numerical results and plots. We won't be able to execute your notebooks.\n",
    "* The notebook is re-executed from a blank state before submission. That is to be sure it is reproducible. You can click \"Kernel\" then \"Restart & Run All\" in Jupyter."
   ]
  },
  {
   "cell_type": "markdown",
   "metadata": {},
   "source": [
    "## Objective "
   ]
  },
  {
   "cell_type": "markdown",
   "metadata": {},
   "source": [
    "The purpose of this milestone is to start getting acquainted to the network that you will use for this class. In the first part of the milestone you will import your data using [Pandas](http://pandas.pydata.org) and you will create the adjacency matrix using [Numpy](http://www.numpy.org). This part is project specific. In the second part you will have to compute some basic properties of your network. **For the computation of the properties you are only allowed to use the packages that have been imported in the cell below.** You are not allowed to use any graph-specific toolboxes for this milestone (such as networkx and PyGSP). Furthermore, the aim is not to blindly compute the network properties, but to also start to think about what kind of network you will be working with this semester. "
   ]
  },
  {
   "cell_type": "code",
   "execution_count": null,
   "metadata": {},
   "outputs": [],
   "source": [
    "import numpy as np\n",
    "import pandas as pd\n",
    "import matplotlib.pyplot as plt"
   ]
  },
  {
   "cell_type": "markdown",
   "metadata": {},
   "source": [
    "## Part 1 - Import your data and manipulate them. "
   ]
  },
  {
   "cell_type": "markdown",
   "metadata": {},
   "source": [
    "###  A. Load your data in a Panda dataframe."
   ]
  },
  {
   "cell_type": "markdown",
   "metadata": {},
   "source": [
    "First, you should define and understand what are your nodes, what features you have and what are your labels. Please provide below a Panda dataframe where each row corresponds to a node with its features and labels. For example, in the the case of the Free Music Archive (FMA) Project, each row of the dataframe would be of the following form:\n",
    "\n",
    "\n",
    "| Track   |  Feature 1  | Feature 2 | . . . | Feature 518|  Label 1 |  Label 2 |. . .|Label 16|\n",
    "|:-------:|:-----------:|:---------:|:-----:|:----------:|:--------:|:--------:|:---:|:------:|\n",
    "|         |             |           |       |            |          |          |     |        |\n",
    "\n",
    "It is possible that in some of the projects either the features or the labels are not available. This is OK, in that case just make sure that you create a dataframe where each of the rows corresponds to a node and its associated features or labels."
   ]
  },
  {
   "cell_type": "code",
   "execution_count": null,
   "metadata": {},
   "outputs": [],
   "source": [
    "!bash download_data.sh"
   ]
  },
  {
   "cell_type": "code",
   "execution_count": null,
   "metadata": {},
   "outputs": [],
   "source": [
    "airports = pd.read_csv('airports.dat', header=None, names=\n",
    "                      [\"AirportID\",\"Name\", \"City\", \"Country\", \"IATA\", \"ICAO\",\n",
    "                       \"Latitude\", \"Longitude\", \"Altitude\", \"Timezone\", \"DST\", \"TzDatabaseTimeZone\",\n",
    "                       \"Type\", \"Source\"],\n",
    "                       na_values = [\"\\\\N\"])\n",
    "airlines = pd.read_csv('airlines.dat', header=None, names=\n",
    "                       [\"AirlineID\", \"Name\", \"Alias\", \"IATA\", \"ICAO\", \"Callsign\", \"Country\", \"Active\"],\n",
    "                       na_values = [\"\\\\N\"])\n",
    "all_routes = pd.read_csv('routes.dat', header=None, names=\n",
    "                     ['Airline', 'AirlineID', 'SourceAirport', 'SourceAirportID', 'DestinationAirport',\n",
    "                      'DestinationAirportID', 'Codeshare', 'Stops', 'Equipment'],\n",
    "                       na_values = [\"\\\\N\"])\n",
    "planes = pd.read_csv('planes.dat', header=None, names=\n",
    "                     ['Name', 'IATA code', 'ICAO code'],\n",
    "                       na_values = [\"\\\\N\"])\n",
    "\n",
    "#we only look at direct flights for now to get the physical routes\n",
    "routes = all_routes[all_routes.Stops == 0]\n",
    "routes.reset_index(drop=True, inplace=True) #reset the index to (1, ..., nbr of entries)"
   ]
  },
  {
   "cell_type": "markdown",
   "metadata": {},
   "source": [
    "We note that not all airports in the airport dataset have an IATA identifier. Those that do not have one maybe have an AirportID. However, we can not merge any airport that does not have an IATA identifier based on Airport ID, as seen below:"
   ]
  },
  {
   "cell_type": "code",
   "execution_count": null,
   "metadata": {},
   "outputs": [],
   "source": [
    "no_IATA_airports = airports[(airports.IATA.isna() & ~airports.AirportID.isna())]\n",
    "\n",
    "pd.merge(no_IATA_airports, routes, left_on='AirportID', right_on='DestinationAirportID').shape[0], \\\n",
    "pd.merge(no_IATA_airports, routes, left_on='AirportID', right_on='SourceAirportID').shape[0]"
   ]
  },
  {
   "cell_type": "markdown",
   "metadata": {},
   "source": [
    "Hence we will use IATA to match edges (routes dataset) to the nodes (airport dataset) and we can already drop all the lines that have no IATA identifier."
   ]
  },
  {
   "cell_type": "code",
   "execution_count": null,
   "metadata": {},
   "outputs": [],
   "source": [
    "airports = airports[~airports.IATA.isna()].reset_index(drop=True)"
   ]
  },
  {
   "cell_type": "markdown",
   "metadata": {},
   "source": [
    "We noticed that there are issues with airports in routes not being present in the airports dataset. This means that we have no information about the source/destiantion of an edge. (Proof of statement seen bellow)"
   ]
  },
  {
   "cell_type": "code",
   "execution_count": null,
   "metadata": {},
   "outputs": [],
   "source": [
    "set(routes.DestinationAirport.unique()).union(set(routes.SourceAirport.unique())) in set(airports.IATA.unique())"
   ]
  },
  {
   "cell_type": "markdown",
   "metadata": {},
   "source": [
    "We remove these edges as they will hinder our analysis. We won't have features associated to the start of endpoint of these edges."
   ]
  },
  {
   "cell_type": "code",
   "execution_count": null,
   "metadata": {},
   "outputs": [],
   "source": [
    "inter = airports.IATA.unique() #get list of airport codes in airport dataset"
   ]
  },
  {
   "cell_type": "code",
   "execution_count": null,
   "metadata": {},
   "outputs": [],
   "source": [
    "routes = routes[routes.apply(lambda x: x['SourceAirport'] in inter and x['DestinationAirport'] in inter, axis=1)]"
   ]
  },
  {
   "cell_type": "markdown",
   "metadata": {},
   "source": [
    "Conversely we can use this code to remove airports that are isolated:"
   ]
  },
  {
   "cell_type": "raw",
   "metadata": {},
   "source": [
    "route_ids = list(set(routes.DestinationAirport.unique()).union(set(routes.SourceAirport.unique())))\n",
    "print('Number of isolated airports', airports[airports.IATA.map(lambda x: not x in route_ids)].shape[0])\n",
    "\n",
    "airports = airports[airports.IATA.map(lambda x: x in route_ids)].reset_index(drop=True)\n",
    "print('Number of airports : ', airports.shape[0])"
   ]
  },
  {
   "cell_type": "markdown",
   "metadata": {},
   "source": [
    "Thirdly, as there are routes who's source and destiantion are the same, we remove those are we are not interessted in them."
   ]
  },
  {
   "cell_type": "code",
   "execution_count": null,
   "metadata": {},
   "outputs": [],
   "source": [
    "routes[routes.SourceAirport == routes.DestinationAirport]"
   ]
  },
  {
   "cell_type": "code",
   "execution_count": null,
   "metadata": {},
   "outputs": [],
   "source": [
    "routes = routes[routes.SourceAirport != routes.DestinationAirport]"
   ]
  },
  {
   "cell_type": "code",
   "execution_count": null,
   "metadata": {},
   "outputs": [],
   "source": [
    "features = airports # the pandas dataframe with the features and labels\n",
    "features.head()"
   ]
  },
  {
   "cell_type": "markdown",
   "metadata": {},
   "source": [
    "### B. Create the adjacency matrix of your network."
   ]
  },
  {
   "cell_type": "markdown",
   "metadata": {},
   "source": [
    "Remember that there are edges connecting the attributed nodes that you organized in the dataframe above. The connectivity of the network is captured by the adjacency matrix $W$. If $N$ is the number of nodes, the adjacency matrix is an $N \\times N$ matrix where the value of $W(i,j)$ is the weight of the edge connecting node $i$ to node $j$.  \n",
    "\n",
    "There are two possible scenarios for your adjacency matrix construction, as you already learned in the tutorial by Benjamin:\n",
    "\n",
    "1) The edges are given to you explicitly. In this case you should simply load the file containing the edge information and parse it in order to create your adjacency matrix. See how to do that in the  [graph from edge list]() demo.\n",
    "\n",
    "2) The edges are not given to you. In that case you will have to create a feature graph. In order to do that you will have to chose a distance that will quantify how similar two nodes are based on the values in their corresponding feature vectors. In the [graph from features]() demo Benjamin showed you how to build feature graphs when using Euclidean distances between feature vectors. Be curious and explore other distances as well! For instance, in the case of high-dimensional feature vectors, you might want to consider using the cosine distance. Once you compute the distances between your nodes you will have a fully connected network. Do not forget to sparsify by keeping the most important edges in your network.\n",
    "\n",
    "Follow the appropriate steps for the construction of the adjacency matrix of your network and provide it in the Numpy array ``adjacency`` below: "
   ]
  },
  {
   "cell_type": "code",
   "execution_count": null,
   "metadata": {},
   "outputs": [],
   "source": [
    "# Your code here\n",
    "nodes = airports.copy()\n",
    "edges = routes[['SourceAirport', 'DestinationAirport']]\n",
    "\n",
    "\n",
    "nodes.reset_index(level=0, inplace=True)\n",
    "nodes = nodes.rename(columns={'index':'node'})\n",
    "\n",
    "uid2idx = nodes[['node', 'IATA']]\n",
    "uid2idx = uid2idx.set_index('IATA')\n",
    "\n",
    "edges = edges.join(uid2idx, on='SourceAirport')\n",
    "edges = edges.join(uid2idx, on='DestinationAirport', lsuffix='_source', rsuffix='_dest')\n",
    "edges = edges.drop(columns=['SourceAirport','DestinationAirport'])\n",
    "\n",
    "edges.head()"
   ]
  },
  {
   "cell_type": "code",
   "execution_count": null,
   "metadata": {},
   "outputs": [],
   "source": [
    "n_nodes = uid2idx.shape[0] #len(nodes) using all airport nodes\n",
    "adjacency = np.zeros((n_nodes, n_nodes), dtype=int)\n",
    "\n",
    "for idx, row in edges.iterrows():\n",
    "    if np.isnan(row.node_source) or np.isnan(row.node_dest):\n",
    "        continue\n",
    "    i, j = int(row.node_source), int(row.node_dest)\n",
    "    adjacency[i, j] += 1\n",
    "    #adjacency[j, i] = 1 #our graph is undirected, add edge from when there is flight from source to dest"
   ]
  },
  {
   "cell_type": "code",
   "execution_count": null,
   "metadata": {},
   "outputs": [],
   "source": [
    "adjacency[adjacency > 0].shape #number of edges"
   ]
  },
  {
   "cell_type": "markdown",
   "metadata": {},
   "source": [
    "## Part 2"
   ]
  },
  {
   "cell_type": "markdown",
   "metadata": {},
   "source": [
    "Execute the cell below to plot the (weighted) adjacency matrix of your network."
   ]
  },
  {
   "cell_type": "code",
   "execution_count": null,
   "metadata": {},
   "outputs": [],
   "source": [
    "plt.spy(adjacency, markersize=1)\n",
    "_ = plt.title('adjacency matrix')"
   ]
  },
  {
   "cell_type": "code",
   "execution_count": null,
   "metadata": {},
   "outputs": [],
   "source": [
    "plt.spy(adjacency, markersize=1,precision=1)\n",
    "_ = plt.title('adjacency matrix - edges with weight at least 2')"
   ]
  },
  {
   "cell_type": "code",
   "execution_count": null,
   "metadata": {},
   "outputs": [],
   "source": [
    "plt.spy(adjacency, markersize=1,precision=4)\n",
    "_ = plt.title('adjacency matrix, - edges with weight at least 5')"
   ]
  },
  {
   "cell_type": "markdown",
   "metadata": {},
   "source": [
    "### Question 1\n",
    "\n",
    "What is the maximum number of links $L_{max}$ in a network with $N$ nodes (where $N$ is the number of nodes in your network)? How many links $L$ are there in your collected network? Comment on the sparsity of your network."
   ]
  },
  {
   "cell_type": "code",
   "execution_count": null,
   "metadata": {},
   "outputs": [],
   "source": [
    "# Your code here.\n",
    "links = np.where(adjacency != 0, 1, 0)\n",
    "\n",
    "print(\"Number of links L in our network: {}\".format(links.sum()))\n",
    "print(\"Number of links Lmax: {}\".format(adjacency.shape[0]*(adjacency.shape[0]-1)))"
   ]
  },
  {
   "cell_type": "markdown",
   "metadata": {},
   "source": [
    "**Your answer here.**\n",
    "\n",
    "A fully connected undirected network, with no self-loops where no edges can be added, we have at most $L_{max} = N*(N-1)$ edges. \n",
    "In our case this would be 51602672 edges, a number much larger than the 10881 edges we have in our network, making our network fairly sparse."
   ]
  },
  {
   "cell_type": "markdown",
   "metadata": {},
   "source": [
    "### Question 2\n",
    "\n",
    "Is your graph directed or undirected? If it is directed, convert it to an undirected graph by symmetrizing the adjacency matrix."
   ]
  },
  {
   "cell_type": "markdown",
   "metadata": {},
   "source": [
    "**Your answer here.**\n",
    "\n",
    "As having a flight from source to destination does not imply that there is a flight from that destination to that source, our graph is directed. "
   ]
  },
  {
   "cell_type": "code",
   "execution_count": null,
   "metadata": {},
   "outputs": [],
   "source": [
    "# Your code here.\n",
    "adjacency_sym = np.maximum(adjacency, adjacency.T)\n",
    "\n",
    "#sanity test\n",
    "adjacency_sym.sum(), adjacency_sym.shape"
   ]
  },
  {
   "cell_type": "markdown",
   "metadata": {},
   "source": [
    "### Question 3\n",
    "\n",
    "In the cell below save the features dataframe and the **symmetrized** adjacency matrix. You can use the Pandas ``to_csv`` to save the ``features`` and Numpy's ``save`` to save the ``adjacency``. We will reuse those in the following milestones."
   ]
  },
  {
   "cell_type": "code",
   "execution_count": null,
   "metadata": {},
   "outputs": [],
   "source": [
    "# Your code here.\n",
    "features.to_csv('features.csv')\n",
    "np.save('adjacency', adjacency)"
   ]
  },
  {
   "cell_type": "markdown",
   "metadata": {},
   "source": [
    "### Question 4\n",
    "\n",
    "Are the edges of your graph weighted?"
   ]
  },
  {
   "cell_type": "markdown",
   "metadata": {},
   "source": [
    "**Your answer here.**\n",
    "\n",
    "# TODO: so far yes, we add weights based on the number of connections between two airport. eg, adj. matrix with entry 5 indicates that there are 5 way to go from airport a to airport b"
   ]
  },
  {
   "cell_type": "markdown",
   "metadata": {},
   "source": [
    "### Question 5\n",
    "\n",
    "What is the degree distibution of your network? "
   ]
  },
  {
   "cell_type": "code",
   "execution_count": null,
   "metadata": {},
   "outputs": [],
   "source": [
    "links_sym = np.where(adjacency != 0, 1, 0)\n",
    "\n",
    "degree = links_sym.sum(axis=1)# Your code here. It should be a numpy array.\n",
    "assert len(degree) == n_nodes"
   ]
  },
  {
   "cell_type": "markdown",
   "metadata": {},
   "source": [
    "Execute the cell below to see the histogram of the degree distribution."
   ]
  },
  {
   "cell_type": "code",
   "execution_count": null,
   "metadata": {},
   "outputs": [],
   "source": [
    "weights = np.ones_like(degree) #/ float(n_nodes)\n",
    "\n",
    "f, (ax1, ax2) = plt.subplots(ncols=2, figsize=(15, 5))\n",
    "\n",
    "ax1.set_title('histogram of degrees')\n",
    "ax1.set_xlabel('degree')\n",
    "ax1.set_ylabel('#occurences')\n",
    "ax1.hist(degree, weights=weights, bins=100, log=True)\n",
    "\n",
    "ax2.set_title('log log histogram of degrees')\n",
    "ax2.set_xlabel('degree')\n",
    "ax2.set_ylabel('#occurences')\n",
    "\n",
    "# use degree + 1 so we can do log log ...\n",
    "ax2.hist(np.log10(degree+1), weights=weights, bins=100, log=True)\n",
    "ax2.set_xticklabels([\"$10^%s$\" % i for i in range(max(degree))])\n",
    "\n",
    "plt.show()\n"
   ]
  },
  {
   "cell_type": "code",
   "execution_count": null,
   "metadata": {},
   "outputs": [],
   "source": [
    "#check number of isolated nodes\n",
    "print('we have {} isolated nodes'.format(np.where(degree == 0, 1, 0).sum()))"
   ]
  },
  {
   "cell_type": "markdown",
   "metadata": {},
   "source": [
    "What is the average degree?"
   ]
  },
  {
   "cell_type": "code",
   "execution_count": null,
   "metadata": {},
   "outputs": [],
   "source": [
    "# Your code here.\n",
    "print('the average degree is : ', degree.mean())"
   ]
  },
  {
   "cell_type": "markdown",
   "metadata": {},
   "source": [
    "### Question 6\n",
    "\n",
    "Comment on the degree distribution of your network."
   ]
  },
  {
   "cell_type": "markdown",
   "metadata": {},
   "source": [
    "**Your answer here.**\n",
    "\n",
    "Degree distribution is that of a Scale-free network, as .... TODO"
   ]
  },
  {
   "cell_type": "markdown",
   "metadata": {},
   "source": [
    "### Question 7\n",
    "\n",
    "Write a function that takes as input the adjacency matrix of a graph and determines whether the graph is connected or not."
   ]
  },
  {
   "cell_type": "code",
   "execution_count": null,
   "metadata": {},
   "outputs": [],
   "source": [
    "def dfs(node, adj, visited):\n",
    "    visited[node] = 1\n",
    "    for nxt, w in enumerate(adj[node]):\n",
    "        if w > 0 and not visited[nxt]:\n",
    "            dfs(nxt, adj, visited)\n",
    "\n",
    "def connected_graph(adjacency):\n",
    "    \"\"\"Determines whether a graph is connected.\n",
    "    \n",
    "    Parameters\n",
    "    ----------\n",
    "    adjacency: numpy array\n",
    "        The (weighted) adjacency matrix of a graph.\n",
    "    \n",
    "    Returns\n",
    "    -------\n",
    "    bool\n",
    "        True if the graph is connected, False otherwise.\n",
    "    \"\"\"\n",
    "    # Your code here.\n",
    "    nodes = adjacency.shape[0]\n",
    "    cnt = 0\n",
    "    visited = np.zeros(nodes)\n",
    "    for i in range(nodes):\n",
    "        if not visited[i]:\n",
    "            cnt += 1\n",
    "            if cnt > 1:\n",
    "                return False\n",
    "            dfs(i, adjacency, visited)\n",
    "    return True"
   ]
  },
  {
   "cell_type": "markdown",
   "metadata": {},
   "source": [
    "Is your graph connected? Run the ``connected_graph`` function to determine your answer."
   ]
  },
  {
   "cell_type": "code",
   "execution_count": null,
   "metadata": {},
   "outputs": [],
   "source": [
    "connected_graph(adjacency)"
   ]
  },
  {
   "cell_type": "markdown",
   "metadata": {},
   "source": [
    "### Question 8\n",
    "\n",
    "Write a function that extracts the connected components of a graph."
   ]
  },
  {
   "cell_type": "code",
   "execution_count": null,
   "metadata": {},
   "outputs": [],
   "source": [
    "def dfs(node, adj, visited, component):\n",
    "    component.append(node)\n",
    "    visited[node] = 1\n",
    "    #print(\"\")\n",
    "    for nxt, w in enumerate(adj[node]):\n",
    "        if w > 0 and not visited[nxt]:\n",
    "            dfs(nxt, adj, visited, component)\n",
    "\n",
    "def find_components(adjacency):\n",
    "    \"\"\"Find the connected components of a graph.\n",
    "    \n",
    "    Parameters\n",
    "    ----------\n",
    "    adjacency: numpy array\n",
    "        The (weighted) adjacency matrix of a graph.\n",
    "    \n",
    "    Returns\n",
    "    -------\n",
    "    list of numpy arrays\n",
    "        A list of adjacency matrices, one per connected component.\n",
    "    \"\"\"\n",
    "    \n",
    "    # Your code here.\n",
    "    components = []\n",
    "    nodes = adjacency.shape[0]\n",
    "    visited = np.zeros(nodes)\n",
    "    for i in range(nodes):\n",
    "        if not visited[i]:\n",
    "            component = []\n",
    "            dfs(i, adjacency, visited, component)\n",
    "            components.append(np.array(component))\n",
    "    return np.array(components)"
   ]
  },
  {
   "cell_type": "markdown",
   "metadata": {},
   "source": [
    "How many connected components is your network composed of? What is the size of the largest connected component? Run the ``find_components`` function to determine your answer. "
   ]
  },
  {
   "cell_type": "code",
   "execution_count": null,
   "metadata": {
    "scrolled": false
   },
   "outputs": [],
   "source": [
    "# Your code here.\n",
    "components = find_components(adjacency)"
   ]
  },
  {
   "cell_type": "code",
   "execution_count": null,
   "metadata": {},
   "outputs": [],
   "source": [
    "print(adjacency.shape)\n",
    "len(list(map(lambda comp: len(comp), components)))"
   ]
  },
  {
   "cell_type": "markdown",
   "metadata": {},
   "source": [
    "### Question 9\n",
    "\n",
    "Write a function that takes as input the adjacency matrix and a node (`source`) and returns the length of the shortest path between that node and all nodes in the graph using Dijkstra's algorithm. **For the purposes of this assignment we are interested in the hop distance between nodes, not in the sum of weights. **\n",
    "\n",
    "Hint: You might want to mask the adjacency matrix in the function ``compute_shortest_path_lengths`` in order to make sure you obtain a binary adjacency matrix. "
   ]
  },
  {
   "cell_type": "code",
   "execution_count": null,
   "metadata": {},
   "outputs": [],
   "source": [
    "def compute_shortest_path_lengths(adjacency, source):\n",
    "    \n",
    "      \n",
    "    \"\"\"Compute the shortest path length between a source node and all nodes.\n",
    "    \n",
    "    Parameters\n",
    "    ----------\n",
    "    adjacency: numpy array\n",
    "        The (weighted) adjacency matrix of a graph.\n",
    "    source: int\n",
    "        The source node. A number between 0 and n_nodes-1.\n",
    "    \n",
    "    Returns\n",
    "    -------\n",
    "    list of ints\n",
    "        The length of the shortest path from source to all nodes. Returned list should be of length n_nodes.\n",
    "    \"\"\"\n",
    "    \n",
    "    #Mask the adjacency matrix to forget about the weights\n",
    "    masked_adj = adjacency.copy()\n",
    "    masked_adj[masked_adj > 0] = 1\n",
    "    \n",
    "    #Vector for the shortest paths, initializate it with source row (all neighbors have distance 1)\n",
    "    shortest_path_lengths = masked_adj[source].copy() * 1.\n",
    "    shortest_path_lengths[shortest_path_lengths == 0] = np.inf\n",
    "    shortest_path_lengths[source] = 0\n",
    "    \n",
    "    #Vectors with solved and not-solved nodes.\n",
    "    S = set({source})\n",
    "    N = set([ x for x in range(masked_adj.shape[0])])\n",
    "    N.remove(source) \n",
    "    \n",
    "    #Keep iterating until all nodes have been soleved (i.e. shortest path from source computed)\n",
    "    while (len(N)):\n",
    "        #Find the node with minimun distance among the not-solved ones\n",
    "        min_d = np.inf\n",
    "        for i in N:\n",
    "            if (shortest_path_lengths[i] < min_d):\n",
    "                min_d = shortest_path_lengths[i]\n",
    "                min_id = i\n",
    "        #Check whether 'source' belongs to not fully-connected component (end condition)\n",
    "        if (min_d < np.inf):\n",
    "            N.remove(min_id)\n",
    "            S.add(min_id)\n",
    "            \n",
    "            for j in N:\n",
    "                #Dummy statement since graph is unweighted, kept as real Dijkstra's algorithm\n",
    "                if (masked_adj[min_id, j] == 1 and shortest_path_lengths[j] > shortest_path_lengths[min_id] + masked_adj[min_id, j]):\n",
    "                    shortest_path_lengths[j] = shortest_path_lengths[min_id] + masked_adj[min_id, j]\n",
    "        else:\n",
    "            break\n",
    "    #Nodes that are not connceted to source will have infinite distance\n",
    "    return shortest_path_lengths\n"
   ]
  },
  {
   "cell_type": "markdown",
   "metadata": {},
   "source": [
    "### Question 10\n",
    "\n",
    "The diameter of the graph is the length of the longest shortest path between any pair of nodes. Use the above developed function to compute the diameter of the graph (or the diameter of the largest connected component of the graph if the graph is not connected). If your graph (or largest connected component) is very large, computing the diameter will take very long. In that case downsample your graph so that it has 1.000 nodes. There are many ways to reduce the size of a graph. For the purposes of this milestone you can chose to randomly select 1.000 nodes. "
   ]
  },
  {
   "cell_type": "code",
   "execution_count": null,
   "metadata": {},
   "outputs": [],
   "source": [
    "# Your code here.\n",
    "def compute_diameter (adjacency):\n",
    "    #Sample size for computing the diameter\n",
    "    sample_size = 1000\n",
    "    #Randomly select sample_size nodes and create adjacency matrix of the subgraph\n",
    "    random_id = np.random.randint(adjacency.shape[0], size=sample_size)\n",
    "    sub_adj = adjacency[random_id, :]\n",
    "    sub_adj = sub_adj[:,random_id]\n",
    "    \n",
    "    diameter = 0.\n",
    "    #Find longest shortest path (i.e. diameter)\n",
    "    for i in range(sample_size):\n",
    "        \n",
    "        #Compute the maximum distance removing infinity values (isolated components)\n",
    "        dis = compute_shortest_path_lengths(sub_adj, i)\n",
    "        dis[dis == np.inf] = 0\n",
    "        max_distance = dis.max()\n",
    "        \n",
    "        if (diameter < max_distance):\n",
    "            diameter = max_distance\n",
    "        \n",
    "    return diameter\n",
    "\n",
    "#compute_diameter(adjacency)"
   ]
  },
  {
   "cell_type": "markdown",
   "metadata": {},
   "source": [
    "### Question 11\n",
    "\n",
    "Write a function that takes as input the adjacency matrix, a path length, and two nodes (`source` and `target`), and returns the number of paths of the given length between them."
   ]
  },
  {
   "cell_type": "code",
   "execution_count": null,
   "metadata": {},
   "outputs": [],
   "source": [
    "#check if computation is correct, substract matrix!\n",
    "def compute_paths(adjacency, source, target, length):\n",
    "    \"\"\"Compute the number of paths of a given length between a source and target node.\n",
    "    \n",
    "    Parameters\n",
    "    ----------\n",
    "    adjacency: numpy array\n",
    "        The (weighted) adjacency matrix of a graph.\n",
    "    source: int\n",
    "        The source node. A number between 0 and n_nodes-1.\n",
    "    target: int\n",
    "        The target node. A number between 0 and n_nodes-1.\n",
    "    length: int\n",
    "        The path length to be considered.\n",
    "    \n",
    "    Returns\n",
    "    -------\n",
    "    int\n",
    "        The number of paths.\n",
    "    \"\"\"\n",
    "    \n",
    "    # Your code here.\n",
    "    adj = np.where(adjacency != 0, 1, 0)\n",
    "    paths_matrix = np.linalg.matrix_power(adj, length)\n",
    "    n_paths = paths_matrix[source][target]\n",
    "    return n_paths"
   ]
  },
  {
   "cell_type": "markdown",
   "metadata": {},
   "source": [
    "Test your function on 5 pairs of nodes, with different lengths."
   ]
  },
  {
   "cell_type": "code",
   "execution_count": null,
   "metadata": {},
   "outputs": [],
   "source": [
    "print(compute_paths(adjacency, 0, 2, 2))"
   ]
  },
  {
   "cell_type": "code",
   "execution_count": null,
   "metadata": {},
   "outputs": [],
   "source": [
    "print(compute_paths(adjacency, 0, 10, 1))\n",
    "print(compute_paths(adjacency, 0, 10, 2))\n",
    "print(compute_paths(adjacency, 0, 10, 3))\n",
    "print(compute_paths(adjacency, 23, 67, 2))\n",
    "print(compute_paths(adjacency, 15, 93, 4))"
   ]
  },
  {
   "cell_type": "markdown",
   "metadata": {},
   "source": [
    "### Question 12\n",
    "\n",
    "How many paths of length 3 are there in your graph? Hint: calling the `compute_paths` function on every pair of node is not an efficient way to do it."
   ]
  },
  {
   "cell_type": "code",
   "execution_count": null,
   "metadata": {},
   "outputs": [],
   "source": [
    "# Your code here.\n",
    "adj = np.where(adjacency !=0, 1, 0)\n",
    "paths_matrix = np.linalg.matrix_power(adj, 3)"
   ]
  },
  {
   "cell_type": "code",
   "execution_count": null,
   "metadata": {},
   "outputs": [],
   "source": [
    "paths_matrix.sum()"
   ]
  },
  {
   "cell_type": "markdown",
   "metadata": {},
   "source": [
    "### Question 13\n",
    "\n",
    "Write a function that takes as input the adjacency matrix of your graph (or of the largest connected component of your graph) and a node and returns the clustering coefficient of that node. "
   ]
  },
  {
   "cell_type": "code",
   "execution_count": null,
   "metadata": {},
   "outputs": [],
   "source": [
    "def compute_clustering_coefficient(adjacency, node):\n",
    "    \"\"\"Compute the clustering coefficient of a node.\n",
    "    \n",
    "    Parameters\n",
    "    ----------\n",
    "    adjacency: numpy array\n",
    "        The (weighted) adjacency matrix of a graph.\n",
    "    node: int\n",
    "        The node whose clustering coefficient will be computed. A number between 0 and n_nodes-1.\n",
    "    \n",
    "    Returns\n",
    "    -------\n",
    "    float\n",
    "        The clustering coefficient of the node. A number between 0 and 1.\n",
    "    \"\"\"\n",
    "    #Create set with neighbors of node\n",
    "    neighbors = set(np.nonzero(adjacency[node])[0])\n",
    "    n = len(neighbors)\n",
    "    a=0\n",
    "    for i in neighbors:\n",
    "        #intersection between neighbors of neighbors of node and neighbors of node\n",
    "        a += len(set(np.nonzero(adjacency[i])[0]).intersection(neighbors))\n",
    "    #0 or 1 neighbors\n",
    "    if (n>1):\n",
    "        #Directed graph so there's no factor 2 \n",
    "        clustering_coefficient = (a)/(n*(n-1))\n",
    "    else:\n",
    "        return 0.\n",
    "    return clustering_coefficient\n",
    "\n",
    "compute_clustering_coefficient(adjacency, 100)"
   ]
  },
  {
   "cell_type": "markdown",
   "metadata": {},
   "source": [
    "### Question 14\n",
    "\n",
    "What is the average clustering coefficient of your graph (or of the largest connected component of your graph if your graph is disconnected)? Use the function ``compute_clustering_coefficient`` to determine your answer."
   ]
  },
  {
   "cell_type": "code",
   "execution_count": null,
   "metadata": {},
   "outputs": [],
   "source": []
  },
  {
   "cell_type": "code",
   "execution_count": null,
   "metadata": {},
   "outputs": [],
   "source": [
    "avg_clustering = 0\n",
    "for i in range(n_nodes):\n",
    "    avg_clustering += compute_clustering_coefficient(adjacency, i)\n",
    "print(avg_clustering/n_nodes)"
   ]
  },
  {
   "cell_type": "code",
   "execution_count": null,
   "metadata": {},
   "outputs": [],
   "source": []
  }
 ],
 "metadata": {
  "kernelspec": {
   "display_name": "Python 3",
   "language": "python",
   "name": "python3"
  },
  "language_info": {
   "codemirror_mode": {
    "name": "ipython",
    "version": 3
   },
   "file_extension": ".py",
   "mimetype": "text/x-python",
   "name": "python",
   "nbconvert_exporter": "python",
   "pygments_lexer": "ipython3",
   "version": "3.7.0"
  }
 },
 "nbformat": 4,
 "nbformat_minor": 2
}
