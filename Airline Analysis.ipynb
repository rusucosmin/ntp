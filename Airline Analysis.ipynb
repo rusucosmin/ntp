{
 "cells": [
  {
   "cell_type": "markdown",
   "metadata": {},
   "source": [
    "# Airline Analysis"
   ]
  },
  {
   "cell_type": "markdown",
   "metadata": {},
   "source": [
    "Resources:\n",
    "\n",
    "Economics:\n",
    "http://www.oecd.org/daf/competition/airlinecompetition.htm\n",
    "\n",
    "Graph theoretical:\n",
    "https://beta.vu.nl/nl/Images/werkstuk-meer_tcm235-280356.pdf\n",
    "\n",
    "aircraft traffic data by main airport:\n",
    "https://datamarket.com/data/set/196g/aircraft-traffic-data-by-main-airport#!ds=196g!nto=6:ntp=b:ntq=3:ntr=1.1g.1u.7.z.a.j.v.1b.t.d.s.1n.12.p.8.b.y.e.19.17.1v.9.i.11.1f.1s.1a.1w.x.14.1l.1p.4.k.1r.g.1x.1c.f.15.q.1j.1t.l.1k.1h:nts=nf.rb&display=line\n",
    "\n",
    "\n",
    "\n"
   ]
  },
  {
   "cell_type": "code",
   "execution_count": 1,
   "metadata": {},
   "outputs": [],
   "source": [
    "import  geopy\n",
    "from  geopy.distance import distance #calculates distance based on coordinates\n",
    "from geopy.geocoders import Nominatim\n",
    "\n",
    "import operator\n",
    "import numpy as np\n",
    "import pandas as pd\n",
    "import networkx as nx\n",
    "import matplotlib.pyplot as plt\n",
    "import seaborn as sns\n",
    "\n",
    "from sklearn.preprocessing import StandardScaler\n",
    "from sklearn.decomposition import PCA\n",
    "\n",
    "import urllib3\n",
    "from bs4 import BeautifulSoup\n",
    "urllib3.disable_warnings()\n",
    "from urllib.parse import quote\n",
    "\n",
    "import unicodedata\n",
    "import string\n",
    "import re"
   ]
  },
  {
   "cell_type": "markdown",
   "metadata": {},
   "source": [
    "## Data processing"
   ]
  },
  {
   "cell_type": "markdown",
   "metadata": {},
   "source": [
    "### Loading the dataset"
   ]
  },
  {
   "cell_type": "markdown",
   "metadata": {},
   "source": [
    "Pull up-to-date data from github"
   ]
  },
  {
   "cell_type": "code",
   "execution_count": 2,
   "metadata": {},
   "outputs": [
    {
     "name": "stdout",
     "output_type": "stream",
     "text": [
      "Getting airports data\n",
      "Getting airlines data\n",
      "Getting routes data\n",
      "Getting planes data\n"
     ]
    }
   ],
   "source": [
    "!bash download_data.sh"
   ]
  },
  {
   "cell_type": "code",
   "execution_count": 3,
   "metadata": {},
   "outputs": [],
   "source": [
    "airports = pd.read_csv('airports.dat', header=None, names=\n",
    "                      [\"AirportID\",\"Name\", \"City\", \"Country\", \"IATA\", \"ICAO\",\n",
    "                       \"Latitude\", \"Longitude\", \"Altitude\", \"Timezone\", \"DST\", \"TzDatabaseTimeZone\",\n",
    "                       \"Type\", \"Source\"],\n",
    "                      na_values='\\\\N')\n",
    "airlines = pd.read_csv('airlines.dat', header=None, names=\n",
    "                       [\"AirlineID\", \"Name\", \"Alias\", \"IATA\", \"ICAO\", \"Callsign\", \"Country\", \"Active\"]\n",
    "                       ,na_values='\\\\N')\n",
    "routes = pd.read_csv('routes.dat', header=None, names=\n",
    "                     ['Airline', 'AirlineID', 'SourceAirport', 'SourceAirportID', 'DestinationAirport',\n",
    "                      'DestinationAirportID', 'Codeshare', 'Stops', 'Equipment'],\n",
    "                    na_values='\\\\N')\n",
    "planes = pd.read_csv('planes.dat', header=None, names=['Name', 'IATA code', 'ICAO code'])"
   ]
  },
  {
   "cell_type": "code",
   "execution_count": 4,
   "metadata": {},
   "outputs": [
    {
     "data": {
      "text/html": [
       "<div>\n",
       "<style scoped>\n",
       "    .dataframe tbody tr th:only-of-type {\n",
       "        vertical-align: middle;\n",
       "    }\n",
       "\n",
       "    .dataframe tbody tr th {\n",
       "        vertical-align: top;\n",
       "    }\n",
       "\n",
       "    .dataframe thead th {\n",
       "        text-align: right;\n",
       "    }\n",
       "</style>\n",
       "<table border=\"1\" class=\"dataframe\">\n",
       "  <thead>\n",
       "    <tr style=\"text-align: right;\">\n",
       "      <th></th>\n",
       "      <th>Airline</th>\n",
       "      <th>AirlineID</th>\n",
       "      <th>SourceAirport</th>\n",
       "      <th>SourceAirportID</th>\n",
       "      <th>DestinationAirport</th>\n",
       "      <th>DestinationAirportID</th>\n",
       "      <th>Codeshare</th>\n",
       "      <th>Stops</th>\n",
       "      <th>Equipment</th>\n",
       "    </tr>\n",
       "  </thead>\n",
       "  <tbody>\n",
       "    <tr>\n",
       "      <th>0</th>\n",
       "      <td>2B</td>\n",
       "      <td>410.0</td>\n",
       "      <td>AER</td>\n",
       "      <td>2965.0</td>\n",
       "      <td>KZN</td>\n",
       "      <td>2990.0</td>\n",
       "      <td>NaN</td>\n",
       "      <td>0</td>\n",
       "      <td>CR2</td>\n",
       "    </tr>\n",
       "    <tr>\n",
       "      <th>1</th>\n",
       "      <td>2B</td>\n",
       "      <td>410.0</td>\n",
       "      <td>ASF</td>\n",
       "      <td>2966.0</td>\n",
       "      <td>KZN</td>\n",
       "      <td>2990.0</td>\n",
       "      <td>NaN</td>\n",
       "      <td>0</td>\n",
       "      <td>CR2</td>\n",
       "    </tr>\n",
       "    <tr>\n",
       "      <th>2</th>\n",
       "      <td>2B</td>\n",
       "      <td>410.0</td>\n",
       "      <td>ASF</td>\n",
       "      <td>2966.0</td>\n",
       "      <td>MRV</td>\n",
       "      <td>2962.0</td>\n",
       "      <td>NaN</td>\n",
       "      <td>0</td>\n",
       "      <td>CR2</td>\n",
       "    </tr>\n",
       "    <tr>\n",
       "      <th>3</th>\n",
       "      <td>2B</td>\n",
       "      <td>410.0</td>\n",
       "      <td>CEK</td>\n",
       "      <td>2968.0</td>\n",
       "      <td>KZN</td>\n",
       "      <td>2990.0</td>\n",
       "      <td>NaN</td>\n",
       "      <td>0</td>\n",
       "      <td>CR2</td>\n",
       "    </tr>\n",
       "    <tr>\n",
       "      <th>4</th>\n",
       "      <td>2B</td>\n",
       "      <td>410.0</td>\n",
       "      <td>CEK</td>\n",
       "      <td>2968.0</td>\n",
       "      <td>OVB</td>\n",
       "      <td>4078.0</td>\n",
       "      <td>NaN</td>\n",
       "      <td>0</td>\n",
       "      <td>CR2</td>\n",
       "    </tr>\n",
       "  </tbody>\n",
       "</table>\n",
       "</div>"
      ],
      "text/plain": [
       "  Airline  AirlineID SourceAirport  SourceAirportID DestinationAirport  \\\n",
       "0      2B      410.0           AER           2965.0                KZN   \n",
       "1      2B      410.0           ASF           2966.0                KZN   \n",
       "2      2B      410.0           ASF           2966.0                MRV   \n",
       "3      2B      410.0           CEK           2968.0                KZN   \n",
       "4      2B      410.0           CEK           2968.0                OVB   \n",
       "\n",
       "   DestinationAirportID Codeshare  Stops Equipment  \n",
       "0                2990.0       NaN      0       CR2  \n",
       "1                2990.0       NaN      0       CR2  \n",
       "2                2962.0       NaN      0       CR2  \n",
       "3                2990.0       NaN      0       CR2  \n",
       "4                4078.0       NaN      0       CR2  "
      ]
     },
     "execution_count": 4,
     "metadata": {},
     "output_type": "execute_result"
    }
   ],
   "source": [
    "routes.head()"
   ]
  },
  {
   "cell_type": "code",
   "execution_count": 5,
   "metadata": {},
   "outputs": [
    {
     "data": {
      "text/html": [
       "<div>\n",
       "<style scoped>\n",
       "    .dataframe tbody tr th:only-of-type {\n",
       "        vertical-align: middle;\n",
       "    }\n",
       "\n",
       "    .dataframe tbody tr th {\n",
       "        vertical-align: top;\n",
       "    }\n",
       "\n",
       "    .dataframe thead th {\n",
       "        text-align: right;\n",
       "    }\n",
       "</style>\n",
       "<table border=\"1\" class=\"dataframe\">\n",
       "  <thead>\n",
       "    <tr style=\"text-align: right;\">\n",
       "      <th></th>\n",
       "      <th>AirlineID</th>\n",
       "      <th>Name</th>\n",
       "      <th>Alias</th>\n",
       "      <th>IATA</th>\n",
       "      <th>ICAO</th>\n",
       "      <th>Callsign</th>\n",
       "      <th>Country</th>\n",
       "      <th>Active</th>\n",
       "    </tr>\n",
       "  </thead>\n",
       "  <tbody>\n",
       "    <tr>\n",
       "      <th>0</th>\n",
       "      <td>-1</td>\n",
       "      <td>Unknown</td>\n",
       "      <td>NaN</td>\n",
       "      <td>-</td>\n",
       "      <td>NaN</td>\n",
       "      <td>NaN</td>\n",
       "      <td>NaN</td>\n",
       "      <td>Y</td>\n",
       "    </tr>\n",
       "    <tr>\n",
       "      <th>1</th>\n",
       "      <td>1</td>\n",
       "      <td>Private flight</td>\n",
       "      <td>NaN</td>\n",
       "      <td>-</td>\n",
       "      <td>NaN</td>\n",
       "      <td>NaN</td>\n",
       "      <td>NaN</td>\n",
       "      <td>Y</td>\n",
       "    </tr>\n",
       "    <tr>\n",
       "      <th>2</th>\n",
       "      <td>2</td>\n",
       "      <td>135 Airways</td>\n",
       "      <td>NaN</td>\n",
       "      <td>NaN</td>\n",
       "      <td>GNL</td>\n",
       "      <td>GENERAL</td>\n",
       "      <td>United States</td>\n",
       "      <td>N</td>\n",
       "    </tr>\n",
       "    <tr>\n",
       "      <th>3</th>\n",
       "      <td>3</td>\n",
       "      <td>1Time Airline</td>\n",
       "      <td>NaN</td>\n",
       "      <td>1T</td>\n",
       "      <td>RNX</td>\n",
       "      <td>NEXTIME</td>\n",
       "      <td>South Africa</td>\n",
       "      <td>Y</td>\n",
       "    </tr>\n",
       "    <tr>\n",
       "      <th>4</th>\n",
       "      <td>4</td>\n",
       "      <td>2 Sqn No 1 Elementary Flying Training School</td>\n",
       "      <td>NaN</td>\n",
       "      <td>NaN</td>\n",
       "      <td>WYT</td>\n",
       "      <td>NaN</td>\n",
       "      <td>United Kingdom</td>\n",
       "      <td>N</td>\n",
       "    </tr>\n",
       "  </tbody>\n",
       "</table>\n",
       "</div>"
      ],
      "text/plain": [
       "   AirlineID                                          Name Alias IATA ICAO  \\\n",
       "0         -1                                       Unknown   NaN    -  NaN   \n",
       "1          1                                Private flight   NaN    -  NaN   \n",
       "2          2                                   135 Airways   NaN  NaN  GNL   \n",
       "3          3                                 1Time Airline   NaN   1T  RNX   \n",
       "4          4  2 Sqn No 1 Elementary Flying Training School   NaN  NaN  WYT   \n",
       "\n",
       "  Callsign         Country Active  \n",
       "0      NaN             NaN      Y  \n",
       "1      NaN             NaN      Y  \n",
       "2  GENERAL   United States      N  \n",
       "3  NEXTIME    South Africa      Y  \n",
       "4      NaN  United Kingdom      N  "
      ]
     },
     "execution_count": 5,
     "metadata": {},
     "output_type": "execute_result"
    }
   ],
   "source": [
    "airlines.head()"
   ]
  },
  {
   "cell_type": "markdown",
   "metadata": {},
   "source": [
    "Only keep airports in that are both in routes dataframe:"
   ]
  },
  {
   "cell_type": "code",
   "execution_count": 6,
   "metadata": {},
   "outputs": [],
   "source": [
    "valid_airports = set(routes.SourceAirport).union(set(routes.DestinationAirport)) \n",
    "airports = airports[airports.IATA.isin(valid_airports)]"
   ]
  },
  {
   "cell_type": "markdown",
   "metadata": {},
   "source": [
    "Only keep airlines in intersection of that are both in the airline and in the routes dataframe :"
   ]
  },
  {
   "cell_type": "code",
   "execution_count": 7,
   "metadata": {},
   "outputs": [],
   "source": [
    "valid_airlines = set(routes.AirlineID)"
   ]
  },
  {
   "cell_type": "code",
   "execution_count": 8,
   "metadata": {},
   "outputs": [],
   "source": [
    "airlines = airlines[airlines.AirlineID.isin(valid_airlines)]\n",
    "routes = routes[routes.AirlineID.isin(valid_airlines)]"
   ]
  },
  {
   "cell_type": "markdown",
   "metadata": {},
   "source": [
    "We check that for each airline we have exactly one edge between a given source and destination none. This means that our graph will be unweighted. "
   ]
  },
  {
   "cell_type": "code",
   "execution_count": 9,
   "metadata": {},
   "outputs": [
    {
     "data": {
      "text/plain": [
       "True"
      ]
     },
     "execution_count": 9,
     "metadata": {},
     "output_type": "execute_result"
    }
   ],
   "source": [
    "routes_by_airline = routes[['SourceAirport', 'DestinationAirport', 'Airline']]\n",
    "routes_by_airline.drop_duplicates().shape == routes_by_airline.shape"
   ]
  },
  {
   "cell_type": "markdown",
   "metadata": {},
   "source": [
    "Only take direct flights, only very few have more than that anyway"
   ]
  },
  {
   "cell_type": "code",
   "execution_count": 10,
   "metadata": {},
   "outputs": [],
   "source": [
    "routes = routes[routes.Stops == 0]"
   ]
  },
  {
   "cell_type": "markdown",
   "metadata": {},
   "source": [
    "### Adding Missing Airports"
   ]
  },
  {
   "cell_type": "markdown",
   "metadata": {},
   "source": [
    "Airports to fill in information for :"
   ]
  },
  {
   "cell_type": "code",
   "execution_count": 11,
   "metadata": {},
   "outputs": [
    {
     "data": {
      "text/plain": [
       "204"
      ]
     },
     "execution_count": 11,
     "metadata": {},
     "output_type": "execute_result"
    }
   ],
   "source": [
    "len(valid_airports - set(airports.IATA))"
   ]
  },
  {
   "cell_type": "markdown",
   "metadata": {},
   "source": [
    "Web crawling:"
   ]
  },
  {
   "cell_type": "code",
   "execution_count": 21,
   "metadata": {},
   "outputs": [],
   "source": [
    "all_data = []\n",
    "to_find = valid_airports - set(airports.IATA)\n",
    "\n",
    "for u in string.ascii_uppercase:\n",
    "    url =u'https://en.wikipedia.org/wiki/List_of_airports_by_IATA_code:_'+quote(u)\n",
    "    http_pool = urllib3.connection_from_url(url)\n",
    "    r = http_pool.urlopen('GET',url)\n",
    "\n",
    "    html = r.data\n",
    "\n",
    "    tree = BeautifulSoup(html,\"lxml\")\n",
    "    table_tag = tree.select(\"table\")[0]\n",
    "    tab_data = [[item.text.replace('\\n', '') for item in row_data.select(\"th,td\")]\n",
    "                    for row_data in table_tag.select(\"tr\")]\n",
    "    all_data = all_data + tab_data\n",
    "\n",
    "df = pd.DataFrame(all_data[2:], columns=all_data[0])\n",
    "df = df[df.IATA.isin(to_find)]"
   ]
  },
  {
   "cell_type": "code",
   "execution_count": 22,
   "metadata": {},
   "outputs": [
    {
     "data": {
      "text/plain": [
       "IATA               176\n",
       "ICAO               176\n",
       "Airport name       176\n",
       "Location served    176\n",
       "Time               105\n",
       "DST                105\n",
       "dtype: int64"
      ]
     },
     "execution_count": 22,
     "metadata": {},
     "output_type": "execute_result"
    }
   ],
   "source": [
    "df.count()"
   ]
  },
  {
   "cell_type": "code",
   "execution_count": 23,
   "metadata": {},
   "outputs": [],
   "source": [
    "geolocator = Nominatim(timeout=3, user_agent=\"my-application\")"
   ]
  },
  {
   "cell_type": "code",
   "execution_count": 24,
   "metadata": {},
   "outputs": [],
   "source": [
    "def get_info(address):\n",
    "    try:\n",
    "        location = geolocator.geocode(address, addressdetails=True, language='en')\n",
    "        return location.raw['address']['country'], location.raw['lon'], location.raw['lat']\n",
    "    except:\n",
    "        return None, None, None"
   ]
  },
  {
   "cell_type": "markdown",
   "metadata": {},
   "source": [
    "Cleaning the dataframe:"
   ]
  },
  {
   "cell_type": "code",
   "execution_count": 25,
   "metadata": {},
   "outputs": [],
   "source": [
    "details = df['Location\\xa0served'].map(lambda x: get_info(x))\n",
    "\n",
    "df['Country'] = details.map(lambda x: x[0])\n",
    "df['Longitude'] = details.map(lambda x: x[1])\n",
    "df['Latitude'] = details.map(lambda x: x[2])\n",
    "\n",
    "df['Airport\\xa0name'] = df['Airport\\xa0name'].map(lambda x: re.sub('[\\d\\[\\]]*|\\([A-Z\\ \\:\\d]*\\)', '', x).strip())\n",
    "df.rename(columns={'Airport\\xa0name': 'Name', 'Location\\xa0served': 'City'}, inplace=True)\n",
    "\n",
    "df['Country'] = df.City.map(lambda x: x.split(',')[-1])\n",
    "df['City'] = df.City.map(lambda x: x.split(',')[0])\n",
    "\n",
    "del df['DST']"
   ]
  },
  {
   "cell_type": "markdown",
   "metadata": {},
   "source": [
    "Manual additions to the dataset:"
   ]
  },
  {
   "cell_type": "code",
   "execution_count": 26,
   "metadata": {},
   "outputs": [],
   "source": [
    "newMatrix = [['Altay Air Base', 'AAT', 47.7498856, 88.0858078, 'Altay', 'China', 'ZWAT'],\n",
    "             ['Baise Youjiang Airport ', 'AEB', 23.7206001, 106.9599991, 'Baise', 'China', 'ZGBS'],\n",
    "             ['Tasiilaq', 'AGM', 65.6122961, -37.6183355, 'Tasiilaq', 'Greenland', 'BGAM'],\n",
    "             ['Atmautluak Airport', 'ATT', 60.8666992, -162.272995, 'Atmautluak', 'United States', ''],\n",
    "             ['Branson Airport', 'BKG', 36.532082, -93.200544, 'Branson', 'United States', 'KBBG'],\n",
    "             ['Baoshan Yunduan Airport', 'BSD', 25.0533009, 99.1682968, 'Baoshan', 'United States', 'ZPBS'],\n",
    "             ['Laguindingan Airport', 'CGY', 8.612203, 124.456496, 'Cagayan de Oro City', 'Philippines', ''],\n",
    "             ['Chuathbaluk Airport', 'CHU', 61.579102, -159.216003, 'Chuathbaluk', 'United States', 'PACH'],\n",
    "             ['Crooked Creek Airport', 'CKD', 61.8679008, -158.1349945, 'Crooked Creek', 'United States', 'CJX'],\n",
    "             ['Desierto De Atacama Airport', 'CPO', -27.2612, -70.7791977, 'Copiapo', 'Chile', 'SCAT'],\n",
    "             ['Dandong Airport', 'DDG', 40.0247002, 124.2860031, 'Dandong', 'China', 'ZYDD'],\n",
    "             ['Hamad International Airport', 'DOH', 25.2620449, 51.6130829, 'Doha', 'Qatar', 'OTHH'],\n",
    "             ['Dongying Shengli Airport', 'DOY', 37.5085983, 118.788002, 'Dongying', 'China', 'ZSDY'],\n",
    "             ['Saertu Airport', 'DQA', 46.7463889, 125.1405556, 'Daqing Shi', 'China', 'ZYDQ'],\n",
    "             ['Førde Airport', 'FDE', 61.3911018, 5.7569399, 'Førde', 'Norway', 'ENBL'],\n",
    "             ['FMt. Fuji Shizuoka Airport', 'FSZ', 34.7960435, 138.1877518, 'Makinohara', 'Japan', 'RJNS'],\n",
    "             ['Foshan Shadi Airport', 'FUO', 23.0832996, 113.0699997, 'Foshan', 'China', 'ZGFS'],\n",
    "             ['Goulimime Airport', 'GLN', 29.0266991, -10.0502996, 'Goulimime', 'Morocco', 'GMAG'],\n",
    "             ['Gheshm Airport', 'GSM', 26.9487, 56.2687988, 'Gheshm', 'Iran', 'OIKQ'],\n",
    "             ['Lianshui Airport', 'HIA', 33.7908333, 119.125, 'Huai\\'an', 'China', 'ZSSH'],\n",
    "             ['Iğdır Airport', 'IGD', 39.9766274, 43.876648, 'Iğdır', 'Turkey', 'LTCT'],            \n",
    "             ['Kingman Airport', 'IGM', 35.2594986, -113.9380035, 'Kingman', 'United States', 'KIGM'],\n",
    "             ['Jiagedaqi Airport', 'JGD', 50.375, 124.1166667, 'Jiagedaqi', 'China', ''],\n",
    "             ['Jinggangshan Airport', 'JGS', 26.8568993, 114.7369995, 'Ji\\'an', 'China', 'ZSJA'],\n",
    "             ['Jinchuan Airport', 'JIC', 38.5422222, 102.3483333, 'Jinchang', 'China', 'ZLJC'],\n",
    "             ['Qianjiang Wulingshan Airport', 'JIQ', 29.5133333, 108.8311111, 'Qianjiang', 'China', 'ZUQJ'],            \n",
    "             ['Chizhou Jiuhuashan Airport', 'JUH', 30.7403, 117.6856, 'Chizhou', 'China', 'ZSJH'],\n",
    "             ['Stagen Airport', 'KBU', -3.2947199, 116.1650009, 'Laut Island', 'Indonesia', 'WAOK'],\n",
    "             ['Grayling Airport', 'KGX', 62.8945999, -160.0650024, 'Grayling', 'United States', 'PAGX'],\n",
    "             ['Akiachak Airport', 'KKI', 60.9079018, -161.4349976, 'Akiachak', 'United States', 'KKI'],\n",
    "             ['Kulusuk Airport', 'KUS', 65.5736008, -37.1236, 'Kulusuk', 'Greenland', 'BGKK'],\n",
    "             ['Long Banga Airport', 'LBP', 3.202, 115.4018, 'Long Banga', 'Malaysia', ''],\n",
    "             ['Lintsang Airfield', 'LNJ', 23.7381001, 100.0250015, 'Lincang', 'China', 'ZPLC'],\n",
    "             ['Lublin Airport', 'LUZ', 51.240278, 22.713611, 'Lublin', 'Poland', 'EPLB'],\n",
    "             ['Tampa Padang Airport', 'MJU', -2.583333, 119.033333, 'Mamuju-Celebes Island', 'Indonesia', 'WAWJ'],\n",
    "             ['Basel Mulhouse Freiburg Airport', 'MLH',  47.5999, 7.53166, 'Basel Mulhouse Freiburg', 'France', 'LFSB'],\n",
    "             ['Misratah Airport', 'MRA',  32.3250008, 15.0609999, 'Misratah', 'Libya', 'HLMS'],\n",
    "             ['Enfidha - Hammamet International Airport', 'NBE',  36.075833, 10.438611, 'Enfidha', 'Tunisia', 'DTNH'],\n",
    "             ['Changbaishan Airport', 'NBS',  42.0669444, 127.6022222, 'Baishan', 'China', 'ZYBS'],\n",
    "             ['Nuussuaq Heliport', 'NSQ',  74.109722, -57.065, 'Nuussuaq', 'Greenland', 'BGNU'],\n",
    "             ['Niaqornat Heliport', 'NIQ',  70.788889, -53.656111, 'Niaqornat', 'Greenland', 'BGNT'],\n",
    "             ['Nantong Airport', 'NTG',  32.0708008, 120.9759979, 'Nantong', 'China', 'ZSNT'],\n",
    "             ['Nunapitchuk Airport', 'NUP',  60.9057999, -162.4389954, 'Nunapitchuk', 'United States', 'PPIT'],\n",
    "             ['Point Hope Airport', 'PHO', 68.3488007 , -166.798996, 'Point Hope', 'United States', 'PAPO'],\n",
    "             ['Pilot Station Airport', 'PQS', 61.9346008 , -162.8999939, 'Pilot Station', 'United States', ''],\n",
    "             ['Pomala Airport', 'PUM', -4.1810899 , 121.6179962, 'Kolaka', 'Indonesia', 'WAWP'],\n",
    "             ['Bao\\'anying Airport', 'PZI', 26.54 , 101.79852, 'Panzhihua', 'China', 'ZUZH'],\n",
    "             ['Narsaq Kujalleq', 'QFN', 60.0046935, -44.6569347, 'Narsaq Kujalleq', 'Greenland', 'BGFD'],\n",
    "             ['Igaliku', 'QFX', 60.9920065, -45.4323345, 'Igaliku', 'Greenland', 'BGIO'],\n",
    "             ['Qassimiut Heliport', 'QJH', 60.779444,  -47.1525, 'Qassimiut', 'Greenland', 'BGQT'],\n",
    "             ['Aappilattoq', 'QUV', 60.1483571,  -44.2869186, 'Nanortalik', 'Greenland', 'BGAQ'],\n",
    "             ['Ammassivik', 'QUW', 60.5973758,  -45.3824455, 'Ammassivik', 'Greenland', 'BGAS'],\n",
    "             ['Red Devil Airport', 'RDV', 61.7881012,  -157.3500061, 'Red Devil', 'United States', 'RDV'],\n",
    "             ['Rio Grande Airport', 'RIG', -32.081699,  -52.163299, 'Rio Grande', 'Brazil', 'SJRG'],\n",
    "             ['Saattut Heliport', 'SAE', 70.808611,  -51.626667, 'Saattut', 'Greenland', 'BGST'],\n",
    "             ['Shire Inda Selassie Airport', 'SHC', 14.0781002,  38.2724991, 'Shire Indasilase', 'Ethiopia', ''],\n",
    "             ['Stony River 2 Airport', 'SRV', 61.7896996,  -156.5890045, 'Stony River', 'United States', 'SRV'],\n",
    "             ['Sheldon Point Airport', 'SXP', 62.5205994,  -164.8480072, 'Nunam Iqua', 'United States', 'SXP'],\n",
    "             ['Semera Airport', 'SZE', 11.7875,  40.9915, 'Semera', 'Ethiopia', 'HASM'],\n",
    "             ['Tuticorin Airport', 'TCR', 8.7241667,  78.0258333, 'Thoothukudi', 'India', 'VOTK'],\n",
    "             ['Tanjung Manis Airport', 'TGC', 2.17784,  111.2020035, 'Tanjung Manis', 'Malaysia', 'WBGT'],\n",
    "             ['Thọ Xuân Airport', 'THD', 19.901667,  105.467778, 'Sao Vàng', 'Vietnam', 'VVTX'],\n",
    "             ['Tuluksak Airport', 'TLT', 61.0877292,  -160.9233542, 'Tuluksak', 'United States', 'TLT'],\n",
    "             ['Tununak Airport', 'TNK', 60.5755005,  -165.2720032, 'Tununak', 'United States', '4KA'],\n",
    "             ['Tasiusaq Heliport', 'TQA', 73.373055,  -56.06028, 'Tasiusaq', 'Greenland', 'BGTA'],\n",
    "             ['Tangshan Sannühe Airport', 'TVS', 39.7178001,  118.0026245, 'Tangshan', 'China', 'ZBTS'],\n",
    "             ['Majeed Bin Abdulaziz Airport', 'ULH', 26.48,  38.1288889, 'Al Ula', 'Saudi Arabia', 'OEAO'],\n",
    "             ['Upernavik Kujalleq', 'UPK', 72.1527425,  -55.5309856, 'Upernavik Kujalleq', 'Greenland', 'BGKL'],\n",
    "             ['Dong Hoi Airport', 'VDH', 17.515,  106.590556, 'Dong Hoi', 'Vietnam', 'VVDH'],\n",
    "             ['Stebbins Airport', 'WBB', 63.5159988,  -162.2779999, 'Stebbins', 'United States', 'WBB'],\n",
    "             ['Wenshan Puzhehei Airport', 'WNH', 23.563611,  104.333611, 'Wenshan City', 'China', 'ZPWS'],\n",
    "             ['Tuntutuliak Airport', 'WTL', 60.3516111,  -162.6539722, 'Tuntutuliak', 'United States', 'A61'],\n",
    "             ['Newtok Airport ', 'WWT', 60.9236984,  -164.6560059, 'Newtok', 'United States', 'WWT'],\n",
    "             ['Tasiusaq Heliport', 'XEQ', 60.193889,   -44.811667, 'Tasiusaq', 'Greenland', 'BGTQ'],\n",
    "             ['Zhangye Ganzhou Airport', 'YZY', 38.801899,   100.6750031, 'Zhangye', 'China', 'ZLZY'],\n",
    "             ['La Araucanía Airport', 'ZCO', -38.9259, -72.6515, 'Temuco', 'Chile', 'SCQP'],\n",
    "             ['Zhangjiakou Ningyuan Airport', 'ZQZ', 40.7386017, 114.9300003, 'Zhangjiakou', 'China', 'ZBZJ'],\n",
    "             ['Aappilattoq Heliport', 'AOQ',72.886944,-55.596111, 'Aappilattoq', 'Greenland', 'BGAG'],\n",
    "             ['Cewlik Bingöl Airport', 'BGG', 38.861111, 40.5925, 'Bingöl', 'Turkey', 'LTCU'],\n",
    "             ['Ikerasak Heliport', 'IKE', 70.542368,  -51.520606, 'Ikerasak', 'Greenland', ''],\n",
    "             ['Isortoq Heliport', 'IOQ', 65.546667,   -38.977778, 'Isortoq', 'Greenland', 'BGIS'],\n",
    "             ['Illorsuit Heliport', 'IOT', 71.239722, -53.555556, 'Illorsuit', 'Greenland', 'BGLL'],\n",
    "             ['Islamabad International Airport', 'ISB', 33.549083, 72.82565, 'Islamabad', 'Pakistan', 'OPIS'],\n",
    "             ['Innaarsuit Heliport', 'IUI', 73.2025, -56.011111, 'Innaarsuit', 'Greenland', 'BGIN'],\n",
    "             ['Nuugaatsiaq Heliport', 'JUU', 71.538611, -53.205, 'Nuugaatsiaq', 'Greenland', 'BGNQ'],\n",
    "             ['Kangersuatsiaq Heliport', 'KGQ', 72.381111, -55.536667, 'Kangersuatsiaq', 'Greenland', 'BGKS'],\n",
    "             ['Kullorsuaq Heliport', 'KHQ', 74.579444, -57.235556, 'Kullorsuaq', 'Greenland', 'BGKQ'],\n",
    "             ['Simanggang Airport', 'SGG', 1.217, 111.4499969, 'Sri Aman', 'Malaysia', 'WBGY'],\n",
    "             ['Sierra Leone Airport', 'SRK', 8.5, -13.5083333, 'Sierra Leone', 'Sierra Leone', ''],\n",
    "             ['Svay Rieng Airport', 'SVR', 11.0833333, 105.8055556, 'Svay Rieng', 'Cambodia', ''],\n",
    "             ['Biloela Airport', 'ZBL', -24.4, 150.5, 'Biloela', 'Australia', '']]\n",
    "             \n",
    "             \n",
    "append_df = pd.DataFrame(newMatrix, columns=['Name', 'IATA', 'Latitude', 'Longitude', 'City', 'Country', 'ICAO']) \n",
    "airports = airports.append(append_df, sort=False)\n"
   ]
  },
  {
   "cell_type": "code",
   "execution_count": 27,
   "metadata": {},
   "outputs": [],
   "source": [
    "df = df[~df.IATA.isin(airports.IATA)]"
   ]
  },
  {
   "cell_type": "markdown",
   "metadata": {},
   "source": [
    "Append missing to dataframe"
   ]
  },
  {
   "cell_type": "code",
   "execution_count": 28,
   "metadata": {},
   "outputs": [],
   "source": [
    "airports = airports.append(df, sort=False)"
   ]
  },
  {
   "cell_type": "markdown",
   "metadata": {},
   "source": [
    "### Merging Routes with Airlines:"
   ]
  },
  {
   "cell_type": "markdown",
   "metadata": {},
   "source": [
    "We are only interessted in currently active airlines:"
   ]
  },
  {
   "cell_type": "code",
   "execution_count": 29,
   "metadata": {},
   "outputs": [],
   "source": [
    "merged_routes = pd.merge(airlines[airlines.Active == 'Y'], routes, on='AirlineID')"
   ]
  },
  {
   "cell_type": "code",
   "execution_count": 30,
   "metadata": {},
   "outputs": [
    {
     "data": {
      "text/html": [
       "<div>\n",
       "<style scoped>\n",
       "    .dataframe tbody tr th:only-of-type {\n",
       "        vertical-align: middle;\n",
       "    }\n",
       "\n",
       "    .dataframe tbody tr th {\n",
       "        vertical-align: top;\n",
       "    }\n",
       "\n",
       "    .dataframe thead th {\n",
       "        text-align: right;\n",
       "    }\n",
       "</style>\n",
       "<table border=\"1\" class=\"dataframe\">\n",
       "  <thead>\n",
       "    <tr style=\"text-align: right;\">\n",
       "      <th></th>\n",
       "      <th>AirlineID</th>\n",
       "      <th>Name</th>\n",
       "      <th>Alias</th>\n",
       "      <th>IATA</th>\n",
       "      <th>ICAO</th>\n",
       "      <th>Callsign</th>\n",
       "      <th>Country</th>\n",
       "      <th>Active</th>\n",
       "      <th>Airline</th>\n",
       "      <th>SourceAirport</th>\n",
       "      <th>SourceAirportID</th>\n",
       "      <th>DestinationAirport</th>\n",
       "      <th>DestinationAirportID</th>\n",
       "      <th>Codeshare</th>\n",
       "      <th>Stops</th>\n",
       "      <th>Equipment</th>\n",
       "    </tr>\n",
       "  </thead>\n",
       "  <tbody>\n",
       "    <tr>\n",
       "      <th>0</th>\n",
       "      <td>10</td>\n",
       "      <td>40-Mile Air</td>\n",
       "      <td>NaN</td>\n",
       "      <td>Q5</td>\n",
       "      <td>MLA</td>\n",
       "      <td>MILE-AIR</td>\n",
       "      <td>United States</td>\n",
       "      <td>Y</td>\n",
       "      <td>Q5</td>\n",
       "      <td>CKX</td>\n",
       "      <td>NaN</td>\n",
       "      <td>TKJ</td>\n",
       "      <td>7235.0</td>\n",
       "      <td>NaN</td>\n",
       "      <td>0</td>\n",
       "      <td>CNA</td>\n",
       "    </tr>\n",
       "  </tbody>\n",
       "</table>\n",
       "</div>"
      ],
      "text/plain": [
       "   AirlineID         Name Alias IATA ICAO  Callsign        Country Active  \\\n",
       "0         10  40-Mile Air   NaN   Q5  MLA  MILE-AIR  United States      Y   \n",
       "\n",
       "  Airline SourceAirport  SourceAirportID DestinationAirport  \\\n",
       "0      Q5           CKX              NaN                TKJ   \n",
       "\n",
       "   DestinationAirportID Codeshare  Stops Equipment  \n",
       "0                7235.0       NaN      0       CNA  "
      ]
     },
     "execution_count": 30,
     "metadata": {},
     "output_type": "execute_result"
    }
   ],
   "source": [
    "merged_routes.head(1)"
   ]
  },
  {
   "cell_type": "markdown",
   "metadata": {},
   "source": [
    "Getting whether the flight is international or not:"
   ]
  },
  {
   "cell_type": "code",
   "execution_count": 31,
   "metadata": {},
   "outputs": [],
   "source": [
    "Airport_to_country = airports.set_index('IATA').Country.to_dict()"
   ]
  },
  {
   "cell_type": "code",
   "execution_count": 32,
   "metadata": {},
   "outputs": [],
   "source": [
    "def get_international(x):\n",
    "    try:\n",
    "        if Airport_to_country[x.SourceAirport] != Airport_to_country[x.DestinationAirport]:\n",
    "            return 1\n",
    "        else:\n",
    "            return 0\n",
    "    except:\n",
    "        return None"
   ]
  },
  {
   "cell_type": "code",
   "execution_count": 33,
   "metadata": {},
   "outputs": [],
   "source": [
    "merged_routes['International'] = merged_routes.apply(\n",
    "    lambda x: get_international(x), axis=1)"
   ]
  },
  {
   "cell_type": "markdown",
   "metadata": {},
   "source": [
    "Reset frames to create mappings:"
   ]
  },
  {
   "cell_type": "code",
   "execution_count": 34,
   "metadata": {},
   "outputs": [],
   "source": [
    "#only keep values we are interested in\n",
    "airports_filtered = airports[['Name', 'Country', 'Longitude', 'Latitude', 'Timezone', 'IATA', 'City']].copy()"
   ]
  },
  {
   "cell_type": "code",
   "execution_count": 35,
   "metadata": {},
   "outputs": [
    {
     "data": {
      "text/plain": [
       "False"
      ]
     },
     "execution_count": 35,
     "metadata": {},
     "output_type": "execute_result"
    }
   ],
   "source": [
    "#IATA airport id -> longitude latitude\n",
    "#airports_filtered.dropna(inplace=True)\n",
    "airports_filtered.set_index('IATA', inplace=True)\n",
    "\n",
    "airports_filtered.Longitude.dropna().shape == airports_filtered.Longitude.shape"
   ]
  },
  {
   "cell_type": "code",
   "execution_count": 36,
   "metadata": {},
   "outputs": [
    {
     "name": "stdout",
     "output_type": "stream",
     "text": [
      "(3420,)\n",
      "(3420,)\n"
     ]
    }
   ],
   "source": [
    "print(airports.Longitude.shape)\n",
    "print(airports_filtered.Longitude.shape)"
   ]
  },
  {
   "cell_type": "code",
   "execution_count": 37,
   "metadata": {},
   "outputs": [],
   "source": [
    "location_mapping = airports_filtered.apply(lambda x: [x.Longitude, x.Latitude], axis=1).to_dict()"
   ]
  },
  {
   "cell_type": "code",
   "execution_count": 38,
   "metadata": {},
   "outputs": [],
   "source": [
    "#Airline name -> airlineID\n",
    "airline_name_to_number = merged_routes.Name.drop_duplicates().reset_index(drop=True).to_dict()\n",
    "airline_name_to_number = {v: k for k, v in airline_name_to_number.items()}"
   ]
  },
  {
   "cell_type": "code",
   "execution_count": 39,
   "metadata": {},
   "outputs": [],
   "source": [
    "merged_routes['AirlineNbr'] = merged_routes.Name.map(airline_name_to_number)"
   ]
  },
  {
   "cell_type": "markdown",
   "metadata": {},
   "source": [
    "Fill in Nan values:"
   ]
  },
  {
   "cell_type": "code",
   "execution_count": 40,
   "metadata": {},
   "outputs": [],
   "source": [
    "merged_routes['Codeshare'] = merged_routes.Codeshare.fillna('N')"
   ]
  },
  {
   "cell_type": "markdown",
   "metadata": {},
   "source": [
    "### Getting the distance between two airports:"
   ]
  },
  {
   "cell_type": "markdown",
   "metadata": {},
   "source": [
    "Example of functionality:"
   ]
  },
  {
   "cell_type": "code",
   "execution_count": 41,
   "metadata": {},
   "outputs": [],
   "source": [
    "element = airports_filtered.apply(lambda x: (x.Latitude, x.Longitude), axis=1)[0]\n",
    "element2 = airports_filtered.apply(lambda x: (x.Latitude, x.Longitude), axis=1)[1]"
   ]
  },
  {
   "cell_type": "code",
   "execution_count": 42,
   "metadata": {},
   "outputs": [
    {
     "data": {
      "text/plain": [
       "106.2489585209369"
      ]
     },
     "execution_count": 42,
     "metadata": {},
     "output_type": "execute_result"
    }
   ],
   "source": [
    "distance(element, element2).km"
   ]
  },
  {
   "cell_type": "code",
   "execution_count": 43,
   "metadata": {},
   "outputs": [],
   "source": [
    "distance_mapping = airports_filtered.apply(lambda x: (x.Latitude, x.Longitude), axis=1).to_dict()"
   ]
  },
  {
   "cell_type": "markdown",
   "metadata": {},
   "source": [
    "Additing it to merged_routes:"
   ]
  },
  {
   "cell_type": "code",
   "execution_count": 44,
   "metadata": {},
   "outputs": [],
   "source": [
    "def get_distance(source, dest):\n",
    "    try:\n",
    "        dist = distance(distance_mapping[source], distance_mapping[dest]).km\n",
    "        return dist\n",
    "    except:\n",
    "        return None"
   ]
  },
  {
   "cell_type": "code",
   "execution_count": 45,
   "metadata": {},
   "outputs": [],
   "source": [
    "merged_routes['Distance'] = merged_routes.apply(lambda x: get_distance(x.SourceAirport, x.DestinationAirport), axis=1)"
   ]
  },
  {
   "cell_type": "code",
   "execution_count": 46,
   "metadata": {},
   "outputs": [],
   "source": [
    "relevant_columns = ['Name', 'ICAO', 'Country', 'SourceAirport', 'DestinationAirport', 'Codeshare',\n",
    "                    'Stops', 'Equipment', 'AirlineNbr', 'International', 'Distance']"
   ]
  },
  {
   "cell_type": "code",
   "execution_count": 47,
   "metadata": {},
   "outputs": [
    {
     "data": {
      "text/html": [
       "<div>\n",
       "<style scoped>\n",
       "    .dataframe tbody tr th:only-of-type {\n",
       "        vertical-align: middle;\n",
       "    }\n",
       "\n",
       "    .dataframe tbody tr th {\n",
       "        vertical-align: top;\n",
       "    }\n",
       "\n",
       "    .dataframe thead th {\n",
       "        text-align: right;\n",
       "    }\n",
       "</style>\n",
       "<table border=\"1\" class=\"dataframe\">\n",
       "  <thead>\n",
       "    <tr style=\"text-align: right;\">\n",
       "      <th></th>\n",
       "      <th>AirlineID</th>\n",
       "      <th>Name</th>\n",
       "      <th>Alias</th>\n",
       "      <th>IATA</th>\n",
       "      <th>ICAO</th>\n",
       "      <th>Callsign</th>\n",
       "      <th>Country</th>\n",
       "      <th>Active</th>\n",
       "      <th>Airline</th>\n",
       "      <th>SourceAirport</th>\n",
       "      <th>SourceAirportID</th>\n",
       "      <th>DestinationAirport</th>\n",
       "      <th>DestinationAirportID</th>\n",
       "      <th>Codeshare</th>\n",
       "      <th>Stops</th>\n",
       "      <th>Equipment</th>\n",
       "      <th>International</th>\n",
       "      <th>AirlineNbr</th>\n",
       "      <th>Distance</th>\n",
       "    </tr>\n",
       "  </thead>\n",
       "  <tbody>\n",
       "    <tr>\n",
       "      <th>0</th>\n",
       "      <td>10</td>\n",
       "      <td>40-Mile Air</td>\n",
       "      <td>NaN</td>\n",
       "      <td>Q5</td>\n",
       "      <td>MLA</td>\n",
       "      <td>MILE-AIR</td>\n",
       "      <td>United States</td>\n",
       "      <td>Y</td>\n",
       "      <td>Q5</td>\n",
       "      <td>CKX</td>\n",
       "      <td>NaN</td>\n",
       "      <td>TKJ</td>\n",
       "      <td>7235.0</td>\n",
       "      <td>N</td>\n",
       "      <td>0</td>\n",
       "      <td>CNA</td>\n",
       "      <td>1.0</td>\n",
       "      <td>0</td>\n",
       "      <td>99.698791</td>\n",
       "    </tr>\n",
       "    <tr>\n",
       "      <th>1</th>\n",
       "      <td>10</td>\n",
       "      <td>40-Mile Air</td>\n",
       "      <td>NaN</td>\n",
       "      <td>Q5</td>\n",
       "      <td>MLA</td>\n",
       "      <td>MILE-AIR</td>\n",
       "      <td>United States</td>\n",
       "      <td>Y</td>\n",
       "      <td>Q5</td>\n",
       "      <td>FAI</td>\n",
       "      <td>3832.0</td>\n",
       "      <td>HKB</td>\n",
       "      <td>7242.0</td>\n",
       "      <td>N</td>\n",
       "      <td>0</td>\n",
       "      <td>CNA</td>\n",
       "      <td>1.0</td>\n",
       "      <td>0</td>\n",
       "      <td>177.559277</td>\n",
       "    </tr>\n",
       "    <tr>\n",
       "      <th>2</th>\n",
       "      <td>10</td>\n",
       "      <td>40-Mile Air</td>\n",
       "      <td>NaN</td>\n",
       "      <td>Q5</td>\n",
       "      <td>MLA</td>\n",
       "      <td>MILE-AIR</td>\n",
       "      <td>United States</td>\n",
       "      <td>Y</td>\n",
       "      <td>Q5</td>\n",
       "      <td>HKB</td>\n",
       "      <td>7242.0</td>\n",
       "      <td>FAI</td>\n",
       "      <td>3832.0</td>\n",
       "      <td>N</td>\n",
       "      <td>0</td>\n",
       "      <td>CNA</td>\n",
       "      <td>1.0</td>\n",
       "      <td>0</td>\n",
       "      <td>177.559277</td>\n",
       "    </tr>\n",
       "    <tr>\n",
       "      <th>3</th>\n",
       "      <td>10</td>\n",
       "      <td>40-Mile Air</td>\n",
       "      <td>NaN</td>\n",
       "      <td>Q5</td>\n",
       "      <td>MLA</td>\n",
       "      <td>MILE-AIR</td>\n",
       "      <td>United States</td>\n",
       "      <td>Y</td>\n",
       "      <td>Q5</td>\n",
       "      <td>TKJ</td>\n",
       "      <td>7235.0</td>\n",
       "      <td>CKX</td>\n",
       "      <td>NaN</td>\n",
       "      <td>N</td>\n",
       "      <td>0</td>\n",
       "      <td>CNA</td>\n",
       "      <td>1.0</td>\n",
       "      <td>0</td>\n",
       "      <td>99.698791</td>\n",
       "    </tr>\n",
       "    <tr>\n",
       "      <th>4</th>\n",
       "      <td>21</td>\n",
       "      <td>Aigle Azur</td>\n",
       "      <td>NaN</td>\n",
       "      <td>ZI</td>\n",
       "      <td>AAF</td>\n",
       "      <td>AIGLE AZUR</td>\n",
       "      <td>France</td>\n",
       "      <td>Y</td>\n",
       "      <td>ZI</td>\n",
       "      <td>AAE</td>\n",
       "      <td>220.0</td>\n",
       "      <td>MRS</td>\n",
       "      <td>1353.0</td>\n",
       "      <td>N</td>\n",
       "      <td>0</td>\n",
       "      <td>319</td>\n",
       "      <td>1.0</td>\n",
       "      <td>1</td>\n",
       "      <td>767.018752</td>\n",
       "    </tr>\n",
       "  </tbody>\n",
       "</table>\n",
       "</div>"
      ],
      "text/plain": [
       "   AirlineID         Name Alias IATA ICAO    Callsign        Country Active  \\\n",
       "0         10  40-Mile Air   NaN   Q5  MLA    MILE-AIR  United States      Y   \n",
       "1         10  40-Mile Air   NaN   Q5  MLA    MILE-AIR  United States      Y   \n",
       "2         10  40-Mile Air   NaN   Q5  MLA    MILE-AIR  United States      Y   \n",
       "3         10  40-Mile Air   NaN   Q5  MLA    MILE-AIR  United States      Y   \n",
       "4         21   Aigle Azur   NaN   ZI  AAF  AIGLE AZUR         France      Y   \n",
       "\n",
       "  Airline SourceAirport  SourceAirportID DestinationAirport  \\\n",
       "0      Q5           CKX              NaN                TKJ   \n",
       "1      Q5           FAI           3832.0                HKB   \n",
       "2      Q5           HKB           7242.0                FAI   \n",
       "3      Q5           TKJ           7235.0                CKX   \n",
       "4      ZI           AAE            220.0                MRS   \n",
       "\n",
       "   DestinationAirportID Codeshare  Stops Equipment  International  AirlineNbr  \\\n",
       "0                7235.0         N      0       CNA            1.0           0   \n",
       "1                7242.0         N      0       CNA            1.0           0   \n",
       "2                3832.0         N      0       CNA            1.0           0   \n",
       "3                   NaN         N      0       CNA            1.0           0   \n",
       "4                1353.0         N      0       319            1.0           1   \n",
       "\n",
       "     Distance  \n",
       "0   99.698791  \n",
       "1  177.559277  \n",
       "2  177.559277  \n",
       "3   99.698791  \n",
       "4  767.018752  "
      ]
     },
     "execution_count": 47,
     "metadata": {},
     "output_type": "execute_result"
    }
   ],
   "source": [
    "merged_routes.head()"
   ]
  },
  {
   "cell_type": "code",
   "execution_count": 48,
   "metadata": {},
   "outputs": [
    {
     "data": {
      "text/html": [
       "<div>\n",
       "<style scoped>\n",
       "    .dataframe tbody tr th:only-of-type {\n",
       "        vertical-align: middle;\n",
       "    }\n",
       "\n",
       "    .dataframe tbody tr th {\n",
       "        vertical-align: top;\n",
       "    }\n",
       "\n",
       "    .dataframe thead th {\n",
       "        text-align: right;\n",
       "    }\n",
       "</style>\n",
       "<table border=\"1\" class=\"dataframe\">\n",
       "  <thead>\n",
       "    <tr style=\"text-align: right;\">\n",
       "      <th></th>\n",
       "      <th>Name</th>\n",
       "      <th>ICAO</th>\n",
       "      <th>Country</th>\n",
       "      <th>SourceAirport</th>\n",
       "      <th>DestinationAirport</th>\n",
       "      <th>Codeshare</th>\n",
       "      <th>Stops</th>\n",
       "      <th>Equipment</th>\n",
       "      <th>AirlineNbr</th>\n",
       "      <th>International</th>\n",
       "      <th>Distance</th>\n",
       "    </tr>\n",
       "  </thead>\n",
       "  <tbody>\n",
       "    <tr>\n",
       "      <th>0</th>\n",
       "      <td>40-Mile Air</td>\n",
       "      <td>MLA</td>\n",
       "      <td>United States</td>\n",
       "      <td>CKX</td>\n",
       "      <td>TKJ</td>\n",
       "      <td>N</td>\n",
       "      <td>0</td>\n",
       "      <td>CNA</td>\n",
       "      <td>0</td>\n",
       "      <td>1.0</td>\n",
       "      <td>99.698791</td>\n",
       "    </tr>\n",
       "    <tr>\n",
       "      <th>1</th>\n",
       "      <td>40-Mile Air</td>\n",
       "      <td>MLA</td>\n",
       "      <td>United States</td>\n",
       "      <td>FAI</td>\n",
       "      <td>HKB</td>\n",
       "      <td>N</td>\n",
       "      <td>0</td>\n",
       "      <td>CNA</td>\n",
       "      <td>0</td>\n",
       "      <td>1.0</td>\n",
       "      <td>177.559277</td>\n",
       "    </tr>\n",
       "    <tr>\n",
       "      <th>2</th>\n",
       "      <td>40-Mile Air</td>\n",
       "      <td>MLA</td>\n",
       "      <td>United States</td>\n",
       "      <td>HKB</td>\n",
       "      <td>FAI</td>\n",
       "      <td>N</td>\n",
       "      <td>0</td>\n",
       "      <td>CNA</td>\n",
       "      <td>0</td>\n",
       "      <td>1.0</td>\n",
       "      <td>177.559277</td>\n",
       "    </tr>\n",
       "    <tr>\n",
       "      <th>3</th>\n",
       "      <td>40-Mile Air</td>\n",
       "      <td>MLA</td>\n",
       "      <td>United States</td>\n",
       "      <td>TKJ</td>\n",
       "      <td>CKX</td>\n",
       "      <td>N</td>\n",
       "      <td>0</td>\n",
       "      <td>CNA</td>\n",
       "      <td>0</td>\n",
       "      <td>1.0</td>\n",
       "      <td>99.698791</td>\n",
       "    </tr>\n",
       "    <tr>\n",
       "      <th>4</th>\n",
       "      <td>Aigle Azur</td>\n",
       "      <td>AAF</td>\n",
       "      <td>France</td>\n",
       "      <td>AAE</td>\n",
       "      <td>MRS</td>\n",
       "      <td>N</td>\n",
       "      <td>0</td>\n",
       "      <td>319</td>\n",
       "      <td>1</td>\n",
       "      <td>1.0</td>\n",
       "      <td>767.018752</td>\n",
       "    </tr>\n",
       "  </tbody>\n",
       "</table>\n",
       "</div>"
      ],
      "text/plain": [
       "          Name ICAO        Country SourceAirport DestinationAirport Codeshare  \\\n",
       "0  40-Mile Air  MLA  United States           CKX                TKJ         N   \n",
       "1  40-Mile Air  MLA  United States           FAI                HKB         N   \n",
       "2  40-Mile Air  MLA  United States           HKB                FAI         N   \n",
       "3  40-Mile Air  MLA  United States           TKJ                CKX         N   \n",
       "4   Aigle Azur  AAF         France           AAE                MRS         N   \n",
       "\n",
       "   Stops Equipment  AirlineNbr  International    Distance  \n",
       "0      0       CNA           0            1.0   99.698791  \n",
       "1      0       CNA           0            1.0  177.559277  \n",
       "2      0       CNA           0            1.0  177.559277  \n",
       "3      0       CNA           0            1.0   99.698791  \n",
       "4      0       319           1            1.0  767.018752  "
      ]
     },
     "execution_count": 48,
     "metadata": {},
     "output_type": "execute_result"
    }
   ],
   "source": [
    "merged_routes[relevant_columns].head()"
   ]
  },
  {
   "cell_type": "code",
   "execution_count": 49,
   "metadata": {},
   "outputs": [],
   "source": [
    "merged_routes = merged_routes[relevant_columns]"
   ]
  },
  {
   "cell_type": "markdown",
   "metadata": {},
   "source": [
    "## Preliminary analysis of airlines:"
   ]
  },
  {
   "cell_type": "markdown",
   "metadata": {},
   "source": [
    "What are the airlines with the most flight routes:"
   ]
  },
  {
   "cell_type": "code",
   "execution_count": 50,
   "metadata": {},
   "outputs": [
    {
     "data": {
      "text/plain": [
       "Ryanair                    2484\n",
       "American Airlines          2354\n",
       "United Airlines            2180\n",
       "Delta Air Lines            1981\n",
       "US Airways                 1960\n",
       "China Southern Airlines    1454\n",
       "China Eastern Airlines     1263\n",
       "Air China                  1260\n",
       "Southwest Airlines         1143\n",
       "easyJet                    1130\n",
       "Name: Name, dtype: int64"
      ]
     },
     "execution_count": 50,
     "metadata": {},
     "output_type": "execute_result"
    }
   ],
   "source": [
    "merged_routes.Name.value_counts().head(10)"
   ]
  },
  {
   "cell_type": "code",
   "execution_count": 52,
   "metadata": {
    "scrolled": true
   },
   "outputs": [
    {
     "data": {
      "text/plain": [
       "<matplotlib.axes._subplots.AxesSubplot at 0x1a220ccf98>"
      ]
     },
     "execution_count": 52,
     "metadata": {},
     "output_type": "execute_result"
    },
    {
     "data": {
      "image/png": "[encoded data removed]",
      "text/plain": [
       "<Figure size 432x288 with 1 Axes>"
      ]
     },
     "metadata": {
      "needs_background": "light"
     },
     "output_type": "display_data"
    }
   ],
   "source": [
    "merged_routes.Name.value_counts().plot(kind='hist', log=True, bins=20)"
   ]
  },
  {
   "cell_type": "code",
   "execution_count": 53,
   "metadata": {},
   "outputs": [
    {
     "data": {
      "text/plain": [
       "count     522.000000\n",
       "mean      127.394636\n",
       "std       277.346000\n",
       "min         1.000000\n",
       "25%        14.000000\n",
       "50%        34.000000\n",
       "75%       111.000000\n",
       "max      2484.000000\n",
       "Name: Name, dtype: float64"
      ]
     },
     "execution_count": 53,
     "metadata": {},
     "output_type": "execute_result"
    }
   ],
   "source": [
    "merged_routes.Name.value_counts().describe()"
   ]
  },
  {
   "cell_type": "markdown",
   "metadata": {},
   "source": [
    "What are the airlines with the most airports:"
   ]
  },
  {
   "cell_type": "code",
   "execution_count": 54,
   "metadata": {},
   "outputs": [
    {
     "data": {
      "text/plain": [
       "Name\n",
       "American Airlines           429\n",
       "United Airlines             426\n",
       "Air France                  378\n",
       "KLM Royal Dutch Airlines    360\n",
       "US Airways                  348\n",
       "Delta Air Lines             347\n",
       "Alitalia                    269\n",
       "Turkish Airlines            258\n",
       "Lufthansa                   243\n",
       "China Eastern Airlines      222\n",
       "dtype: int64"
      ]
     },
     "execution_count": 54,
     "metadata": {},
     "output_type": "execute_result"
    }
   ],
   "source": [
    "airport_count = merged_routes.groupby('Name').apply(\n",
    "    lambda x: x.SourceAirport.drop_duplicates().count()).sort_values(ascending=False)\n",
    "airport_count.head(10)"
   ]
  },
  {
   "cell_type": "code",
   "execution_count": 55,
   "metadata": {},
   "outputs": [
    {
     "data": {
      "text/plain": [
       "<matplotlib.axes._subplots.AxesSubplot at 0x10be962b0>"
      ]
     },
     "execution_count": 55,
     "metadata": {},
     "output_type": "execute_result"
    },
    {
     "data": {
      "image/png": "[encoded data removed]",
      "text/plain": [
       "<Figure size 432x288 with 1 Axes>"
      ]
     },
     "metadata": {
      "needs_background": "light"
     },
     "output_type": "display_data"
    }
   ],
   "source": [
    "airport_count.plot(kind='hist', log=True, bins=20)"
   ]
  },
  {
   "cell_type": "code",
   "execution_count": 56,
   "metadata": {},
   "outputs": [
    {
     "data": {
      "text/plain": [
       "count    522.000000\n",
       "mean      35.954023\n",
       "std       54.773603\n",
       "min        1.000000\n",
       "25%        8.000000\n",
       "50%       16.000000\n",
       "75%       41.000000\n",
       "max      429.000000\n",
       "dtype: float64"
      ]
     },
     "execution_count": 56,
     "metadata": {},
     "output_type": "execute_result"
    }
   ],
   "source": [
    "airport_count.describe()"
   ]
  },
  {
   "cell_type": "code",
   "execution_count": 57,
   "metadata": {},
   "outputs": [],
   "source": [
    "reasonably_big_airlines = merged_routes.Name.value_counts()[merged_routes.Name.value_counts() > 130].index"
   ]
  },
  {
   "cell_type": "code",
   "execution_count": 58,
   "metadata": {},
   "outputs": [],
   "source": [
    "merged_routes = merged_routes[merged_routes.Name.isin(reasonably_big_airlines)]"
   ]
  },
  {
   "cell_type": "markdown",
   "metadata": {},
   "source": [
    "We look at a total of 118 airlines:"
   ]
  },
  {
   "cell_type": "code",
   "execution_count": 59,
   "metadata": {},
   "outputs": [
    {
     "data": {
      "text/plain": [
       "118"
      ]
     },
     "execution_count": 59,
     "metadata": {},
     "output_type": "execute_result"
    }
   ],
   "source": [
    "len(merged_routes.Name.unique())"
   ]
  },
  {
   "cell_type": "markdown",
   "metadata": {},
   "source": [
    "### Meta-Data analysis"
   ]
  },
  {
   "cell_type": "markdown",
   "metadata": {},
   "source": [
    "Propotion of international to national flights"
   ]
  },
  {
   "cell_type": "code",
   "execution_count": 60,
   "metadata": {},
   "outputs": [
    {
     "data": {
      "text/plain": [
       "<matplotlib.axes._subplots.AxesSubplot at 0x1a21547da0>"
      ]
     },
     "execution_count": 60,
     "metadata": {},
     "output_type": "execute_result"
    },
    {
     "data": {
      "image/png": "[encoded data removed]",
      "text/plain": [
       "<Figure size 432x288 with 1 Axes>"
      ]
     },
     "metadata": {
      "needs_background": "light"
     },
     "output_type": "display_data"
    }
   ],
   "source": [
    "merged_routes.groupby('Name').International.mean().plot(kind='hist', bins=40)"
   ]
  },
  {
   "cell_type": "markdown",
   "metadata": {},
   "source": [
    "mean distance of flights:"
   ]
  },
  {
   "cell_type": "code",
   "execution_count": 61,
   "metadata": {},
   "outputs": [
    {
     "data": {
      "text/plain": [
       "<matplotlib.axes._subplots.AxesSubplot at 0x1a215129e8>"
      ]
     },
     "execution_count": 61,
     "metadata": {},
     "output_type": "execute_result"
    },
    {
     "data": {
      "image/png": "[encoded data removed]",
      "text/plain": [
       "<Figure size 432x288 with 1 Axes>"
      ]
     },
     "metadata": {
      "needs_background": "light"
     },
     "output_type": "display_data"
    }
   ],
   "source": [
    "merged_routes.groupby('Name').Distance.mean().plot(kind='hist', bins=30)"
   ]
  },
  {
   "cell_type": "markdown",
   "metadata": {},
   "source": [
    "Max distance of flights:"
   ]
  },
  {
   "cell_type": "code",
   "execution_count": 62,
   "metadata": {},
   "outputs": [
    {
     "data": {
      "text/plain": [
       "<matplotlib.axes._subplots.AxesSubplot at 0x1a22a13390>"
      ]
     },
     "execution_count": 62,
     "metadata": {},
     "output_type": "execute_result"
    },
    {
     "data": {
      "image/png": "[encoded data removed]",
      "text/plain": [
       "<Figure size 432x288 with 1 Axes>"
      ]
     },
     "metadata": {
      "needs_background": "light"
     },
     "output_type": "display_data"
    }
   ],
   "source": [
    "merged_routes.groupby('Name').Distance.max().plot(kind='hist', bins=30)"
   ]
  },
  {
   "cell_type": "markdown",
   "metadata": {},
   "source": [
    "shortest distance of flight:"
   ]
  },
  {
   "cell_type": "code",
   "execution_count": 63,
   "metadata": {},
   "outputs": [
    {
     "data": {
      "text/plain": [
       "<matplotlib.axes._subplots.AxesSubplot at 0x1a22ef4ef0>"
      ]
     },
     "execution_count": 63,
     "metadata": {},
     "output_type": "execute_result"
    },
    {
     "data": {
      "image/png": "[encoded data removed]",
      "text/plain": [
       "<Figure size 432x288 with 1 Axes>"
      ]
     },
     "metadata": {
      "needs_background": "light"
     },
     "output_type": "display_data"
    }
   ],
   "source": [
    "merged_routes.groupby('Name').Distance.min().plot(kind='hist', bins=30)"
   ]
  },
  {
   "cell_type": "markdown",
   "metadata": {},
   "source": [
    "Proportion of codeshare flights:"
   ]
  },
  {
   "cell_type": "code",
   "execution_count": 64,
   "metadata": {},
   "outputs": [],
   "source": [
    "merged_routes['Codeshare'] = merged_routes.Codeshare.map(lambda x: 1 if x == 'Y' else 0)"
   ]
  },
  {
   "cell_type": "code",
   "execution_count": 65,
   "metadata": {},
   "outputs": [
    {
     "data": {
      "text/plain": [
       "<matplotlib.axes._subplots.AxesSubplot at 0x1a2157d860>"
      ]
     },
     "execution_count": 65,
     "metadata": {},
     "output_type": "execute_result"
    },
    {
     "data": {
      "image/png": "[encoded data removed]",
      "text/plain": [
       "<Figure size 432x288 with 1 Axes>"
      ]
     },
     "metadata": {
      "needs_background": "light"
     },
     "output_type": "display_data"
    }
   ],
   "source": [
    "merged_routes.groupby('Name').Codeshare.mean().plot(kind='hist', bins=30)"
   ]
  },
  {
   "cell_type": "markdown",
   "metadata": {},
   "source": [
    "## Create graph of all airlines:\n",
    "\n",
    "Create graph with edge having airline associated to"
   ]
  },
  {
   "cell_type": "code",
   "execution_count": 66,
   "metadata": {},
   "outputs": [],
   "source": [
    "biggest = merged_routes.AirlineNbr.value_counts().head(10).index"
   ]
  },
  {
   "cell_type": "code",
   "execution_count": 67,
   "metadata": {},
   "outputs": [],
   "source": [
    "edge_attributes = ['Country', 'Name', 'AirlineNbr', 'Distance', 'International']"
   ]
  },
  {
   "cell_type": "code",
   "execution_count": 68,
   "metadata": {},
   "outputs": [],
   "source": [
    "Airline_Graph = nx.from_pandas_edgelist(merged_routes, \n",
    "                                        source='SourceAirport', \n",
    "                                        target='DestinationAirport', \n",
    "                                        edge_attr=['Country', 'Name', 'AirlineNbr', 'Distance', 'International'])"
   ]
  },
  {
   "cell_type": "code",
   "execution_count": 69,
   "metadata": {},
   "outputs": [],
   "source": [
    "color_edges = list(nx.get_edge_attributes(Airline_Graph, 'AirlineNbr').values())"
   ]
  },
  {
   "cell_type": "code",
   "execution_count": 70,
   "metadata": {},
   "outputs": [],
   "source": [
    "nx.set_node_attributes(Airline_Graph, location_mapping, 'Location')"
   ]
  },
  {
   "cell_type": "code",
   "execution_count": 71,
   "metadata": {},
   "outputs": [],
   "source": [
    "Airport_to_city = airports.set_index('IATA').City.to_dict()\n",
    "Airport_to_name = airports.set_index('IATA').Name.to_dict()\n",
    "e_centrality = nx.eigenvector_centrality(Airline_Graph)\n",
    "centrality = np.array(list(e_centrality.values()))"
   ]
  },
  {
   "cell_type": "markdown",
   "metadata": {},
   "source": [
    "Major Airports:"
   ]
  },
  {
   "cell_type": "code",
   "execution_count": 72,
   "metadata": {},
   "outputs": [],
   "source": [
    "major_airports = {Airport_to_name[k] for  k, v in e_centrality.items() if v > np.quantile(centrality, 0.99) and k in Airport_to_city.keys()}"
   ]
  },
  {
   "cell_type": "code",
   "execution_count": 73,
   "metadata": {},
   "outputs": [
    {
     "data": {
      "text/plain": [
       "{'Adolfo Suárez Madrid–Barajas Airport',\n",
       " 'Amsterdam Airport Schiphol',\n",
       " 'Atatürk International Airport',\n",
       " 'Barcelona International Airport',\n",
       " 'Brussels Airport',\n",
       " 'Charles de Gaulle International Airport',\n",
       " \"Chicago O'Hare International Airport\",\n",
       " 'Copenhagen Kastrup Airport',\n",
       " 'Dubai International Airport',\n",
       " 'Dublin Airport',\n",
       " 'Düsseldorf Airport',\n",
       " 'Frankfurt am Main Airport',\n",
       " 'Hartsfield Jackson Atlanta International Airport',\n",
       " 'John F Kennedy International Airport',\n",
       " 'Leonardo da Vinci–Fiumicino Airport',\n",
       " 'Lester B. Pearson International Airport',\n",
       " 'London Gatwick Airport',\n",
       " 'London Heathrow Airport',\n",
       " 'Malpensa International Airport',\n",
       " 'Manchester Airport',\n",
       " 'Munich Airport',\n",
       " 'Newark Liberty International Airport',\n",
       " 'Vienna International Airport',\n",
       " 'Zürich Airport'}"
      ]
     },
     "execution_count": 73,
     "metadata": {},
     "output_type": "execute_result"
    }
   ],
   "source": [
    "major_airports"
   ]
  },
  {
   "cell_type": "markdown",
   "metadata": {},
   "source": [
    "## Looking at individual networks:"
   ]
  },
  {
   "cell_type": "markdown",
   "metadata": {},
   "source": [
    "We build a function to create the airline network:"
   ]
  },
  {
   "cell_type": "code",
   "execution_count": 74,
   "metadata": {},
   "outputs": [],
   "source": [
    "def create_airline_network(airline):\n",
    "    df = merged_routes[merged_routes['Name'] == airline]\n",
    "    Airline_Graph = nx.from_pandas_edgelist(df, \n",
    "                                      source='SourceAirport', target='DestinationAirport', edge_attr=['Country'])\n",
    "    nx.set_node_attributes(Airline_Graph, location_mapping, 'Location')\n",
    "    return Airline_Graph"
   ]
  },
  {
   "cell_type": "code",
   "execution_count": 75,
   "metadata": {},
   "outputs": [],
   "source": [
    "Ryanair = create_airline_network('Ryanair')"
   ]
  },
  {
   "cell_type": "code",
   "execution_count": 76,
   "metadata": {},
   "outputs": [
    {
     "data": {
      "text/html": [
       "<div>\n",
       "<style scoped>\n",
       "    .dataframe tbody tr th:only-of-type {\n",
       "        vertical-align: middle;\n",
       "    }\n",
       "\n",
       "    .dataframe tbody tr th {\n",
       "        vertical-align: top;\n",
       "    }\n",
       "\n",
       "    .dataframe thead th {\n",
       "        text-align: right;\n",
       "    }\n",
       "</style>\n",
       "<table border=\"1\" class=\"dataframe\">\n",
       "  <thead>\n",
       "    <tr style=\"text-align: right;\">\n",
       "      <th></th>\n",
       "      <th>Name</th>\n",
       "      <th>ICAO</th>\n",
       "      <th>Country</th>\n",
       "      <th>SourceAirport</th>\n",
       "      <th>DestinationAirport</th>\n",
       "      <th>Codeshare</th>\n",
       "      <th>Stops</th>\n",
       "      <th>Equipment</th>\n",
       "      <th>AirlineNbr</th>\n",
       "      <th>International</th>\n",
       "      <th>Distance</th>\n",
       "    </tr>\n",
       "  </thead>\n",
       "  <tbody>\n",
       "    <tr>\n",
       "      <th>76</th>\n",
       "      <td>American Airlines</td>\n",
       "      <td>AAL</td>\n",
       "      <td>United States</td>\n",
       "      <td>ABE</td>\n",
       "      <td>CLT</td>\n",
       "      <td>1</td>\n",
       "      <td>0</td>\n",
       "      <td>CR9 CR7 CRJ</td>\n",
       "      <td>2</td>\n",
       "      <td>0.0</td>\n",
       "      <td>773.147838</td>\n",
       "    </tr>\n",
       "    <tr>\n",
       "      <th>77</th>\n",
       "      <td>American Airlines</td>\n",
       "      <td>AAL</td>\n",
       "      <td>United States</td>\n",
       "      <td>ABE</td>\n",
       "      <td>PHL</td>\n",
       "      <td>0</td>\n",
       "      <td>0</td>\n",
       "      <td>DH3</td>\n",
       "      <td>2</td>\n",
       "      <td>0.0</td>\n",
       "      <td>88.283143</td>\n",
       "    </tr>\n",
       "    <tr>\n",
       "      <th>78</th>\n",
       "      <td>American Airlines</td>\n",
       "      <td>AAL</td>\n",
       "      <td>United States</td>\n",
       "      <td>ABI</td>\n",
       "      <td>DFW</td>\n",
       "      <td>1</td>\n",
       "      <td>0</td>\n",
       "      <td>ERD ER4 CRJ</td>\n",
       "      <td>2</td>\n",
       "      <td>0.0</td>\n",
       "      <td>253.808916</td>\n",
       "    </tr>\n",
       "    <tr>\n",
       "      <th>79</th>\n",
       "      <td>American Airlines</td>\n",
       "      <td>AAL</td>\n",
       "      <td>United States</td>\n",
       "      <td>ABQ</td>\n",
       "      <td>DFW</td>\n",
       "      <td>0</td>\n",
       "      <td>0</td>\n",
       "      <td>M83 M80</td>\n",
       "      <td>2</td>\n",
       "      <td>0.0</td>\n",
       "      <td>915.506940</td>\n",
       "    </tr>\n",
       "    <tr>\n",
       "      <th>80</th>\n",
       "      <td>American Airlines</td>\n",
       "      <td>AAL</td>\n",
       "      <td>United States</td>\n",
       "      <td>ABQ</td>\n",
       "      <td>LAX</td>\n",
       "      <td>1</td>\n",
       "      <td>0</td>\n",
       "      <td>CR7 CRJ</td>\n",
       "      <td>2</td>\n",
       "      <td>0.0</td>\n",
       "      <td>1089.899312</td>\n",
       "    </tr>\n",
       "  </tbody>\n",
       "</table>\n",
       "</div>"
      ],
      "text/plain": [
       "                 Name ICAO        Country SourceAirport DestinationAirport  \\\n",
       "76  American Airlines  AAL  United States           ABE                CLT   \n",
       "77  American Airlines  AAL  United States           ABE                PHL   \n",
       "78  American Airlines  AAL  United States           ABI                DFW   \n",
       "79  American Airlines  AAL  United States           ABQ                DFW   \n",
       "80  American Airlines  AAL  United States           ABQ                LAX   \n",
       "\n",
       "    Codeshare  Stops    Equipment  AirlineNbr  International     Distance  \n",
       "76          1      0  CR9 CR7 CRJ           2            0.0   773.147838  \n",
       "77          0      0          DH3           2            0.0    88.283143  \n",
       "78          1      0  ERD ER4 CRJ           2            0.0   253.808916  \n",
       "79          0      0      M83 M80           2            0.0   915.506940  \n",
       "80          1      0      CR7 CRJ           2            0.0  1089.899312  "
      ]
     },
     "execution_count": 76,
     "metadata": {},
     "output_type": "execute_result"
    }
   ],
   "source": [
    "merged_routes.head()"
   ]
  },
  {
   "cell_type": "code",
   "execution_count": 77,
   "metadata": {
    "scrolled": false
   },
   "outputs": [],
   "source": [
    "def draw_airline_network(Airline_Graph, airline):\n",
    "    plt.figure(figsize=(6, 6))\n",
    "    centrality = nx.betweenness_centrality(Airline_Graph)\n",
    "    size = np.array(list(centrality.values()))*600\n",
    "    nx.draw_spring(Airline_Graph, node_size=size, width=0.1)\n",
    "    plt.title(airline)\n",
    "    plt.show()\n",
    "    \n",
    "def get_spectrum_figures(Airline_Graph):\n",
    "    e, U = np.linalg.eigh(nx.normalized_laplacian_matrix(Airline_Graph).todense())\n",
    "    plt.plot(e)\n",
    "    plt.show()\n",
    "    plt.plot(nx.laplacian_spectrum(Airline_Graph))\n",
    "    plt.show()\n",
    "    plt.boxplot(nx.degree_centrality(Airline_Graph).values())\n",
    "    plt.show()"
   ]
  },
  {
   "cell_type": "markdown",
   "metadata": {},
   "source": [
    "Example of some low cost airlines:"
   ]
  },
  {
   "cell_type": "code",
   "execution_count": 78,
   "metadata": {},
   "outputs": [],
   "source": [
    "##todo put somewhere else\n",
    "\n",
    "Low_cost = ['Southwest Airlines', 'Ryanair','easyJet', 'WestJet']"
   ]
  },
  {
   "cell_type": "code",
   "execution_count": 79,
   "metadata": {
    "scrolled": false
   },
   "outputs": [
    {
     "name": "stderr",
     "output_type": "stream",
     "text": [
      "/anaconda3/envs/Biblio/lib/python3.7/site-packages/networkx/drawing/nx_pylab.py:611: MatplotlibDeprecationWarning: isinstance(..., numbers.Number)\n",
      "  if cb.is_numlike(alpha):\n"
     ]
    },
    {
     "data": {
      "image/png": "[encoded data removed]",
      "text/plain": [
       "<Figure size 432x432 with 1 Axes>"
      ]
     },
     "metadata": {},
     "output_type": "display_data"
    }
   ],
   "source": [
    "for cheap in Low_cost[:1]:\n",
    "    Cheap = create_airline_network(cheap)\n",
    "    draw_airline_network(Cheap, cheap)"
   ]
  },
  {
   "cell_type": "markdown",
   "metadata": {},
   "source": [
    "## Preliminary analysis of network graphs"
   ]
  },
  {
   "cell_type": "markdown",
   "metadata": {},
   "source": [
    "We know that the graph of all airlines is scalefree, but is the graph formed by individual airlines scalefree? "
   ]
  },
  {
   "cell_type": "code",
   "execution_count": 98,
   "metadata": {},
   "outputs": [],
   "source": [
    "def get_scalefree_network_stats(airline):\n",
    "    Airline_Graph = create_airline_network(airline)\n",
    "    \n",
    "    \n",
    "    components = nx.number_connected_components(Airline_Graph)\n",
    "    component_ratio = 0\n",
    "    density = nx.density(Airline_Graph)\n",
    "    \n",
    "    if components > 1 :\n",
    "        c = sorted(nx.connected_components(Airline_Graph), key = len, reverse=True)\n",
    "        Airline_Graph = Airline_Graph.subgraph(c[0])\n",
    "\n",
    "    degrees = pd.Series(list((dict(nx.degree(Airline_Graph)).values())))\n",
    "    \n",
    "    density = nx.density(Airline_Graph)\n",
    "    diameter = nx.diameter(Airline_Graph)\n",
    "    pathlength = nx.average_shortest_path_length(Airline_Graph)\n",
    "\n",
    "    return np.array([ degrees.mean(), degrees.std(), density])"
   ]
  },
  {
   "cell_type": "code",
   "execution_count": 104,
   "metadata": {},
   "outputs": [],
   "source": [
    "airlines = merged_routes.Name.drop_duplicates()\n",
    "stats = np.array(airlines.map(get_scalefree_network_stats).tolist())"
   ]
  },
  {
   "cell_type": "code",
   "execution_count": 127,
   "metadata": {},
   "outputs": [
    {
     "data": {
      "image/png": "[encoded data removed]",
      "text/plain": [
       "<Figure size 504x432 with 1 Axes>"
      ]
     },
     "metadata": {
      "needs_background": "light"
     },
     "output_type": "display_data"
    }
   ],
   "source": [
    "plt.figure(figsize=(7, 6))\n",
    "plt.scatter(stats[:, 0], stats[:, 1])\n",
    "plt.plot(np.linspace(0, 16), np.sqrt(np.linspace(0, 16)))\n",
    "plt.xlabel('<k>')\n",
    "plt.ylabel('$\\sigma_k$')\n",
    "plt.title('Network average degree vs std')\n",
    "plt.show()"
   ]
  },
  {
   "cell_type": "markdown",
   "metadata": {},
   "source": [
    "## Adding in external information: for relected airlines - case study"
   ]
  },
  {
   "cell_type": "code",
   "execution_count": null,
   "metadata": {},
   "outputs": [],
   "source": [
    "Delays_data = pd.read_csv('delays_Data.csv')"
   ]
  },
  {
   "cell_type": "code",
   "execution_count": null,
   "metadata": {},
   "outputs": [],
   "source": [
    "def convert_mixed_fractions(x):\n",
    "    if '%' in x:\n",
    "        return float(x[:-1])/100\n",
    "    else:\n",
    "        return float(x)"
   ]
  },
  {
   "cell_type": "code",
   "execution_count": null,
   "metadata": {},
   "outputs": [],
   "source": [
    "Delays_data['On-time (A14)'] = Delays_data['On-time (A14)'].map(convert_mixed_fractions)\n",
    "Airline_list = pd.read_csv('airlines_Data.csv')"
   ]
  },
  {
   "cell_type": "markdown",
   "metadata": {},
   "source": [
    "# Network Structure"
   ]
  },
  {
   "cell_type": "markdown",
   "metadata": {},
   "source": [
    "Clustering the networks based on stats:\n",
    "\n",
    "Our first model only uses the laplacian the quantify the structure of the graph:"
   ]
  },
  {
   "cell_type": "code",
   "execution_count": null,
   "metadata": {},
   "outputs": [],
   "source": [
    "from networkx.algorithms.approximation.clique import large_clique_size\n",
    "from networkx.algorithms.community import greedy_modularity_communities"
   ]
  },
  {
   "cell_type": "code",
   "execution_count": null,
   "metadata": {},
   "outputs": [],
   "source": [
    "def get_network_stats(airline):\n",
    "    Airline_Graph = create_airline_network(airline)\n",
    "    \n",
    "    \n",
    "    components = nx.number_connected_components(Airline_Graph)\n",
    "    component_ratio = 0\n",
    "    density = nx.density(Airline_Graph)\n",
    "    \n",
    "    if components > 1 :\n",
    "        print(airline,'  ' ,components)\n",
    "        \n",
    "        c = sorted(nx.connected_components(Airline_Graph), key = len, reverse=True)\n",
    "        component_ratio = len([i for t in c[1:] for i in t])/ len(c[0])\n",
    "        Airline_Graph = Airline_Graph.subgraph(c[0])\n",
    "\n",
    "    #connectivity pattern of airline\n",
    "    hist = nx.degree_histogram(Airline_Graph)\n",
    "    total = sum(hist)\n",
    "    per_large_degree = sum(hist[5:])/total\n",
    "    deadend = hist[1]/total\n",
    "    \n",
    "    #network pattern\n",
    "    algebraic_connectivity = nx.algebraic_connectivity(Airline_Graph)\n",
    "    spectrum = nx.normalized_laplacian_matrix(Airline_Graph).todense()\n",
    "    eig, _ = np.linalg.eigh(spectrum)\n",
    "    eig = np.array(sorted(eig))\n",
    "    \n",
    "\n",
    "    return np.array([#diameter, degree_assortativity, \n",
    "                     \n",
    "                     #algebraic_connectivity, \n",
    "                     eig[1], \n",
    "                     eig[-1], \n",
    "                     pd.Series(eig.round(decimals=4)).value_counts()[1]/pd.Series(eig.round(decimals=4)).value_counts().sum(),\n",
    "                     deadend, per_large_degree \n",
    "                     #upper_betweenness, median_betweenness, lower_betweenness\n",
    "                    ])"
   ]
  },
  {
   "cell_type": "markdown",
   "metadata": {},
   "source": [
    "Collecting the data:"
   ]
  },
  {
   "cell_type": "code",
   "execution_count": null,
   "metadata": {},
   "outputs": [],
   "source": [
    "Stats = []\n",
    "airlines = merged_routes.Name.unique()\n",
    "for name in airlines:\n",
    "    stat = get_network_stats(name)\n",
    "    if type(stat) != None:\n",
    "        Stats.append(stat)"
   ]
  },
  {
   "cell_type": "markdown",
   "metadata": {},
   "source": [
    "Put everything into a matrix, do PCA for dimensionality reduction & cluster:"
   ]
  },
  {
   "cell_type": "code",
   "execution_count": null,
   "metadata": {},
   "outputs": [],
   "source": [
    "network_stats = np.array(Stats)\n",
    "\n",
    "#scale features so that each feature has same distribution\n",
    "x = StandardScaler().fit_transform(network_stats)"
   ]
  },
  {
   "cell_type": "code",
   "execution_count": null,
   "metadata": {},
   "outputs": [],
   "source": [
    "pca = PCA(n_components=2)\n",
    "principalComponents = pca.fit_transform(x[:, [0, 2]])\n",
    "print(pca.explained_variance_ratio_) "
   ]
  },
  {
   "cell_type": "code",
   "execution_count": null,
   "metadata": {},
   "outputs": [],
   "source": [
    "from sklearn.cluster import AgglomerativeClustering\n",
    "\n",
    "cluster = AgglomerativeClustering(n_clusters=10, affinity='euclidean', linkage='ward')  \n",
    "_ = cluster.fit_predict(principalComponents)  "
   ]
  },
  {
   "cell_type": "code",
   "execution_count": null,
   "metadata": {},
   "outputs": [],
   "source": [
    "plt.scatter(x[:, 0], x[:,2], c=cluster.labels_, cmap=plt.cm.tab20)  \n",
    "plt.show()\n",
    "plt.scatter(principalComponents[:,0], principalComponents[:,1], c=cluster.labels_, cmap=plt.cm.tab20)  "
   ]
  },
  {
   "cell_type": "code",
   "execution_count": null,
   "metadata": {},
   "outputs": [],
   "source": [
    "plt.figure(figsize=(20, 20))\n",
    "plt.scatter(principalComponents[:,0], principalComponents[:,1], c= cluster.labels_, cmap=plt.cm.tab20)  \n",
    "for i, name in enumerate(airlines):\n",
    "    plt.annotate(name, xy = (principalComponents[i, 0], principalComponents[i, 1]), \n",
    "             xytext = (0, 0), textcoords = 'offset points')"
   ]
  },
  {
   "cell_type": "markdown",
   "metadata": {},
   "source": [
    "We identify nordic airlines from this graph:"
   ]
  },
  {
   "cell_type": "code",
   "execution_count": null,
   "metadata": {},
   "outputs": [],
   "source": [
    "mask = (principalComponents[:, 1] > 2)\n",
    "Components = principalComponents[mask]"
   ]
  },
  {
   "cell_type": "code",
   "execution_count": null,
   "metadata": {},
   "outputs": [],
   "source": [
    "for nordic in airlines[mask]:\n",
    "    Nordic = create_airline_network(nordic)\n",
    "    draw_airline_network(Nordic, nordic)"
   ]
  },
  {
   "cell_type": "markdown",
   "metadata": {},
   "source": [
    "Cheap airlines are all located in a corner of the cluster:"
   ]
  },
  {
   "cell_type": "code",
   "execution_count": null,
   "metadata": {},
   "outputs": [],
   "source": [
    "mask = (principalComponents[:, 0] > 1.2) & (principalComponents[:, 1] < 1)\n",
    "Components = principalComponents[mask]"
   ]
  },
  {
   "cell_type": "code",
   "execution_count": null,
   "metadata": {},
   "outputs": [],
   "source": [
    "plt.figure(figsize=(10, 10))\n",
    "plt.scatter(Components[:,0], Components[:,1], cmap=plt.cm.tab20)  \n",
    "\n",
    "for i, name in enumerate(airlines[mask]):\n",
    "    plt.annotate(name, xy = (Components[i, 0], Components[i, 1]), \n",
    "             xytext = (0, 0), textcoords = 'offset points')"
   ]
  },
  {
   "cell_type": "code",
   "execution_count": null,
   "metadata": {
    "scrolled": true
   },
   "outputs": [],
   "source": [
    "for cheap in airlines[mask]:\n",
    "    Cheap = create_airline_network(cheap)\n",
    "    draw_airline_network(Cheap, cheap)"
   ]
  },
  {
   "cell_type": "markdown",
   "metadata": {},
   "source": [
    "This is not the case with expensive airlines, while some of them are clustered together, lots of large, less pretigous ailines can also be found in these locations:"
   ]
  },
  {
   "cell_type": "code",
   "execution_count": null,
   "metadata": {},
   "outputs": [],
   "source": [
    "mask = (principalComponents[:, 0] < -1.2) & (principalComponents[:, 1] < 1)\n",
    "Components = principalComponents[mask]"
   ]
  },
  {
   "cell_type": "code",
   "execution_count": null,
   "metadata": {
    "scrolled": true
   },
   "outputs": [],
   "source": [
    "for expensive in airlines[mask]:\n",
    "    Cheap = create_airline_network(expensive)\n",
    "    draw_airline_network(Cheap, expensive)"
   ]
  },
  {
   "cell_type": "markdown",
   "metadata": {},
   "source": [
    "But from the graphs of these airlines we can clearly recognize a strong pattern of large vs prestious airlines: prestigous airlines have a much more starlike structure. Hence, a better method would need to cluster starlike graphs closer together"
   ]
  },
  {
   "cell_type": "code",
   "execution_count": null,
   "metadata": {},
   "outputs": [],
   "source": [
    "pca = PCA(n_components=2)\n",
    "principalComponents = pca.fit_transform(x[:, [0, 2, 3, 4]])\n",
    "print(pca.explained_variance_ratio_) \n",
    "\n",
    "cluster = AgglomerativeClustering(n_clusters=10, affinity='euclidean', linkage='ward')  \n",
    "_ = cluster.fit_predict(principalComponents)  \n",
    "\n",
    "plt.figure(figsize=(20, 20))\n",
    "plt.scatter(principalComponents[:,0], principalComponents[:,1], c= cluster.labels_, cmap=plt.cm.tab20)  \n",
    "for i, name in enumerate(airlines):\n",
    "    plt.annotate(name, xy = (principalComponents[i, 0], principalComponents[i, 1]), \n",
    "             xytext = (0, 0), textcoords = 'offset points')"
   ]
  },
  {
   "cell_type": "markdown",
   "metadata": {},
   "source": [
    "Now we see that the best airlines are all clustered together, and the cheapest airlines tend to be clustered together!"
   ]
  },
  {
   "cell_type": "markdown",
   "metadata": {},
   "source": [
    "Now, what is the underlying confounding factor that could lead to such a distribution?\n",
    "\n",
    "**Is the clustering due to international vs local flights?**\n",
    "\n",
    "International airlines are much more likely to be world renowed, while cheap airlines may only provide inertcontinetal or even just naional travel. Here we check whether there is an indication of this in the graphs:"
   ]
  },
  {
   "cell_type": "code",
   "execution_count": null,
   "metadata": {},
   "outputs": [],
   "source": [
    "d = airports.set_index('IATA').Country.to_dict()"
   ]
  },
  {
   "cell_type": "code",
   "execution_count": null,
   "metadata": {},
   "outputs": [],
   "source": [
    "country_json= pd.read_json('country-by-continent.json').set_index('country').continent.to_dict()"
   ]
  },
  {
   "cell_type": "code",
   "execution_count": null,
   "metadata": {},
   "outputs": [],
   "source": [
    "merged_routes['Intercontinental'] = merged_routes.apply(\n",
    "    lambda x: country_json[d[x.SourceAirport]] != country_json[d[x.DestinationAirport]] , axis=1)"
   ]
  },
  {
   "cell_type": "code",
   "execution_count": null,
   "metadata": {},
   "outputs": [],
   "source": [
    "color_international = merged_routes.groupby('Name').apply(lambda x: np.log(x.Intercontinental.sum())).tolist()"
   ]
  },
  {
   "cell_type": "code",
   "execution_count": null,
   "metadata": {},
   "outputs": [],
   "source": [
    "plt.figure(figsize=(10, 10))\n",
    "plt.scatter(principalComponents[:,0], principalComponents[:,1], c= color_international, cmap=plt.cm.PuBu )  \n",
    "plt.colorbar()"
   ]
  },
  {
   "cell_type": "code",
   "execution_count": null,
   "metadata": {},
   "outputs": [],
   "source": [
    "plt.figure(figsize=(10, 10))\n",
    "plt.scatter(principalComponents[:,0], principalComponents[:,1], c= merged_routes.groupby('Name').apply(lambda x: np.log(x.International.sum())).tolist(), cmap=plt.cm.PuBu )  \n",
    "plt.colorbar()"
   ]
  },
  {
   "cell_type": "code",
   "execution_count": null,
   "metadata": {},
   "outputs": [],
   "source": [
    "plt.figure(figsize=(10, 10))\n",
    "plt.scatter(principalComponents[:,0], principalComponents[:,1], c= merged_routes.groupby('Name').apply(\n",
    "    lambda x: x.Distance.sum()).tolist(), cmap=plt.cm.PuBu )  \n",
    "plt.colorbar()"
   ]
  },
  {
   "cell_type": "markdown",
   "metadata": {},
   "source": [
    "**Analyzing if there is corrleation between countries and structure:**"
   ]
  },
  {
   "cell_type": "code",
   "execution_count": null,
   "metadata": {},
   "outputs": [],
   "source": [
    "most_common = merged_routes[~merged_routes.Name.duplicated()].Country.value_counts().head(3).index\n",
    "most_common"
   ]
  },
  {
   "cell_type": "code",
   "execution_count": null,
   "metadata": {},
   "outputs": [],
   "source": [
    "countries = list(most_common) + list(merged_routes.Country.unique())\n",
    "airline_to_countryid = merged_routes.set_index('Name').Country.to_dict()\n",
    "country_coloring = [countries.index(airline_to_countryid[i]\n",
    "                                   ) if airline_to_countryid[i] in most_common else -1 for i in merged_routes.Name.unique() ]"
   ]
  },
  {
   "cell_type": "code",
   "execution_count": null,
   "metadata": {},
   "outputs": [],
   "source": [
    "to_keep = [i for i, name in enumerate(airlines) if airline_to_countryid[name] in most_common]"
   ]
  },
  {
   "cell_type": "code",
   "execution_count": null,
   "metadata": {},
   "outputs": [],
   "source": [
    "plt.figure(figsize=(10, 10))\n",
    "plt.scatter(principalComponents[:,0], \n",
    "            principalComponents[:,1], \n",
    "            c= np.array(country_coloring), \n",
    "            cmap=plt.cm.Set1_r)  \n",
    "for i in to_keep:\n",
    "    plt.annotate(airlines[i], xy = (principalComponents[i, 0], principalComponents[i, 1]), \n",
    "             xytext = (0, 0), textcoords = 'offset points')"
   ]
  },
  {
   "cell_type": "markdown",
   "metadata": {},
   "source": [
    "One large cluster of american airways:\n",
    "\n",
    "but we have some dispersion, and then a cheap airline cluster"
   ]
  },
  {
   "cell_type": "code",
   "execution_count": null,
   "metadata": {},
   "outputs": [],
   "source": [
    "American_Airlines = ['Us Airways', 'Delta Airlines', 'American Airlines', 'United Airlines']"
   ]
  },
  {
   "cell_type": "markdown",
   "metadata": {},
   "source": [
    "Total of 4 clusters for chinese airlines"
   ]
  },
  {
   "cell_type": "code",
   "execution_count": null,
   "metadata": {},
   "outputs": [],
   "source": [
    "Chinese_Airlines = ['Air China', 'China Eastern Airlines', 'China Southern Airlines', 'Hainan Airlines']"
   ]
  },
  {
   "cell_type": "markdown",
   "metadata": {},
   "source": [
    "1 clear cluster for United Arab Emirates:"
   ]
  },
  {
   "cell_type": "code",
   "execution_count": null,
   "metadata": {},
   "outputs": [],
   "source": [
    "Emirate_Airlines = ['Fly Dubai', 'Emirates', 'Etihad Airways']"
   ]
  },
  {
   "cell_type": "code",
   "execution_count": null,
   "metadata": {},
   "outputs": [],
   "source": [
    "Extreme_networks = ['Era Alaska', 'TUIfly', 'Emirates']"
   ]
  },
  {
   "cell_type": "code",
   "execution_count": null,
   "metadata": {
    "scrolled": false
   },
   "outputs": [],
   "source": [
    "for name in Extreme_networks:\n",
    "    Airline_Graph = create_airline_network(name)\n",
    "    draw_airline_network(Airline_Graph, name)"
   ]
  },
  {
   "cell_type": "markdown",
   "metadata": {},
   "source": [
    "**Analyzing inference from eignevalues to Safety and Delays**"
   ]
  },
  {
   "cell_type": "code",
   "execution_count": null,
   "metadata": {},
   "outputs": [],
   "source": [
    "scatter_data = pd.DataFrame(principalComponents)\n",
    "\n",
    "scatter_data['name'] = airlines\n",
    "scatter_data['labels'] = cluster.labels_\n",
    "scatter_data['country'] = scatter_data.name.map(airline_to_countryid)\n",
    "\n",
    "scatter_data['ontime'] = scatter_data.name.map(Delays_data.set_index('On-time')['On-time (A14)'].to_dict())\n",
    "scatter_data['delay'] = scatter_data.name.map(Delays_data.set_index('On-time')['Avg. Delay'].to_dict())\n",
    "scatter_data['safety'] = scatter_data.name.map(Airline_list.set_index('name').safety_score.to_dict())\n",
    "\n",
    "scatter = scatter_data[scatter_data.delay.notna()].copy()\n",
    "\n",
    "scatter['safety'] = scatter.safety.astype(float)"
   ]
  },
  {
   "cell_type": "markdown",
   "metadata": {},
   "source": [
    "Only result I can see so far:\n",
    "there is a delay line that goes from bottom left to top right:"
   ]
  },
  {
   "cell_type": "code",
   "execution_count": null,
   "metadata": {},
   "outputs": [],
   "source": [
    "plt.figure(figsize=(15, 10))\n",
    "plt.scatter(scatter[0], \n",
    "            scatter[1], \n",
    "            c= scatter['delay'], \n",
    "            cmap=plt.cm.Spectral_r)  \n",
    "\n",
    "for i in scatter.index:\n",
    "    plt.annotate(scatter['name'][i], xy = (scatter[0][i], scatter[1][i]), \n",
    "             xytext = (0, 0), textcoords = 'offset points')\n",
    "plt.colorbar()"
   ]
  },
  {
   "cell_type": "code",
   "execution_count": null,
   "metadata": {},
   "outputs": [],
   "source": [
    "from sklearn import linear_model\n",
    "from sklearn.metrics import mean_squared_error, r2_score"
   ]
  },
  {
   "cell_type": "code",
   "execution_count": null,
   "metadata": {},
   "outputs": [],
   "source": [
    "X = np.array(Stats)[list(scatter.index)]\n",
    "\n",
    "X = StandardScaler().fit_transform(X)\n",
    "\n",
    "regr = linear_model.LinearRegression()\n",
    "# Train the model using the training sets\n",
    "regr.fit(X[:,[0]+list(range(2,5))], scatter['delay'])\n",
    "\n",
    "#resudual sum of squares\n",
    "regr.score(X[:, [0]+list(range(2,5))], scatter['delay'])"
   ]
  },
  {
   "cell_type": "code",
   "execution_count": null,
   "metadata": {},
   "outputs": [],
   "source": [
    "# Train the model using the training sets\n",
    "regr.fit(X[:, 1:], scatter['delay'])\n",
    "\n",
    "#resudual sum of squares\n",
    "regr.score(X[:, 1:], scatter['delay'])"
   ]
  },
  {
   "cell_type": "code",
   "execution_count": null,
   "metadata": {
    "scrolled": true
   },
   "outputs": [],
   "source": [
    "scatter['pred'] = regr.predict(X[:, 1:])"
   ]
  },
  {
   "cell_type": "code",
   "execution_count": null,
   "metadata": {},
   "outputs": [],
   "source": [
    "plt.figure(figsize=(20, 10))\n",
    "plt.scatter(scatter[0], \n",
    "            scatter[1], \n",
    "            c= scatter['pred'], \n",
    "            cmap=plt.cm.Spectral_r)  \n",
    "\n",
    "for i in scatter.index:\n",
    "    plt.annotate(scatter['name'][i], xy = (scatter[0][i], scatter[1][i]), \n",
    "             xytext = (0, 0), textcoords = 'offset points')\n",
    "plt.colorbar()"
   ]
  },
  {
   "cell_type": "code",
   "execution_count": null,
   "metadata": {},
   "outputs": [],
   "source": [
    "plt.bar(range(len(regr.coef_)), regr.coef_,)\n",
    "[regr.coef_]"
   ]
  },
  {
   "cell_type": "markdown",
   "metadata": {},
   "source": [
    "Adding robustness as a predictor:"
   ]
  },
  {
   "cell_type": "code",
   "execution_count": null,
   "metadata": {},
   "outputs": [],
   "source": [
    "def get_network_stats_robustness(airline):\n",
    "    Airline_Graph = create_airline_network(airline)\n",
    "    \n",
    "    \n",
    "    components = nx.number_connected_components(Airline_Graph)\n",
    "    component_ratio = 0\n",
    "    density = nx.density(Airline_Graph)\n",
    "    \n",
    "    if components > 1 :\n",
    "        print(airline,'  ' ,components)\n",
    "        \n",
    "        c = sorted(nx.connected_components(Airline_Graph), key = len, reverse=True)\n",
    "        component_ratio = len([i for t in c[1:] for i in t])/ len(c[0])\n",
    "        Airline_Graph = Airline_Graph.subgraph(c[0])\n",
    "\n",
    "    #connectivity pattern of airline\n",
    "    diameter = nx.diameter(Airline_Graph)\n",
    "    degree_assortativity = nx.degree_assortativity_coefficient(Airline_Graph)\n",
    "    \n",
    "    #network pattern\n",
    "    algebraic_connectivity = nx.algebraic_connectivity(Airline_Graph)\n",
    "    \n",
    "    \n",
    "    #robustness of network\n",
    "    nb = nx.betweenness_centrality(Airline_Graph, normalized=True)\n",
    "    betweenness = np.array(list(nb.values()))\n",
    "    upper_betweenness = np.quantile(betweenness, 0.75)\n",
    "    median_betweenness = np.quantile(betweenness, 0.5)\n",
    "    lower_betweenness = np.quantile(betweenness, 0.27)\n",
    "    \n",
    "    \n",
    "    eb = nx.edge_betweenness_centrality(Airline_Graph, normalized=True)\n",
    "    betweenness = np.array(list(eb.values()))\n",
    "    e_upper_betweenness = np.quantile(betweenness, 0.75)\n",
    "    e_median_betweenness = np.quantile(betweenness, 0.5)\n",
    "    e_lower_betweenness = np.quantile(betweenness, 0.27)\n",
    "    \n",
    "    node_connectivity = nx.node_connectivity(Airline_Graph)\n",
    "    \n",
    "    return np.array([#diameter, degree_assortativity, \n",
    "                     #node_connectivity,\n",
    "                     upper_betweenness, median_betweenness, \n",
    "                     e_upper_betweenness, e_median_betweenness,\n",
    "                    ])"
   ]
  },
  {
   "cell_type": "code",
   "execution_count": null,
   "metadata": {},
   "outputs": [],
   "source": [
    "Stats_between = []\n",
    "airlines = scatter.name.unique()\n",
    "for name in airlines:\n",
    "    stat = get_network_stats_robustness(name)\n",
    "    if type(stat) != None:\n",
    "        Stats_between.append(stat)\n",
    "network_stats_between = np.array(Stats_between)\n",
    "x_between = StandardScaler().fit_transform(network_stats_between)"
   ]
  },
  {
   "cell_type": "code",
   "execution_count": null,
   "metadata": {},
   "outputs": [],
   "source": [
    "x.shape"
   ]
  },
  {
   "cell_type": "code",
   "execution_count": null,
   "metadata": {},
   "outputs": [],
   "source": [
    "scatter_extended = pd.concat([pd.DataFrame(x_between), X], ignore_index=True, axis=1)"
   ]
  },
  {
   "cell_type": "code",
   "execution_count": null,
   "metadata": {},
   "outputs": [],
   "source": [
    "X_ = scatter_extended.iloc[:, :4]\n",
    "X_ = StandardScaler().fit_transform(X_)\n",
    "\n",
    "regr = linear_model.LinearRegression()\n",
    "regr.fit(X_, scatter['delay'])\n",
    "#resudual sum of squares\n",
    "regr.score(X_, scatter['delay'])"
   ]
  },
  {
   "cell_type": "code",
   "execution_count": null,
   "metadata": {},
   "outputs": [],
   "source": [
    "X_ = scatter_extended.iloc[:, :7]\n",
    "X_ = StandardScaler().fit_transform(X_)\n",
    "\n",
    "regr = linear_model.LinearRegression()\n",
    "regr.fit(X_, scatter['delay'])\n",
    "#resudual sum of squares\n",
    "regr.score(X_, scatter['delay'])"
   ]
  },
  {
   "cell_type": "code",
   "execution_count": null,
   "metadata": {},
   "outputs": [],
   "source": [
    "plt.bar(range(len(regr.coef_)), regr.coef_,)\n",
    "[regr.coef_]"
   ]
  },
  {
   "cell_type": "markdown",
   "metadata": {},
   "source": [
    "Plot based on all these values:"
   ]
  },
  {
   "cell_type": "code",
   "execution_count": null,
   "metadata": {},
   "outputs": [],
   "source": [
    "Stats_between = []\n",
    "airlines = merged_routes.Name.unique()\n",
    "for name in airlines:\n",
    "    stat = get_network_stats_robustness(name)\n",
    "    if type(stat) != None:\n",
    "        Stats_between.append(stat)\n",
    "network_stats_between = np.array(Stats_between)\n",
    "x_between = StandardScaler().fit_transform(network_stats_between)"
   ]
  },
  {
   "cell_type": "code",
   "execution_count": null,
   "metadata": {},
   "outputs": [],
   "source": [
    "x_ = np.concatenate([x_between , x[:, [1,2]]], axis=1)"
   ]
  },
  {
   "cell_type": "code",
   "execution_count": null,
   "metadata": {},
   "outputs": [],
   "source": [
    "pca = PCA(n_components=2)\n"
   ]
  },
  {
   "cell_type": "code",
   "execution_count": null,
   "metadata": {},
   "outputs": [],
   "source": [
    "country_coloring = [scatter[\"pred\"][ind]\n",
    " if i in scatter.name.tolist() else 0 for ind, i in enumerate(merged_routes.Name.unique() )]"
   ]
  },
  {
   "cell_type": "code",
   "execution_count": null,
   "metadata": {},
   "outputs": [],
   "source": [
    "country_coloring = regr.predict(x_)"
   ]
  },
  {
   "cell_type": "code",
   "execution_count": null,
   "metadata": {},
   "outputs": [],
   "source": [
    "principalComponents = pca.fit_transform(x_)\n",
    "\n",
    "slope = pca.transform(np.array([regr.coef_]))\n",
    "\n",
    "\n",
    "cluster = AgglomerativeClustering(n_clusters=10, affinity='euclidean', linkage='ward')  \n",
    "_ = cluster.fit_predict(principalComponents)  \n",
    "\n",
    "plt.figure(figsize=(30, 30))\n",
    "plt.scatter(principalComponents[:,0], \n",
    "            principalComponents[:,1], \n",
    "            c= np.array(country_coloring), \n",
    "            cmap=plt.cm.Spectral_r, s=100)  \n",
    "plt.colorbar()\n",
    "for i, name in enumerate(airlines):\n",
    "    plt.annotate(name, xy = (principalComponents[i, 0], principalComponents[i, 1]), \n",
    "             xytext = (0, 0), textcoords = 'offset points')\n",
    "plt.show()"
   ]
  },
  {
   "cell_type": "markdown",
   "metadata": {},
   "source": [
    "**Getting information summarized for individual networks:**"
   ]
  },
  {
   "cell_type": "code",
   "execution_count": null,
   "metadata": {},
   "outputs": [],
   "source": [
    "def airlines_network_analysis(airline):\n",
    "    \n",
    "    Airline_Graph = create_airline_network(airline)\n",
    "    \n",
    "    #Highlights hubs   \n",
    "    print(\"10% biggest airports of \", airline)\n",
    "    print()\n",
    "    deg = np.array(list(Airline_Graph.degree))\n",
    "    deg_value = deg[:,1]\n",
    "    deg_value = deg_value.astype(np.float)\n",
    "    perc = np.percentile(deg_value, q=90)\n",
    "    biggest_hubs = np.array(np.where(deg_value > perc))\n",
    "\n",
    "    for i in np.nditer(biggest_hubs):\n",
    "        print(airports[airports.IATA == deg[i,0]].Name.to_string(index=False), \"has degree : \", deg[i,1])\n",
    "    \n",
    "    \n",
    "    #Diameter,robustness\n",
    "    print(\"Anlysis\")\n",
    "    print(\"Number of edges : \", Airline_Graph.number_of_edges())\n",
    "    print(\"Number of nodes\", Airline_Graph.number_of_nodes(), \"nodes\")\n",
    "    print(\"Diameter : \", nx.diameter(Airline_Graph))\n",
    "    print(\"Average distance:\", merged_routes.groupby('Name').get_group(airline).Distance.mean())\n",
    "    print(\"International Ratio: \",merged_routes.groupby('Name').get_group(airline).International.sum() / (Airline_Graph.size()*2))\n",
    "    print(\"Node connectivity\", nx.node_connectivity(Airline_Graph))\n",
    "    \n",
    "    eb = nx.edge_betweenness_centrality(Airline_Graph)\n",
    "    key, value = max(eb.items(), key = lambda p: p[1])\n",
    "    print(\"Max edge betwenness: \",value , \"from \", Airport_to_city.get(key[0]), \"to\", Airport_to_city.get(key[1]))\n",
    "    key, value = min(eb.items(), key = lambda p: p[1])\n",
    "    print(\"Min edge betwenness: \",value, \"from\", Airport_to_city.get(key[0]), \"to\", Airport_to_city.get(key[1]))\n",
    "                                                            \n",
    "    nb = nx.betweenness_centrality(Airline_Graph)\n",
    "    key, value = max(nb.items(), key= lambda p:p[1])\n",
    "    print(\"Max node betwenness: \", value, \"airport\", Airport_to_city.get(key))\n",
    "    key, value = min(nb.items(), key= lambda p:p[1])\n",
    "    print(\"Min node betwenness: \", value, \"airport\", Airport_to_city.get(key))\n",
    "    print(\"Algbraic connectivity: \", nx.algebraic_connectivity(Airline_Graph))\n",
    "    \n",
    "    #Plot network\n",
    "    plt.figure(figsize=[7,9])\n",
    "    plt.subplot(211)\n",
    "    plt.title('Degree Distribution')\n",
    "    plt.hist(deg_value, bins=50)\n",
    "    \n",
    "    plt.subplot(212)\n",
    "    plt.title('Distances distribution')\n",
    "    merged_routes.groupby('Name').get_group(airline).Distance.hist(bins=30)\n",
    "    \n",
    "    draw_airline_network(Airline_Graph, airline)\n",
    "    "
   ]
  },
  {
   "cell_type": "code",
   "execution_count": null,
   "metadata": {},
   "outputs": [],
   "source": [
    "airlines_network_analysis('Ryanair')"
   ]
  },
  {
   "cell_type": "code",
   "execution_count": null,
   "metadata": {},
   "outputs": [],
   "source": [
    "airlines_network_analysis('American Airlines')"
   ]
  },
  {
   "cell_type": "code",
   "execution_count": null,
   "metadata": {},
   "outputs": [],
   "source": [
    "#High cooperation probability based on common bottlenecks \n",
    "def find_helper(airline):\n",
    "    Airline_Graph = create_airline_network(airline)\n",
    "    #bottlenecks\n",
    "    eb = nx.edge_betweenness_centrality(Airline_Graph)\n",
    "    #Decreasing sorting \n",
    "    eb_sorted = sorted(eb.items(), key = lambda p: 1-p[1])\n",
    "    #find helper for the bottleneck\n",
    "    for i in range(5):\n",
    "        print('Betweenness value ' , eb_sorted[i][1])\n",
    "        print('Bottleneck from ', Airport_to_city.get(eb_sorted[i][0][0]), 'to', Airport_to_city.get(eb_sorted[i][0][1]))\n",
    "        \n",
    "        helper_routes = merged_routes[(merged_routes.SourceAirport == eb_sorted[i][0][0]) & (merged_routes.DestinationAirport == eb_sorted[i][0][1])]\n",
    "        if (helper_routes.shape[0] > 1):\n",
    "            print('Best helpers : ')\n",
    "            print((helper_routes[helper_routes.Name != airline].Name.to_string(index=False)))\n",
    "            print()\n",
    "        else:\n",
    "            print(airline, ' is the unique airline \\n\\n')\n",
    "            \n",
    "\n",
    "find_helper('American Airlines')\n"
   ]
  },
  {
   "cell_type": "markdown",
   "metadata": {},
   "source": [
    "## Competition Analysis"
   ]
  },
  {
   "cell_type": "code",
   "execution_count": null,
   "metadata": {},
   "outputs": [],
   "source": [
    "merged_routes['SourceCountry'] = merged_routes.apply(lambda x: \n",
    "                Airport_to_country[x.SourceAirport], axis=1)\n",
    "merged_routes['DestinationCountry'] = merged_routes.apply(lambda x: \n",
    "                Airport_to_country[x.DestinationAirport], axis=1)\n",
    "merged_routes.head(5)"
   ]
  },
  {
   "cell_type": "code",
   "execution_count": null,
   "metadata": {},
   "outputs": [],
   "source": [
    "def overlaps(route_a, route_b):\n",
    "    source_dist = distance(distance_mapping[route_a['SourceAirport']],\n",
    "                           distance_mapping[route_b['SourceAirport']]).km\n",
    "    dest_dist = distance(distance_mapping[route_a['DestinationAirport']],\n",
    "                         distance_mapping[route_b['DestinationAirport']]).km\n",
    "    return source_dist <= 100 and dest_dist <= 100\n",
    "\n",
    "\"\"\"\n",
    "Computed the overlap (competition) score between two airlines.\n",
    "It takes not only nodes into consideration but also the edges.\n",
    "So, if Airline A goes from Bucharest to Zurich and Airline B\n",
    "from Geneva to Zurich, based on this fact only, they are not\n",
    "competitors.\n",
    "\"\"\"\n",
    "def compute_overlap_score(airline_x, airline_y):\n",
    "    routes_x = merged_routes[merged_routes.Name == airline_x]\n",
    "    routes_y = merged_routes[merged_routes.Name == airline_y]\n",
    "    \n",
    "    score = 0\n",
    "    for i, row_x in routes_x.iterrows():\n",
    "        does_overlap = False\n",
    "        joined_routes = routes_y[(routes_y.SourceCountry == row_x['SourceCountry']) &\n",
    "                                 (routes_y.DestinationCountry == row_x['DestinationCountry'])]\n",
    "        for j, row_y in joined_routes.iterrows():\n",
    "            if overlaps(row_x, row_y):\n",
    "                does_overlap = True\n",
    "        if does_overlap:\n",
    "            score += 1\n",
    "    return score / len(routes_x)\n",
    "\n",
    "compute_overlap_score(\"Ryanair\", \"Wizz Air\")"
   ]
  },
  {
   "cell_type": "code",
   "execution_count": null,
   "metadata": {},
   "outputs": [],
   "source": [
    "\"\"\"\n",
    "Computed the overlap (competition) score between given airlines.\n",
    "It takes not only nodes into consideration but also the edges.\n",
    "So, if Airline A goes from Bucharest to Zurich and Airline B\n",
    "from Geneva to Zurich, based on this fact only, they are not\n",
    "competitors.\n",
    "\"\"\"\n",
    "def compute_overlap_scores(airline_list):\n",
    "    scores = []\n",
    "    for airline_a in airline_list:\n",
    "        for airline_b in airline_list:\n",
    "            scores.append([airline_a, airline_b, compute_overlap_score(airline_a, airline_b)])\n",
    "    return pd.DataFrame(scores, columns = ['AirlineA', 'AirlineB', 'Score'])"
   ]
  },
  {
   "cell_type": "code",
   "execution_count": null,
   "metadata": {},
   "outputs": [],
   "source": [
    "overlap_scores = compute_overlap_scores([\"Ryanair\", \"Wizz Air\"])\n",
    "sns.heatmap(overlap_scores.pivot(\"AirlineA\", \"AirlineB\", \"Score\"), cmap=\"YlGnBu\")"
   ]
  },
  {
   "cell_type": "code",
   "execution_count": null,
   "metadata": {},
   "outputs": [],
   "source": [
    "overlap_scores = compute_overlap_scores(Low_cost)\n",
    "sns.heatmap(overlap_scores.pivot(\"AirlineA\", \"AirlineB\", \"Score\"), cmap=\"YlGnBu\")"
   ]
  },
  {
   "cell_type": "code",
   "execution_count": null,
   "metadata": {},
   "outputs": [],
   "source": [
    "overlap_scores = compute_overlap_scores(Best_Airlines)\n",
    "sns.heatmap(overlap_scores.pivot(\"AirlineA\", \"AirlineB\", \"Score\"), cmap=\"YlGnBu\")"
   ]
  },
  {
   "cell_type": "code",
   "execution_count": null,
   "metadata": {},
   "outputs": [],
   "source": [
    "overlap_scores = compute_overlap_scores(Large_Airlines)\n",
    "sns.heatmap(overlap_scores.pivot(\"AirlineA\", \"AirlineB\", \"Score\"), cmap=\"YlGnBu\")"
   ]
  },
  {
   "cell_type": "code",
   "execution_count": null,
   "metadata": {},
   "outputs": [],
   "source": [
    "overlap_scores = compute_overlap_scores(Chinese)\n",
    "sns.heatmap(overlap_scores.pivot(\"AirlineA\", \"AirlineB\", \"Score\"), cmap=\"YlGnBu\")"
   ]
  },
  {
   "cell_type": "code",
   "execution_count": null,
   "metadata": {},
   "outputs": [],
   "source": [
    "overlap_scores = compute_overlap_scores(airlines.Name)\n",
    "sns.heatmap(overlap_scores.pivot(\"AirlineA\", \"AirlineB\", \"Score\"), cmap=\"YlGnBu\")"
   ]
  },
  {
   "cell_type": "code",
   "execution_count": null,
   "metadata": {},
   "outputs": [],
   "source": []
  }
 ],
 "metadata": {
  "kernelspec": {
   "display_name": "Python 3",
   "language": "python",
   "name": "python3"
  },
  "language_info": {
   "codemirror_mode": {
    "name": "ipython",
    "version": 3
   },
   "file_extension": ".py",
   "mimetype": "text/x-python",
   "name": "python",
   "nbconvert_exporter": "python",
   "pygments_lexer": "ipython3",
   "version": "3.7.1"
  }
 },
 "nbformat": 4,
 "nbformat_minor": 2
}
