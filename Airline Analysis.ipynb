{
 "cells": [
  {
   "cell_type": "markdown",
   "metadata": {},
   "source": [
    "# Airline Analysis"
   ]
  },
  {
   "cell_type": "markdown",
   "metadata": {},
   "source": [
    "## TODO:\n",
    "- get the distane of the edge based on longitude and latitude ✅\n",
    "- add all the information to the graph so we have an easy time calculating the measures. ✅\n",
    "- get list of graph theoretical measures to apply to airline networks:\n",
    "    - number and strength of hubs \n",
    "    - network robustness measures\n",
    "    - number of/ precense if paths\n",
    "    - diameter of the graph\n",
    "    - centrality measures\n",
    "    - spectrum of graph\n",
    "    - measure of correlation between country label\n",
    "    - how much in country/out of country ✅\n",
    "    - number of triangles in graph\n",
    "    - set weights if we have multiple fights to same place by same airline ✅\n",
    "    - get overlaping nodes functions. similarity of graph\n",
    "- get planes associated with each flight in route, so we can get number of passagers. May do later only for the biggest airlines, at end of analysis ❓"
   ]
  },
  {
   "cell_type": "markdown",
   "metadata": {},
   "source": [
    "Resources:\n",
    "\n",
    "Economics:\n",
    "http://www.oecd.org/daf/competition/airlinecompetition.htm\n",
    "\n",
    "Graph theoretical:\n",
    "https://beta.vu.nl/nl/Images/werkstuk-meer_tcm235-280356.pdf\n",
    "\n",
    "aircraft traffic data by main airport:\n",
    "https://datamarket.com/data/set/196g/aircraft-traffic-data-by-main-airport#!ds=196g!nto=6:ntp=b:ntq=3:ntr=1.1g.1u.7.z.a.j.v.1b.t.d.s.1n.12.p.8.b.y.e.19.17.1v.9.i.11.1f.1s.1a.1w.x.14.1l.1p.4.k.1r.g.1x.1c.f.15.q.1j.1t.l.1k.1h:nts=nf.rb&display=line\n",
    "\n",
    "\n",
    "\n"
   ]
  },
  {
   "cell_type": "markdown",
   "metadata": {},
   "source": [
    "### Loading the dataset:"
   ]
  },
  {
   "cell_type": "code",
   "execution_count": null,
   "metadata": {},
   "outputs": [],
   "source": [
    "from  geopy.distance import distance #calculates distance based on coordinates\n",
    "\n",
    "import operator\n",
    "import numpy as np\n",
    "import pandas as pd\n",
    "import networkx as nx\n",
    "import matplotlib.pyplot as plt\n",
    "import seaborn as sns"
   ]
  },
  {
   "cell_type": "code",
   "execution_count": null,
   "metadata": {},
   "outputs": [],
   "source": [
    "!bash download_data.sh"
   ]
  },
  {
   "cell_type": "code",
   "execution_count": null,
   "metadata": {},
   "outputs": [],
   "source": [
    "airports = pd.read_csv('airports.dat', header=None, names=\n",
    "                      [\"AirportID\",\"Name\", \"City\", \"Country\", \"IATA\", \"ICAO\",\n",
    "                       \"Latitude\", \"Longitude\", \"Altitude\", \"Timezone\", \"DST\", \"TzDatabaseTimeZone\",\n",
    "                       \"Type\", \"Source\"],\n",
    "                      na_values='\\\\N')\n",
    "airlines = pd.read_csv('airlines.dat', header=None, names=\n",
    "                       [\"AirlineID\", \"Name\", \"Alias\", \"IATA\", \"ICAO\", \"Callsign\", \"Country\", \"Active\"]\n",
    "                       ,na_values='\\\\N')\n",
    "routes = pd.read_csv('routes.dat', header=None, names=\n",
    "                     ['Airline', 'AirlineID', 'SourceAirport', 'SourceAirportID', 'DestinationAirport',\n",
    "                      'DestinationAirportID', 'Codeshare', 'Stops', 'Equipment'],\n",
    "                    na_values='\\\\N')\n",
    "planes = pd.read_csv('planes.dat', header=None, names=['Name', 'IATA code', 'ICAO code'])"
   ]
  },
  {
   "cell_type": "markdown",
   "metadata": {},
   "source": [
    "Only keep airports in that are both in routes and airports dataframes:"
   ]
  },
  {
   "cell_type": "code",
   "execution_count": null,
   "metadata": {},
   "outputs": [],
   "source": [
    "valid_airports = set(airports.IATA).intersection(set(routes.SourceAirport).union(set(routes.DestinationAirport)))"
   ]
  },
  {
   "cell_type": "code",
   "execution_count": null,
   "metadata": {},
   "outputs": [],
   "source": [
    "routes = routes[routes.SourceAirport.isin(valid_airports) &  routes.DestinationAirport.isin(valid_airports)]\n",
    "airports = airports[airports.IATA.isin(valid_airports)]"
   ]
  },
  {
   "cell_type": "markdown",
   "metadata": {},
   "source": [
    "Only keep airlines in intersection of that are both in the airline and in the routes dataframe :"
   ]
  },
  {
   "cell_type": "code",
   "execution_count": null,
   "metadata": {},
   "outputs": [],
   "source": [
    "valid_airlines = set(airlines.AirlineID).intersection(set(routes.AirlineID))"
   ]
  },
  {
   "cell_type": "code",
   "execution_count": null,
   "metadata": {},
   "outputs": [],
   "source": [
    "airlines = airlines[airlines.AirlineID.isin(valid_airlines)]\n",
    "routes = routes[routes.AirlineID.isin(valid_airlines)]"
   ]
  },
  {
   "cell_type": "markdown",
   "metadata": {},
   "source": [
    "We check that for each airline we have exactly one edge between a given source and destination none. This means that our graph will be unweighted. "
   ]
  },
  {
   "cell_type": "code",
   "execution_count": null,
   "metadata": {},
   "outputs": [],
   "source": [
    "routes_by_airline = routes[['SourceAirport', 'DestinationAirport', 'Airline']]\n",
    "routes_by_airline.drop_duplicates().shape == routes_by_airline.shape"
   ]
  },
  {
   "cell_type": "markdown",
   "metadata": {},
   "source": [
    "### Merging Routes with Airlines:"
   ]
  },
  {
   "cell_type": "markdown",
   "metadata": {},
   "source": [
    "We are only interessted in currently active airlines:"
   ]
  },
  {
   "cell_type": "code",
   "execution_count": null,
   "metadata": {},
   "outputs": [],
   "source": [
    "merged_routes = pd.merge(airlines[airlines.Active == 'Y'], routes, on='AirlineID')"
   ]
  },
  {
   "cell_type": "code",
   "execution_count": null,
   "metadata": {},
   "outputs": [],
   "source": [
    "merged_routes.head(1)"
   ]
  },
  {
   "cell_type": "markdown",
   "metadata": {},
   "source": [
    "Getting whether the flight is international or not:"
   ]
  },
  {
   "cell_type": "code",
   "execution_count": null,
   "metadata": {},
   "outputs": [],
   "source": [
    "Airport_to_country = airports.set_index('IATA').Country.to_dict()"
   ]
  },
  {
   "cell_type": "code",
   "execution_count": null,
   "metadata": {},
   "outputs": [],
   "source": [
    "merged_routes['International'] = merged_routes.apply(\n",
    "    lambda x: 1 if Airport_to_country[x.SourceAirport] == Airport_to_country[x.DestinationAirport] else 0, axis=1)"
   ]
  },
  {
   "cell_type": "markdown",
   "metadata": {},
   "source": [
    "reset frames to create mappings:"
   ]
  },
  {
   "cell_type": "code",
   "execution_count": null,
   "metadata": {},
   "outputs": [],
   "source": [
    "#only keep values we are interested in\n",
    "airports_filtered = airports[['Name', 'Country', 'Longitude', 'Latitude', 'Timezone', 'IATA', 'City']].copy()"
   ]
  },
  {
   "cell_type": "code",
   "execution_count": null,
   "metadata": {},
   "outputs": [],
   "source": [
    "#IATA airport id -> longitude latitude\n",
    "#airports_filtered.dropna(inplace=True)\n",
    "airports_filtered.set_index('IATA', inplace=True)\n",
    "\n",
    "airports_filtered.Longitude.dropna().shape == airports_filtered.Longitude.shape\n"
   ]
  },
  {
   "cell_type": "code",
   "execution_count": null,
   "metadata": {},
   "outputs": [],
   "source": [
    "print(airports.Longitude.shape)\n",
    "print(airports_filtered.Longitude.shape)"
   ]
  },
  {
   "cell_type": "code",
   "execution_count": null,
   "metadata": {},
   "outputs": [],
   "source": [
    "location_mapping = airports_filtered.apply(lambda x: [x.Longitude, x.Latitude], axis=1).to_dict()"
   ]
  },
  {
   "cell_type": "code",
   "execution_count": null,
   "metadata": {},
   "outputs": [],
   "source": [
    "#Airline name -> airlineID\n",
    "airline_name_to_number = merged_routes.Name.drop_duplicates().reset_index(drop=True).to_dict()\n",
    "airline_name_to_number = {v: k for k, v in airline_name_to_number.items()}"
   ]
  },
  {
   "cell_type": "code",
   "execution_count": null,
   "metadata": {},
   "outputs": [],
   "source": [
    "merged_routes['AirlineNbr'] = merged_routes.Name.map(airline_name_to_number)"
   ]
  },
  {
   "cell_type": "markdown",
   "metadata": {},
   "source": [
    "Fill in Nan values:"
   ]
  },
  {
   "cell_type": "code",
   "execution_count": null,
   "metadata": {},
   "outputs": [],
   "source": [
    "merged_routes['Codeshare'] = merged_routes.Codeshare.fillna('N')"
   ]
  },
  {
   "cell_type": "markdown",
   "metadata": {},
   "source": [
    "### Getting the distance between two airports:"
   ]
  },
  {
   "cell_type": "markdown",
   "metadata": {},
   "source": [
    "Example of functionality:"
   ]
  },
  {
   "cell_type": "code",
   "execution_count": null,
   "metadata": {},
   "outputs": [],
   "source": [
    "element = airports_filtered.apply(lambda x: (x.Latitude, x.Longitude), axis=1)[0]\n",
    "element2 = airports_filtered.apply(lambda x: (x.Latitude, x.Longitude), axis=1)[1]"
   ]
  },
  {
   "cell_type": "code",
   "execution_count": null,
   "metadata": {},
   "outputs": [],
   "source": [
    "distance(element, element2).km"
   ]
  },
  {
   "cell_type": "code",
   "execution_count": null,
   "metadata": {},
   "outputs": [],
   "source": [
    "distance_mapping = airports_filtered.apply(lambda x: (x.Latitude, x.Longitude), axis=1).to_dict()"
   ]
  },
  {
   "cell_type": "markdown",
   "metadata": {},
   "source": [
    "Additing it to merged_routes:"
   ]
  },
  {
   "cell_type": "code",
   "execution_count": null,
   "metadata": {},
   "outputs": [],
   "source": [
    "merged_routes['Distance'] = merged_routes.apply(lambda x: \n",
    "                distance(distance_mapping[x.SourceAirport], distance_mapping[x.DestinationAirport]).km, axis=1)"
   ]
  },
  {
   "cell_type": "code",
   "execution_count": null,
   "metadata": {},
   "outputs": [],
   "source": [
    "relevant_columns = ['Name', 'ICAO', 'Country', 'SourceAirport', 'DestinationAirport', 'Codeshare',\n",
    "                    'Stops', 'Equipment', 'AirlineNbr', 'International', 'Distance']"
   ]
  },
  {
   "cell_type": "code",
   "execution_count": null,
   "metadata": {},
   "outputs": [],
   "source": [
    "merged_routes.head()"
   ]
  },
  {
   "cell_type": "code",
   "execution_count": null,
   "metadata": {},
   "outputs": [],
   "source": [
    "merged_routes[relevant_columns].head()"
   ]
  },
  {
   "cell_type": "code",
   "execution_count": null,
   "metadata": {},
   "outputs": [],
   "source": [
    "merged_routes = merged_routes[relevant_columns]"
   ]
  },
  {
   "cell_type": "markdown",
   "metadata": {},
   "source": [
    "## Preliminary analysis of the biggest airlines:"
   ]
  },
  {
   "cell_type": "code",
   "execution_count": null,
   "metadata": {},
   "outputs": [],
   "source": [
    "merged_routes.Name.value_counts().head(10)"
   ]
  },
  {
   "cell_type": "code",
   "execution_count": null,
   "metadata": {},
   "outputs": [],
   "source": [
    "merged_routes.Name.value_counts().head(120).plot(kind='bar', color='b')\n",
    "_ = plt.xticks([])"
   ]
  },
  {
   "cell_type": "code",
   "execution_count": null,
   "metadata": {},
   "outputs": [],
   "source": [
    "merged_routes.Name.value_counts().plot(kind='hist', log=True, bins=20)"
   ]
  },
  {
   "cell_type": "code",
   "execution_count": null,
   "metadata": {},
   "outputs": [],
   "source": [
    "merged_routes.Name.value_counts().describe()"
   ]
  },
  {
   "cell_type": "code",
   "execution_count": null,
   "metadata": {},
   "outputs": [],
   "source": [
    "reasonably_big_airlines = merged_routes.Name.value_counts()[merged_routes.Name.value_counts() > 50].index"
   ]
  },
  {
   "cell_type": "code",
   "execution_count": null,
   "metadata": {},
   "outputs": [],
   "source": [
    "merged_routes = merged_routes[merged_routes.Name.isin(reasonably_big_airlines)]"
   ]
  },
  {
   "cell_type": "markdown",
   "metadata": {},
   "source": [
    "We look at a total of 212 airlines:"
   ]
  },
  {
   "cell_type": "code",
   "execution_count": null,
   "metadata": {},
   "outputs": [],
   "source": [
    "merged_routes.Name.unique().shape"
   ]
  },
  {
   "cell_type": "markdown",
   "metadata": {},
   "source": [
    "### Meta-Data analysis"
   ]
  },
  {
   "cell_type": "markdown",
   "metadata": {},
   "source": [
    "Propotion of international to national flights"
   ]
  },
  {
   "cell_type": "code",
   "execution_count": null,
   "metadata": {},
   "outputs": [],
   "source": [
    "merged_routes.groupby('Name').International.mean().plot(kind='hist', bins=40)"
   ]
  },
  {
   "cell_type": "markdown",
   "metadata": {},
   "source": [
    "mean distance of flights:"
   ]
  },
  {
   "cell_type": "code",
   "execution_count": null,
   "metadata": {},
   "outputs": [],
   "source": [
    "merged_routes.groupby('Name').Distance.mean().plot(kind='hist', bins=30)"
   ]
  },
  {
   "cell_type": "markdown",
   "metadata": {},
   "source": [
    "Max distance of flights:"
   ]
  },
  {
   "cell_type": "code",
   "execution_count": null,
   "metadata": {},
   "outputs": [],
   "source": [
    "merged_routes.groupby('Name').Distance.max().plot(kind='hist', bins=30)"
   ]
  },
  {
   "cell_type": "code",
   "execution_count": null,
   "metadata": {},
   "outputs": [],
   "source": [
    "plt.scatter(merged_routes.groupby('Name').Distance.max(),  merged_routes.groupby('Name').Distance.min())"
   ]
  },
  {
   "cell_type": "code",
   "execution_count": null,
   "metadata": {},
   "outputs": [],
   "source": [
    "plt.scatter(merged_routes.groupby('Name').Distance.median(),  merged_routes.groupby('Name').International.mean())"
   ]
  },
  {
   "cell_type": "markdown",
   "metadata": {},
   "source": [
    "shortest distance of flight:"
   ]
  },
  {
   "cell_type": "code",
   "execution_count": null,
   "metadata": {},
   "outputs": [],
   "source": [
    "merged_routes.groupby('Name').Distance.min().plot(kind='hist', bins=30)"
   ]
  },
  {
   "cell_type": "markdown",
   "metadata": {},
   "source": [
    "Proportion of codeshare flights:"
   ]
  },
  {
   "cell_type": "code",
   "execution_count": null,
   "metadata": {},
   "outputs": [],
   "source": [
    "merged_routes['Codeshare'] = merged_routes.Codeshare.map(lambda x: 1 if x == 'Y' else 0)"
   ]
  },
  {
   "cell_type": "code",
   "execution_count": null,
   "metadata": {},
   "outputs": [],
   "source": [
    "merged_routes.groupby('Name').Codeshare.mean().plot(kind='hist', bins=30)"
   ]
  },
  {
   "cell_type": "markdown",
   "metadata": {},
   "source": [
    "## Create graph of all airlines:\n",
    "\n",
    "Create graph with edge having airline associated to"
   ]
  },
  {
   "cell_type": "code",
   "execution_count": null,
   "metadata": {},
   "outputs": [],
   "source": [
    "biggest = merged_routes.AirlineNbr.value_counts().head(10).index"
   ]
  },
  {
   "cell_type": "code",
   "execution_count": null,
   "metadata": {},
   "outputs": [],
   "source": [
    "edge_attributes = ['Country', 'Name', 'AirlineNbr', 'Distance', 'International']"
   ]
  },
  {
   "cell_type": "code",
   "execution_count": null,
   "metadata": {},
   "outputs": [],
   "source": [
    "Airline_Graph = nx.from_pandas_edgelist(merged_routes[merged_routes.AirlineNbr.isin(biggest)], \n",
    "                                        source='SourceAirport', \n",
    "                                        target='DestinationAirport', \n",
    "                                        edge_attr=['Country', 'Name', 'AirlineNbr', 'Distance', 'International'])"
   ]
  },
  {
   "cell_type": "code",
   "execution_count": null,
   "metadata": {},
   "outputs": [],
   "source": [
    "color_edges = list(nx.get_edge_attributes(Airline_Graph, 'AirlineNbr').values())"
   ]
  },
  {
   "cell_type": "code",
   "execution_count": null,
   "metadata": {},
   "outputs": [],
   "source": [
    "nx.set_node_attributes(Airline_Graph, location_mapping, 'Location')"
   ]
  },
  {
   "cell_type": "code",
   "execution_count": null,
   "metadata": {},
   "outputs": [],
   "source": [
    "plt.figure(figsize=(20, 10))\n",
    "nx.draw_networkx(Airline_Graph, \n",
    "                 pos=nx.get_node_attributes(Airline_Graph, 'Location'), \n",
    "                 edge_color=color_edges, edge_cmap=plt.cm.Set2, node_size=0, labels=dict(), alpha=0.4)"
   ]
  },
  {
   "cell_type": "markdown",
   "metadata": {},
   "source": [
    "Example analysis of one graph:"
   ]
  },
  {
   "cell_type": "code",
   "execution_count": null,
   "metadata": {},
   "outputs": [],
   "source": [
    "def create_airline_network(airline):\n",
    "    df = merged_routes[merged_routes['Name'] == airline]\n",
    "    Airline_Graph = nx.from_pandas_edgelist(df, \n",
    "                                      source='SourceAirport', target='DestinationAirport', edge_attr=['Country'])\n",
    "    nx.set_node_attributes(Airline_Graph, location_mapping, 'Location')\n",
    "    return Airline_Graph"
   ]
  },
  {
   "cell_type": "code",
   "execution_count": null,
   "metadata": {},
   "outputs": [],
   "source": [
    "Ryanair = create_airline_network('Ryanair')"
   ]
  },
  {
   "cell_type": "code",
   "execution_count": null,
   "metadata": {},
   "outputs": [],
   "source": [
    "e, U = np.linalg.eigh(nx.normalized_laplacian_matrix(Ryanair).todense())"
   ]
  },
  {
   "cell_type": "code",
   "execution_count": null,
   "metadata": {},
   "outputs": [],
   "source": [
    "plt.plot(e)"
   ]
  },
  {
   "cell_type": "code",
   "execution_count": null,
   "metadata": {},
   "outputs": [],
   "source": [
    "Lufthansa = create_airline_network('Lufthansa')"
   ]
  },
  {
   "cell_type": "code",
   "execution_count": null,
   "metadata": {},
   "outputs": [],
   "source": [
    "e, U = np.linalg.eigh(nx.normalized_laplacian_matrix(Lufthansa).todense())\n",
    "plt.plot(e)"
   ]
  },
  {
   "cell_type": "code",
   "execution_count": null,
   "metadata": {},
   "outputs": [],
   "source": [
    "nx.node_connectivity(Ryanair)"
   ]
  },
  {
   "cell_type": "code",
   "execution_count": null,
   "metadata": {},
   "outputs": [],
   "source": [
    "plt.boxplot(nx.degree_centrality(Ryanair).values())"
   ]
  },
  {
   "cell_type": "code",
   "execution_count": null,
   "metadata": {},
   "outputs": [],
   "source": [
    "nx.average_clustering(Ryanair)"
   ]
  },
  {
   "cell_type": "code",
   "execution_count": null,
   "metadata": {},
   "outputs": [],
   "source": [
    "nx.k_nearest_neighbors(Ryanair)"
   ]
  },
  {
   "cell_type": "code",
   "execution_count": null,
   "metadata": {},
   "outputs": [],
   "source": [
    "nx.triangles(Ryanair)"
   ]
  },
  {
   "cell_type": "code",
   "execution_count": null,
   "metadata": {},
   "outputs": [],
   "source": [
    "nx.diameter(Ryanair)"
   ]
  },
  {
   "cell_type": "code",
   "execution_count": null,
   "metadata": {},
   "outputs": [],
   "source": [
    "nx.estrada_index(Ryanair)"
   ]
  },
  {
   "cell_type": "code",
   "execution_count": null,
   "metadata": {},
   "outputs": [],
   "source": [
    "nx.eccentricity(Ryanair)"
   ]
  },
  {
   "cell_type": "code",
   "execution_count": null,
   "metadata": {},
   "outputs": [],
   "source": [
    "merged_routes.Name.value_counts().plot(kind='box')"
   ]
  },
  {
   "cell_type": "code",
   "execution_count": null,
   "metadata": {},
   "outputs": [],
   "source": [
    "merged_routes.Name.value_counts().describe()"
   ]
  },
  {
   "cell_type": "code",
   "execution_count": null,
   "metadata": {},
   "outputs": [],
   "source": [
    "merged_routes.Name.value_counts()[merged_routes.Name.value_counts() > 100]"
   ]
  },
  {
   "cell_type": "code",
   "execution_count": null,
   "metadata": {},
   "outputs": [],
   "source": [
    "merged_routes.Country.value_counts().head(20)"
   ]
  },
  {
   "cell_type": "code",
   "execution_count": null,
   "metadata": {},
   "outputs": [],
   "source": []
  },
  {
   "cell_type": "code",
   "execution_count": null,
   "metadata": {},
   "outputs": [],
   "source": [
    "merged_routes.Codeshare.value_counts()"
   ]
  },
  {
   "cell_type": "code",
   "execution_count": null,
   "metadata": {},
   "outputs": [],
   "source": [
    "Low_cost = ['Southwest Airlines', 'Virgin America', 'AirAsia', 'Ryanair','easyJet', 'WestJet', 'Pegasus Airlines', 'Spirit Airlines', 'Mango']"
   ]
  },
  {
   "cell_type": "code",
   "execution_count": null,
   "metadata": {},
   "outputs": [],
   "source": [
    "merged_routes[merged_routes.Name.isin(Low_cost)].Name.value_counts()"
   ]
  },
  {
   "cell_type": "code",
   "execution_count": null,
   "metadata": {},
   "outputs": [],
   "source": [
    "merged_routes.head()"
   ]
  },
  {
   "cell_type": "code",
   "execution_count": null,
   "metadata": {
    "scrolled": false
   },
   "outputs": [],
   "source": [
    "def draw_airline_network(airline):\n",
    "    df = merged_routes[merged_routes['Name'] == airline]\n",
    "    Airline_Graph = nx.from_pandas_edgelist(df, \n",
    "                                      source='SourceAirport', target='DestinationAirport', edge_attr=['Country'])\n",
    "\n",
    "    plt.figure(figsize=(10, 10))\n",
    "    centrality = nx.betweenness_centrality(Airline_Graph)\n",
    "    size = np.array(list(centrality.values()))*1000\n",
    "    nx.draw_spring(Airline_Graph, node_size=size, width=0.1)\n",
    "    plt.title(airline)\n",
    "    plt.show()\n",
    "    e, U = np.linalg.eigh(nx.normalized_laplacian_matrix(Airline_Graph).todense())\n",
    "    plt.plot(e)\n",
    "    plt.show()\n",
    "    plt.plot(nx.laplacian_spectrum(Airline_Graph))\n",
    "    plt.show()\n",
    "    plt.boxplot(nx.degree_centrality(Airline_Graph).values())\n",
    "    plt.show()\n",
    "    "
   ]
  },
  {
   "cell_type": "code",
   "execution_count": null,
   "metadata": {
    "scrolled": false
   },
   "outputs": [],
   "source": [
    "for cheap in Low_cost:\n",
    "    draw_airline_network(cheap)"
   ]
  },
  {
   "cell_type": "code",
   "execution_count": null,
   "metadata": {},
   "outputs": [],
   "source": [
    "Best_Airlines = ['Singapore Airlines', 'Emirates', 'Lufthansa', 'Qatar Airways', 'Cathay Pacific']"
   ]
  },
  {
   "cell_type": "code",
   "execution_count": null,
   "metadata": {
    "scrolled": false
   },
   "outputs": [],
   "source": [
    "for best in Best_Airlines:\n",
    "    draw_airline_network(best)"
   ]
  },
  {
   "cell_type": "code",
   "execution_count": null,
   "metadata": {},
   "outputs": [],
   "source": [
    "Large_Airlines = ['Delta Air Lines', 'Air France', 'China Southern Airlines', 'Turkish Airlines', 'American Airlines']"
   ]
  },
  {
   "cell_type": "code",
   "execution_count": null,
   "metadata": {
    "scrolled": false
   },
   "outputs": [],
   "source": [
    "for best in Large_Airlines:\n",
    "    draw_airline_network(best)"
   ]
  },
  {
   "cell_type": "code",
   "execution_count": null,
   "metadata": {},
   "outputs": [],
   "source": [
    "merged_routes.Name.unique()"
   ]
  },
  {
   "cell_type": "code",
   "execution_count": null,
   "metadata": {},
   "outputs": [],
   "source": [
    "Chinese = ['China Southern Airlines', 'China Eastern Airlines', 'Air China']"
   ]
  },
  {
   "cell_type": "code",
   "execution_count": null,
   "metadata": {
    "scrolled": false
   },
   "outputs": [],
   "source": [
    "for best in Chinese:\n",
    "    draw_airline_network(best)"
   ]
  },
  {
   "cell_type": "markdown",
   "metadata": {},
   "source": [
    "## Adding in external information: for relected airlines - case study"
   ]
  },
  {
   "cell_type": "code",
   "execution_count": null,
   "metadata": {},
   "outputs": [],
   "source": [
    "Delays_data = pd.read_csv('🏬 AIRLINE LIST  ✈️  v0.3    by @levelsio _ CLICK PLANES IN THE PANE BELOW - Delays data (raw).csv')"
   ]
  },
  {
   "cell_type": "code",
   "execution_count": null,
   "metadata": {},
   "outputs": [],
   "source": [
    "Airline_list = pd.read_csv('🏬 AIRLINE LIST  ✈️  v0.3    by @levelsio _ CLICK PLANES IN THE PANE BELOW - 🏬 Airlines.csv')"
   ]
  },
  {
   "cell_type": "code",
   "execution_count": null,
   "metadata": {},
   "outputs": [],
   "source": [
    "set(Airline_list.name.map(lambda x: x.lower())).intersection(set(merged_routes.Name.map(lambda x: x.lower())))"
   ]
  },
  {
   "cell_type": "code",
   "execution_count": null,
   "metadata": {},
   "outputs": [],
   "source": [
    "merged_routes.Name.head()"
   ]
  },
  {
   "cell_type": "code",
   "execution_count": null,
   "metadata": {},
   "outputs": [],
   "source": [
    "set(Delays_data['On-time'].map(lambda x: x.lower())).intersection(set(merged_routes.Name.map(lambda x: x.lower())))"
   ]
  },
  {
   "cell_type": "markdown",
   "metadata": {},
   "source": [
    "# Networks Analysis"
   ]
  },
  {
   "cell_type": "code",
   "execution_count": null,
   "metadata": {},
   "outputs": [],
   "source": [
    "def airlines_network_analysis(airline):\n",
    "    \n",
    "    Airline_Graph = create_airline_network(airline)\n",
    "    \n",
    "    #Highlights hubs   \n",
    "    print(\"10% biggest airports of \", airline)\n",
    "    print()\n",
    "    deg = np.array(list(Airline_Graph.degree))\n",
    "    deg_value = deg[:,1]\n",
    "    deg_value = deg_value.astype(np.float)\n",
    "    plt.hist(deg_value, bins=50, )\n",
    "    perc = np.percentile(deg_value, q=90)\n",
    "    biggest_hubs = np.array(np.where(deg_value > perc))\n",
    "\n",
    "    for i in np.nditer(biggest_hubs):\n",
    "        print(airports[airports.IATA == deg[i,0]].Name.to_string(index=False), \"has degree : \", deg[i,1])\n",
    "    \n",
    "    \n",
    "    #Diameter,robustness\n",
    "    print(\"Anlysis\")\n",
    "    print(\"Number of edges : \", Airline_Graph.number_of_edges())\n",
    "    print(\"Number of nodes\", Airline_Graph.number_of_nodes(), \"nodes\")\n",
    "    print(\"Diameter : \", nx.diameter(Airline_Graph))\n",
    "    print(\"Node connectivity\", nx.node_connectivity(Airline_Graph))\n",
    "    \n",
    "    eb = nx.edge_betweenness_centrality(Airline_Graph)\n",
    "    key, value = max(eb.items(), key = lambda p: p[1])\n",
    "    print(\"Max edge betwenness: \",value , \"from \", airports[airports.IATA == key[0]].Name.to_string(index=False), \"to\", airports[airports.IATA == key[1]].Name.to_string(index=False))\n",
    "    key, value = min(eb.items(), key = lambda p: p[1])\n",
    "    print(\"Min edge betwenness: \",value, \"from\", airports[airports.IATA == key[0]].Name.to_string(index=False), \"to\", airports[airports.IATA == key[1]].Name.to_string(index=False))\n",
    "                                                            \n",
    "    nb = nx.betweenness_centrality(Airline_Graph)\n",
    "    key, value = max(nb.items(), key= lambda p:p[1])\n",
    "    print(\"Max node betwenness: \", value, \"airport\",airports[airports.IATA == key].Name.to_string(index=False))\n",
    "    key, value = min(nb.items(), key= lambda p:p[1])\n",
    "    print(\"Min node betwenness: \", value, \"airport\",airports[airports.IATA == key].Name.to_string(index=False))\n",
    "    print(\"Algbraic connectivity: \", nx.algebraic_connectivity(Airline_Graph))\n",
    "    \n",
    "    #Plot network\n",
    "    draw_airline_network(airline)\n",
    "    "
   ]
  },
  {
   "cell_type": "code",
   "execution_count": null,
   "metadata": {},
   "outputs": [],
   "source": [
    "airlines_network_analysis('Ryanair')"
   ]
  },
  {
   "cell_type": "code",
   "execution_count": null,
   "metadata": {},
   "outputs": [],
   "source": [
    "airlines_network_analysis('Turkish Airlines')"
   ]
  },
  {
   "cell_type": "markdown",
   "metadata": {},
   "source": [
    "## Competition Analysis"
   ]
  },
  {
   "cell_type": "code",
   "execution_count": null,
   "metadata": {},
   "outputs": [],
   "source": [
    "merged_routes['SourceCountry'] = merged_routes.apply(lambda x: \n",
    "                Airport_to_country[x.SourceAirport], axis=1)\n",
    "merged_routes['DestinationCountry'] = merged_routes.apply(lambda x: \n",
    "                Airport_to_country[x.DestinationAirport], axis=1)\n",
    "merged_routes.head(5)"
   ]
  },
  {
   "cell_type": "code",
   "execution_count": null,
   "metadata": {},
   "outputs": [],
   "source": [
    "def overlaps(route_a, route_b):\n",
    "    source_dist = distance(distance_mapping[route_a['SourceAirport']],\n",
    "                           distance_mapping[route_b['SourceAirport']]).km\n",
    "    dest_dist = distance(distance_mapping[route_a['DestinationAirport']],\n",
    "                         distance_mapping[route_b['DestinationAirport']]).km\n",
    "    return source_dist <= 100 and dest_dist <= 100\n",
    "\n",
    "\"\"\"\n",
    "Computed the overlap (competition) score between two airlines.\n",
    "It takes not only nodes into consideration but also the edges.\n",
    "So, if Airline A goes from Bucharest to Zurich and Airline B\n",
    "from Geneva to Zurich, based on this fact only, they are not\n",
    "competitors.\n",
    "\"\"\"\n",
    "def compute_overlap_score(airline_x, airline_y):\n",
    "    routes_x = merged_routes[merged_routes.Name == airline_x]\n",
    "    routes_y = merged_routes[merged_routes.Name == airline_y]\n",
    "    \n",
    "    score = 0\n",
    "    for i, row_x in routes_x.iterrows():\n",
    "        does_overlap = False\n",
    "        joined_routes = routes_y[(routes_y.SourceCountry == row_x['SourceCountry']) &\n",
    "                                 (routes_y.DestinationCountry == row_x['DestinationCountry'])]\n",
    "        for j, row_y in joined_routes.iterrows():\n",
    "            if overlaps(row_x, row_y):\n",
    "                does_overlap = True\n",
    "        if does_overlap:\n",
    "            score += 1\n",
    "    return score / len(routes_x)\n",
    "\n",
    "compute_overlap_score(\"Ryanair\", \"Wizz Air\")"
   ]
  },
  {
   "cell_type": "code",
   "execution_count": null,
   "metadata": {},
   "outputs": [],
   "source": [
    "\"\"\"\n",
    "Computed the overlap (competition) score between given airlines.\n",
    "It takes not only nodes into consideration but also the edges.\n",
    "So, if Airline A goes from Bucharest to Zurich and Airline B\n",
    "from Geneva to Zurich, based on this fact only, they are not\n",
    "competitors.\n",
    "\"\"\"\n",
    "def compute_overlap_scores(airline_list):\n",
    "    scores = []\n",
    "    for airline_a in airline_list:\n",
    "        for airline_b in airline_list:\n",
    "            scores.append([airline_a, airline_b, compute_overlap_score(airline_a, airline_b)])\n",
    "    return pd.DataFrame(scores, columns = ['AirlineA', 'AirlineB', 'Score'])"
   ]
  },
  {
   "cell_type": "code",
   "execution_count": null,
   "metadata": {},
   "outputs": [],
   "source": [
    "overlap_scores = compute_overlap_scores([\"Ryanair\", \"Wizz Air\"])\n",
    "sns.heatmap(overlap_scores.pivot(\"AirlineA\", \"AirlineB\", \"Score\"), cmap=\"YlGnBu\")"
   ]
  },
  {
   "cell_type": "code",
   "execution_count": null,
   "metadata": {},
   "outputs": [],
   "source": [
    "overlap_scores = compute_overlap_scores(Low_cost)\n",
    "sns.heatmap(overlap_scores.pivot(\"AirlineA\", \"AirlineB\", \"Score\"), cmap=\"YlGnBu\")"
   ]
  },
  {
   "cell_type": "code",
   "execution_count": null,
   "metadata": {},
   "outputs": [],
   "source": [
    "overlap_scores = compute_overlap_scores(Best_Airlines)\n",
    "sns.heatmap(overlap_scores.pivot(\"AirlineA\", \"AirlineB\", \"Score\"), cmap=\"YlGnBu\")"
   ]
  },
  {
   "cell_type": "code",
   "execution_count": null,
   "metadata": {},
   "outputs": [],
   "source": [
    "overlap_scores = compute_overlap_scores(Large_Airlines)\n",
    "sns.heatmap(overlap_scores.pivot(\"AirlineA\", \"AirlineB\", \"Score\"), cmap=\"YlGnBu\")"
   ]
  },
  {
   "cell_type": "code",
   "execution_count": null,
   "metadata": {},
   "outputs": [],
   "source": [
    "overlap_scores = compute_overlap_scores(Chinese)\n",
    "sns.heatmap(overlap_scores.pivot(\"AirlineA\", \"AirlineB\", \"Score\"), cmap=\"YlGnBu\")"
   ]
  },
  {
   "cell_type": "code",
   "execution_count": null,
   "metadata": {},
   "outputs": [],
   "source": [
    "overlap_scores = compute_overlap_scores(airlines.Name)\n",
    "sns.heatmap(overlap_scores.pivot(\"AirlineA\", \"AirlineB\", \"Score\"), cmap=\"YlGnBu\")"
   ]
  },
  {
   "cell_type": "code",
   "execution_count": null,
   "metadata": {},
   "outputs": [],
   "source": []
  }
 ],
 "metadata": {
  "kernelspec": {
   "display_name": "Python 3",
   "language": "python",
   "name": "python3"
  },
  "language_info": {
   "codemirror_mode": {
    "name": "ipython",
    "version": 3
   },
   "file_extension": ".py",
   "mimetype": "text/x-python",
   "name": "python",
   "nbconvert_exporter": "python",
   "pygments_lexer": "ipython3",
   "version": "3.7.0"
  }
 },
 "nbformat": 4,
 "nbformat_minor": 2
}
