{
 "cells": [
  {
   "cell_type": "markdown",
   "metadata": {},
   "source": [
    "# [NTDS'18] milestone 2: network models\n",
    "[ntds'18]: https://github.com/mdeff/ntds_2018\n",
    "\n",
    "[Hermina Petric Maretic](https://people.epfl.ch/hermina.petricmaretic), [EPFL LTS4](https://lts4.epfl.ch)"
   ]
  },
  {
   "cell_type": "markdown",
   "metadata": {},
   "source": [
    "## Students\n",
    "\n",
    "* Team: `28`\n",
    "* Students: `Guillain, Léonore Valentine; Pase, Francesco; Rusu, Cosmin-Ionut; Zhuang, Ying`\n",
    "* Dataset: `Flight Routes`"
   ]
  },
  {
   "cell_type": "markdown",
   "metadata": {},
   "source": [
    "## Rules\n",
    "\n",
    "* Milestones have to be completed by teams. No collaboration between teams is allowed.\n",
    "* Textual answers shall be short. Typically one to two sentences.\n",
    "* Code has to be clean.\n",
    "* In the first part, you cannot import any other library than we imported. In the second part, you are allowed to import any library you want.\n",
    "* When submitting, the notebook is executed and the results are stored. I.e., if you open the notebook again it should show numerical results and plots. We won't be able to execute your notebooks.\n",
    "* The notebook is re-executed from a blank state before submission. That is to be sure it is reproducible. You can click \"Kernel\" then \"Restart & Run All\" in Jupyter."
   ]
  },
  {
   "cell_type": "markdown",
   "metadata": {},
   "source": [
    "## Objective\n",
    "\n",
    "The purpose of this milestone is to explore various random network models, analyse their properties and compare them to your network. In the first part of the milestone you will implement two random graph models and try to fit them to your network. In this part you are not allowed to use any additional package. In the second part of the milestone you will choose a third random graph model that you think shares some properties with your network. You will be allowed to use additional packages to construct this network, but you must explain your network choice. Finally, make your code as clean as possible, and keep your textual answers short."
   ]
  },
  {
   "cell_type": "markdown",
   "metadata": {},
   "source": [
    "## Part 0\n",
    "\n",
    "Import the adjacency matrix of your graph that you constructed in milestone 1, as well as the number of nodes and edges of your network."
   ]
  },
  {
   "cell_type": "code",
   "execution_count": 1,
   "metadata": {},
   "outputs": [],
   "source": [
    "import numpy as np\n",
    "import pandas as pd\n",
    "\n",
    "adjacency = np.load('adjacency.npy') # the adjacency matrix\n",
    "n_nodes =  adjacency.shape[0] # the number of nodes in the network\n",
    "n_edges =  np.where(adjacency > 0, 1, 0).sum() / 2 # the number of edges in the network"
   ]
  },
  {
   "cell_type": "markdown",
   "metadata": {},
   "source": [
    "## Part 1\n",
    "\n",
    "**For the computation of this part of the milestone you are only allowed to use the packages that have been imported in the cell below.**"
   ]
  },
  {
   "cell_type": "code",
   "execution_count": 2,
   "metadata": {},
   "outputs": [],
   "source": [
    "%matplotlib inline\n",
    "\n",
    "import random\n",
    "import numpy as np\n",
    "import pandas as pd\n",
    "import matplotlib.pyplot as plt\n",
    "import scipy"
   ]
  },
  {
   "cell_type": "markdown",
   "metadata": {},
   "source": [
    "### Question 1\n",
    "\n",
    "Create a function that constructs an Erdős–Rényi graph."
   ]
  },
  {
   "cell_type": "code",
   "execution_count": 3,
   "metadata": {},
   "outputs": [],
   "source": [
    "def erdos_renyi(n, p, seed = None):\n",
    "    \"\"\"Create an instance from the Erdos-Renyi graph model.\n",
    "    \n",
    "    Parameters\n",
    "    ----------\n",
    "    n: int\n",
    "        Size of the graph.\n",
    "    p: float\n",
    "        Edge probability. A number between 0 and 1.\n",
    "    seed: int (optional)\n",
    "        Seed for the random number generator. To get reproducible results.\n",
    "    \n",
    "    Returns\n",
    "    -------\n",
    "    adjacency\n",
    "        The adjacency matrix of a graph.\n",
    "    \"\"\"\n",
    "    \n",
    "    # Your code here.\n",
    " \n",
    "    \n",
    "    \n",
    "    np.random.seed(seed)\n",
    "    adjacency = np.zeros((n,n))\n",
    "    \n",
    "    for i in range(n):\n",
    "        # add the +1 to avoid selfloops\n",
    "        adjacency[i, i+1:] = np.random.binomial(1, p, n-i-1)\n",
    "        adjacency[i+1:, i] = adjacency[i, i+1:]\n",
    "    \n",
    "    \n",
    "    return adjacency"
   ]
  },
  {
   "cell_type": "code",
   "execution_count": 4,
   "metadata": {},
   "outputs": [
    {
     "data": {
      "text/plain": [
       "Text(0.5,1.05,'Erdos-Renyi (5, 0.6)')"
      ]
     },
     "execution_count": 4,
     "metadata": {},
     "output_type": "execute_result"
    },
    {
     "data": {
      "image/png": "[encoded data removed]",
      "text/plain": [
       "<Figure size 432x288 with 1 Axes>"
      ]
     },
     "metadata": {
      "needs_background": "light"
     },
     "output_type": "display_data"
    }
   ],
   "source": [
    "er = erdos_renyi(5, 0.6, 9765)\n",
    "plt.spy(er)\n",
    "plt.title('Erdos-Renyi (5, 0.6)')"
   ]
  },
  {
   "cell_type": "code",
   "execution_count": 5,
   "metadata": {},
   "outputs": [
    {
     "data": {
      "text/plain": [
       "Text(0.5,1.05,'Erdos-Renyi (10, 0.4)')"
      ]
     },
     "execution_count": 5,
     "metadata": {},
     "output_type": "execute_result"
    },
    {
     "data": {
      "image/png": "[encoded data removed]",
      "text/plain": [
       "<Figure size 432x288 with 1 Axes>"
      ]
     },
     "metadata": {
      "needs_background": "light"
     },
     "output_type": "display_data"
    }
   ],
   "source": [
    "er = erdos_renyi(10, 0.4, 7648)\n",
    "plt.spy(er)\n",
    "plt.title('Erdos-Renyi (10, 0.4)')"
   ]
  },
  {
   "cell_type": "markdown",
   "metadata": {},
   "source": [
    "### Question 2\n",
    "\n",
    "Use the function to create a random Erdos-Renyi graph. Choose the parameters such that number of nodes is the same as in your graph, and the number of edges similar. You don't need to set the random seed. Comment on your choice of parameters."
   ]
  },
  {
   "cell_type": "code",
   "execution_count": 6,
   "metadata": {},
   "outputs": [
    {
     "name": "stdout",
     "output_type": "stream",
     "text": [
      "Connection propabiblity :   0.0036852923458718925\n"
     ]
    }
   ],
   "source": [
    "# calculation of probability\n",
    "p = 2*n_edges/(n_nodes*(n_nodes-1))\n",
    "print('Connection propabiblity :  ', p)"
   ]
  },
  {
   "cell_type": "code",
   "execution_count": 7,
   "metadata": {},
   "outputs": [
    {
     "data": {
      "text/plain": [
       "<matplotlib.image.AxesImage at 0x1253bba58>"
      ]
     },
     "execution_count": 7,
     "metadata": {},
     "output_type": "execute_result"
    },
    {
     "data": {
      "image/png": "[encoded data removed]",
      "text/plain": [
       "<Figure size 432x288 with 1 Axes>"
      ]
     },
     "metadata": {
      "needs_background": "light"
     },
     "output_type": "display_data"
    }
   ],
   "source": [
    "er_graph = erdos_renyi(n_nodes, p)\n",
    "plt.spy(er_graph)"
   ]
  },
  {
   "cell_type": "code",
   "execution_count": 8,
   "metadata": {},
   "outputs": [
    {
     "name": "stdout",
     "output_type": "stream",
     "text": [
      "Edges in Erdos-Renyi graph : 18391.0 \n",
      "Edges in our graph : 18616.0\n"
     ]
    }
   ],
   "source": [
    "print('Edges in Erdos-Renyi graph : {} \\nEdges in our graph : {}'.format(er_graph.sum()/2, n_edges))"
   ]
  },
  {
   "cell_type": "markdown",
   "metadata": {},
   "source": [
    "**Your answer here.**\n",
    "\n",
    "The number of links in a Erdos-Renyi graph will be $L=p* N(N-1)/2$ for a given $p$, hence we choose $p = 2*L/(N*(N-1))$. We see that the resulting number of edges is indeed similar to the one in our network."
   ]
  },
  {
   "cell_type": "markdown",
   "metadata": {},
   "source": [
    "### Question 3\n",
    "\n",
    "Create a function that constructs a Barabási-Albert graph."
   ]
  },
  {
   "cell_type": "code",
   "execution_count": 9,
   "metadata": {},
   "outputs": [],
   "source": [
    "def barabasi_albert(n, m, seed=None, m_0 = None):\n",
    "    \"\"\"Create an instance from the Barabasi-Albert graph model.\n",
    "    \n",
    "    Parameters\n",
    "    ----------\n",
    "    n: int\n",
    "        Size of the graph.\n",
    "    m: int\n",
    "        Number of edges to attach from a new node to existing nodes.\n",
    "    seed: int (optional)\n",
    "        Seed for the random number generator. To get reproducible results.\n",
    "    m_0: int (optinal)\n",
    "        The number of nodes in the initial connected component\n",
    "    \n",
    "    Returns\n",
    "    -------\n",
    "    adjacency\n",
    "        The adjacency matrix of a graph.\n",
    "    \"\"\"\n",
    "    \n",
    "    np.random.seed(seed)\n",
    "    \n",
    "    #to ensure scale free network property\n",
    "    m_0 = max(m, 2)\n",
    "\n",
    "    # Initial connected network\n",
    "    adjacency = np.zeros((n,n))\n",
    "\n",
    "    \n",
    "    #Generating random subgraph of size m_0 x m_0\n",
    "    adjacency[:m_0, :m_0] = erdos_renyi(m_0, 1./m_0 , seed)\n",
    "\n",
    "    #Force Connectivity\n",
    "    for i in range(m_0-1):\n",
    "        adjacency[i, i+1] = 1;\n",
    "        adjacency[i+1, i] = 1;\n",
    "    \n",
    "    \n",
    "    #iterate:\n",
    "    for i in range(m_0, n):\n",
    "        degrees = adjacency[:i].sum(axis = 1)\n",
    "        total = degrees.sum()\n",
    "        \n",
    "        new_links = np.random.choice(i, size=m, replace=False, p = degrees / total)\n",
    "        adjacency[i, new_links] = 1.\n",
    "        adjacency[new_links, i] = 1.\n",
    "    \n",
    "    return adjacency"
   ]
  },
  {
   "cell_type": "code",
   "execution_count": 10,
   "metadata": {},
   "outputs": [
    {
     "data": {
      "text/plain": [
       "Text(0.5,1.05,'Barabasi-Albert (5, 1)')"
      ]
     },
     "execution_count": 10,
     "metadata": {},
     "output_type": "execute_result"
    },
    {
     "data": {
      "image/png": "[encoded data removed]",
      "text/plain": [
       "<Figure size 432x288 with 1 Axes>"
      ]
     },
     "metadata": {
      "needs_background": "light"
     },
     "output_type": "display_data"
    }
   ],
   "source": [
    "ba = barabasi_albert(5, 1, 908)\n",
    "plt.spy(ba)\n",
    "plt.title('Barabasi-Albert (5, 1)')"
   ]
  },
  {
   "cell_type": "code",
   "execution_count": 11,
   "metadata": {},
   "outputs": [
    {
     "data": {
      "text/plain": [
       "Text(0.5,1.05,'Barabasi-Albert (10, 2)')"
      ]
     },
     "execution_count": 11,
     "metadata": {},
     "output_type": "execute_result"
    },
    {
     "data": {
      "image/png": "[encoded data removed]",
      "text/plain": [
       "<Figure size 432x288 with 1 Axes>"
      ]
     },
     "metadata": {
      "needs_background": "light"
     },
     "output_type": "display_data"
    }
   ],
   "source": [
    "ba = barabasi_albert(10, 2, 8708)\n",
    "plt.spy(ba)\n",
    "plt.title('Barabasi-Albert (10, 2)')"
   ]
  },
  {
   "cell_type": "markdown",
   "metadata": {},
   "source": [
    "### Question 4\n",
    "\n",
    "Use the function to create a random Barabási-Albert graph. Choose the parameters such that number of nodes is the same as in your graph, and the number of edges similar. You don't need to set the random seed. Comment on your choice of parameters."
   ]
  },
  {
   "cell_type": "code",
   "execution_count": 12,
   "metadata": {},
   "outputs": [
    {
     "name": "stdout",
     "output_type": "stream",
     "text": [
      "The average degree of our graph is:  11.711859075180875\n"
     ]
    }
   ],
   "source": [
    "avg_degree = np.where(adjacency > 0, 1, 0).sum(axis = 1).mean()\n",
    "print('The average degree of our graph is: ', avg_degree)"
   ]
  },
  {
   "cell_type": "code",
   "execution_count": 13,
   "metadata": {},
   "outputs": [
    {
     "data": {
      "text/plain": [
       "<matplotlib.image.AxesImage at 0x12b69c908>"
      ]
     },
     "execution_count": 13,
     "metadata": {},
     "output_type": "execute_result"
    },
    {
     "data": {
      "image/png": "[encoded data removed]",
      "text/plain": [
       "<Figure size 432x288 with 1 Axes>"
      ]
     },
     "metadata": {
      "needs_background": "light"
     },
     "output_type": "display_data"
    }
   ],
   "source": [
    "# Your code here.\n",
    "ba_graph = barabasi_albert(n_nodes, 6)\n",
    "plt.spy(ba_graph)"
   ]
  },
  {
   "cell_type": "code",
   "execution_count": 14,
   "metadata": {},
   "outputs": [
    {
     "name": "stdout",
     "output_type": "stream",
     "text": [
      "Number of edges in Barabási-Albert graph: 19043.0\n",
      "Number of edges in our graph: 18616.0\n"
     ]
    }
   ],
   "source": [
    "print(\"Number of edges in Barabási-Albert graph: {}\\nNumber of edges in our graph: {}\"\n",
    "      .format( ba_graph.sum()/2, n_edges))"
   ]
  },
  {
   "cell_type": "markdown",
   "metadata": {},
   "source": [
    "**Your answer here**\n",
    "\n",
    "We calcuate $m$ so that the random Barabási-Albert graph we create has a similar number of edges as our network. The algorithm will create approximately $mt + m_0$ links, with $t= n-m_0$.\n",
    "We obtain $L= m*n-m*m_0+m_0$, as the $m_0 = m$ in our implementation, we get that 6 is the closest integer to give the desired results.\n",
    "\n"
   ]
  },
  {
   "cell_type": "markdown",
   "metadata": {},
   "source": [
    "### Question 5\n",
    "\n",
    "Compare the number of edges in all three networks (your real network, the Erdős–Rényi network, and the Barabási-Albert netowk)."
   ]
  },
  {
   "cell_type": "code",
   "execution_count": 15,
   "metadata": {},
   "outputs": [
    {
     "name": "stdout",
     "output_type": "stream",
     "text": [
      "Number of edges in the real network: 18616.0\n",
      "Number of edges in the Erdős–Rényi network: 18391.0\n",
      "Number of edges in the Barabási-Albert network: 19043.0\n"
     ]
    },
    {
     "data": {
      "image/png": "[encoded data removed]",
      "text/plain": [
       "<Figure size 432x288 with 1 Axes>"
      ]
     },
     "metadata": {
      "needs_background": "light"
     },
     "output_type": "display_data"
    }
   ],
   "source": [
    "# Your code here.\n",
    "print(f\"Number of edges in the real network: {n_edges}\")\n",
    "print(f\"Number of edges in the Erdős–Rényi network: {er_graph.sum() / 2}\")\n",
    "print(f\"Number of edges in the Barabási-Albert network: {ba_graph.sum() / 2}\")\n",
    "\n",
    "plt.title('Number of edges in comparison')\n",
    "plt.ylabel('Nbr of edges')\n",
    "_ = plt.bar(['Our Network', 'Erdős–Rényi', 'Barabási-Albert'], [n_edges, er_graph.sum() / 2, ba_graph.sum() / 2])"
   ]
  },
  {
   "cell_type": "markdown",
   "metadata": {},
   "source": [
    "### Question 6\n",
    "\n",
    "Implement a function that computes the [Kullback–Leibler (KL) divergence](https://en.wikipedia.org/wiki/Kullback%E2%80%93Leibler_divergence) between two probability distributions.\n",
    "We'll use it to compare the degree distributions of networks."
   ]
  },
  {
   "cell_type": "code",
   "execution_count": 16,
   "metadata": {},
   "outputs": [],
   "source": [
    "def kl_divergence(p, q):\n",
    "    \"\"\"Compute the KL divergence between probability distributions of degrees of two networks.\n",
    "    \n",
    "    Parameters\n",
    "    ----------\n",
    "    p: np.array\n",
    "        Probability distribution of degrees of the 1st graph.\n",
    "    q: np.array\n",
    "        Probability distribution of degrees of the 2nd graph.\n",
    "    \n",
    "    Returns\n",
    "    -------\n",
    "    kl\n",
    "        The KL divergence between the two distributions.\n",
    "    \"\"\"\n",
    "    \n",
    "    assert p.shape == q.shape\n",
    "    #check that we have the same support\n",
    "    np.testing.assert_array_equal(np.where(p>0), np.where(q>0), err_msg='The two distributions have different supports')\n",
    "    \n",
    "    kl = 0\n",
    "    for x, p_x in enumerate(p):\n",
    "        kl += p_x*np.log(p_x/q[x])\n",
    "    \n",
    "    return kl"
   ]
  },
  {
   "cell_type": "code",
   "execution_count": 17,
   "metadata": {},
   "outputs": [
    {
     "data": {
      "text/plain": [
       "0.09151622184943575"
      ]
     },
     "execution_count": 17,
     "metadata": {},
     "output_type": "execute_result"
    }
   ],
   "source": [
    "p_test = np.array([0.2, 0.2, 0.2, 0.4])\n",
    "q_test = np.array([0.3, 0.3, 0.1, 0.3])\n",
    "\n",
    "kl_divergence(p_test, q_test)"
   ]
  },
  {
   "cell_type": "markdown",
   "metadata": {},
   "source": [
    "### Question 7\n",
    "\n",
    "Compare the degree distribution of your network to each of the two synthetic ones, in terms of KL divergence. **Hint:** Make sure you normalise your degree distributions to make them valid probability distributions."
   ]
  },
  {
   "cell_type": "code",
   "execution_count": 18,
   "metadata": {},
   "outputs": [],
   "source": [
    "# Your code here.\n",
    "def get_degree_distribution(adjacency):\n",
    "    degrees = adjacency.sum(axis = 1)\n",
    "    #Use histogram with number of bins = degree range to get distribution\n",
    "    degree_network = np.histogram(degrees, bins=int((degrees.max()+1)-degrees.min()))\n",
    "    return degree_network[0], degrees\n",
    "    \n",
    "#calculate degree distrubution for each graph\n",
    "degree_network, degrees = get_degree_distribution(np.where(adjacency > 0, 1, 0))\n",
    "degree_er_network, degrees_er = get_degree_distribution(er_graph)\n",
    "degree_ba_network, degrees_ba = get_degree_distribution(ba_graph)\n",
    "\n",
    "deg= np.array([degrees, degrees_er, degrees_ba])\n",
    "min_s = deg.min(axis=1)\n",
    "max_s = deg.max(axis=1)\n",
    "degree_networks_ = [degree_network, degree_er_network, degree_ba_network]"
   ]
  },
  {
   "cell_type": "code",
   "execution_count": 19,
   "metadata": {},
   "outputs": [],
   "source": [
    "#pad arrays to have same length\n",
    "def pad_distribution(degree_network, degrees ,min_s,max_s):\n",
    "    mi = degrees.min()\n",
    "    ma = degrees.max()\n",
    "    before_pad = int(mi - min(min_s))\n",
    "    after_pad = int( max(max_s) - ma)\n",
    "    return np.pad(degree_network, pad_width=(before_pad, after_pad), mode='constant', constant_values = 0)\n",
    "    \n",
    "for i, d in enumerate(deg):\n",
    "    degree_networks_[i] = pad_distribution(degree_networks_[i], d, min_s, max_s)"
   ]
  },
  {
   "cell_type": "code",
   "execution_count": 20,
   "metadata": {},
   "outputs": [],
   "source": [
    "def running_mean(x, N):\n",
    "    cumsum = np.cumsum(np.insert(x, 0, 0)) \n",
    "    return (cumsum[N:] - cumsum[:-N]) / float(N)\n",
    "\n",
    "#normalize\n",
    "tmp = []\n",
    "\n",
    "for n in degree_networks_:\n",
    "    \n",
    "    #to avoid issues with log at zero, affects accuracy only in order of 1e-3\n",
    "    n += 1\n",
    "    \n",
    "    #alternative smoothing, we still would have issues with zero\n",
    "    #we find moving average to be sufficient\n",
    "    #alternative smoothing, we still would have issues with zero\n",
    "    #scp = scipy.interpolate.UnivariateSpline(range(min(min_s), max(max_s)+1), n)\n",
    "    #n = scp(range(min(min_s), max(max_s)+1))\n",
    "    \n",
    "    #do moving average to smooth function slightly\n",
    "    N = n.shape[0]\n",
    "    n = running_mean(n, 3)\n",
    "    n = n/ n.sum()\n",
    "    tmp.append(n)\n",
    "    \n",
    "degree_networks = tmp"
   ]
  },
  {
   "cell_type": "code",
   "execution_count": 22,
   "metadata": {},
   "outputs": [
    {
     "name": "stdout",
     "output_type": "stream",
     "text": [
      "KL Divergence between the original network and the Erdős–Rényi network: 2.174822955860856\n",
      "KL Divergence between the original network and the Barabási-Albert network: 2.721769565699549\n"
     ]
    }
   ],
   "source": [
    "print(f\"KL Divergence between the original network and the Erdős–Rényi network: {kl_divergence(degree_networks[0], degree_networks[1])}\")\n",
    "print(f\"KL Divergence between the original network and the Barabási-Albert network: {kl_divergence(degree_networks[0], degree_networks[2])}\")"
   ]
  },
  {
   "cell_type": "code",
   "execution_count": 23,
   "metadata": {},
   "outputs": [],
   "source": [
    "#If we look only at degrees >= 5\n",
    "tmp = []\n",
    "\n",
    "for n in degree_networks_:\n",
    "    n = n[5:]\n",
    "    n = n/ n.sum()\n",
    "    tmp.append(n)\n",
    "    \n",
    "degree_networks_2 = tmp"
   ]
  },
  {
   "cell_type": "code",
   "execution_count": 24,
   "metadata": {},
   "outputs": [
    {
     "name": "stdout",
     "output_type": "stream",
     "text": [
      "KL Divergence between the original network and the Erdős–Rényi network:     1.0046964691602944\n",
      "KL Divergence between the original network and the Barabási-Albert network:     0.4921467184192855\n"
     ]
    }
   ],
   "source": [
    "print(f\"KL Divergence between the original network and the Erdős–Rényi network: \\\n",
    "    {kl_divergence(degree_networks_2[0], degree_networks_2[1])}\")\n",
    "print(f\"KL Divergence between the original network and the Barabási-Albert network: \\\n",
    "    {kl_divergence(degree_networks_2[0], degree_networks_2[2])}\")"
   ]
  },
  {
   "cell_type": "markdown",
   "metadata": {},
   "source": [
    "### Question 8\n",
    "\n",
    "Plot the degree distribution historgrams for all three networks. Are they consistent with the KL divergence results? Explain."
   ]
  },
  {
   "cell_type": "code",
   "execution_count": 25,
   "metadata": {},
   "outputs": [],
   "source": [
    "def custom_scatter_histogram(degree_dist, title='Degree distribution of our network', alpha=1):\n",
    "    if title:\n",
    "        plt.title(title)\n",
    "    plt.scatter(range(len(degree_dist)), degree_dist, alpha=alpha)\n",
    "    plt.yscale(\"log\", nonposy='clip')\n",
    "    plt.xlabel('degree')\n",
    "    plt.ylabel('frequency')"
   ]
  },
  {
   "cell_type": "code",
   "execution_count": 26,
   "metadata": {},
   "outputs": [
    {
     "data": {
      "image/png": "[encoded data removed]",
      "text/plain": [
       "<Figure size 720x432 with 3 Axes>"
      ]
     },
     "metadata": {
      "needs_background": "light"
     },
     "output_type": "display_data"
    }
   ],
   "source": [
    "# Your code here.\n",
    "plt.figure(figsize=(10, 6))\n",
    "plt.suptitle('Degree distribution of our network ')\n",
    "\n",
    "plt.subplot(132)\n",
    "custom_scatter_histogram(degree_networks_[0])\n",
    "plt.title('Log scatter histogram')\n",
    "\n",
    "plt.subplot(131)\n",
    "plt.title('Conventional log histogram')\n",
    "plt.hist(np.where(adjacency > 0, 1, 0).sum(axis=1), log=True)\n",
    "plt.xlabel('degree')\n",
    "plt.ylabel('frequency')\n",
    "\n",
    "plt.subplot(133)\n",
    "plt.title('Normalized degree distribution')\n",
    "plt.plot(degree_networks[0])\n",
    "plt.xlabel('degree')\n",
    "plt.ylabel('estimated probability')\n",
    "\n",
    "plt.show()"
   ]
  },
  {
   "cell_type": "code",
   "execution_count": 27,
   "metadata": {},
   "outputs": [
    {
     "data": {
      "image/png": "[encoded data removed]",
      "text/plain": [
       "<Figure size 720x432 with 3 Axes>"
      ]
     },
     "metadata": {
      "needs_background": "light"
     },
     "output_type": "display_data"
    }
   ],
   "source": [
    "# Your code here.\n",
    "plt.figure(figsize=(10, 6))\n",
    "plt.suptitle('Degree distribution ofErdős–Rényi network')\n",
    "\n",
    "plt.subplot(132)\n",
    "custom_scatter_histogram(degree_networks_[1])\n",
    "plt.title('Log scatter histogram')\n",
    "\n",
    "plt.subplot(131)\n",
    "plt.title('Conventional log histogram')\n",
    "plt.hist(er_graph.sum(axis=1), log=True)\n",
    "plt.xlabel('degree')\n",
    "plt.ylabel('frequency')\n",
    "\n",
    "plt.subplot(133)\n",
    "plt.title('Normalized degree distribution')\n",
    "plt.plot(degree_networks[1])\n",
    "plt.xlabel('degree')\n",
    "plt.ylabel('estimated probability')\n",
    "\n",
    "plt.show()"
   ]
  },
  {
   "cell_type": "code",
   "execution_count": 28,
   "metadata": {},
   "outputs": [
    {
     "data": {
      "image/png": "[encoded data removed]",
      "text/plain": [
       "<Figure size 720x432 with 3 Axes>"
      ]
     },
     "metadata": {
      "needs_background": "light"
     },
     "output_type": "display_data"
    }
   ],
   "source": [
    "plt.figure(figsize=(10, 6))\n",
    "plt.suptitle('Degree distribution of Barabási-Albert network')\n",
    "\n",
    "plt.subplot(132)\n",
    "custom_scatter_histogram(degree_networks_[2])\n",
    "plt.title('Log scatter histogram')\n",
    "\n",
    "plt.subplot(131)\n",
    "plt.title('Conventional log histogram')\n",
    "plt.hist(ba_graph.sum(axis=1), log=True)\n",
    "plt.xlabel('degree')\n",
    "plt.ylabel('frequency')\n",
    "\n",
    "plt.subplot(133)\n",
    "plt.title('Normalized degree distribution')\n",
    "plt.plot(degree_networks[2])\n",
    "plt.xlabel('degree')\n",
    "plt.ylabel('estimated probability')\n",
    "\n",
    "plt.show()"
   ]
  },
  {
   "cell_type": "code",
   "execution_count": 29,
   "metadata": {},
   "outputs": [
    {
     "data": {
      "text/plain": [
       "<matplotlib.legend.Legend at 0x1319f0e80>"
      ]
     },
     "execution_count": 29,
     "metadata": {},
     "output_type": "execute_result"
    },
    {
     "data": {
      "image/png": "[encoded data removed]",
      "text/plain": [
       "<Figure size 432x288 with 1 Axes>"
      ]
     },
     "metadata": {
      "needs_background": "light"
     },
     "output_type": "display_data"
    }
   ],
   "source": [
    "plt.title('normalized degree distributions')\n",
    "for i in degree_networks:\n",
    "    plt.plot(i)\n",
    "    \n",
    "plt.legend(['Our network', ' Erdős–Rényi', 'Barabási-Albert'])"
   ]
  },
  {
   "cell_type": "code",
   "execution_count": 30,
   "metadata": {},
   "outputs": [
    {
     "data": {
      "image/png": "[encoded data removed]",
      "text/plain": [
       "<Figure size 432x288 with 1 Axes>"
      ]
     },
     "metadata": {
      "needs_background": "light"
     },
     "output_type": "display_data"
    }
   ],
   "source": [
    "# Your code here.\n",
    "plt.title('Comparing (non normalized) degree distribution histogram')\n",
    "plt.xlabel('Degree')\n",
    "plt.ylabel('Nbr of Occurences')\n",
    "plt.hist(np.where(adjacency > 0, 1, 0).sum(axis=1)/np.where(adjacency > 0, 1, 0).sum(), alpha=0.4, bins=100)\n",
    "plt.hist(er_graph.sum(axis=1), alpha=0.4, log=True)\n",
    "plt.hist(ba_graph.sum(axis=1), alpha=0.4, bins=100)\n",
    "plt.legend(['Our network', 'Erdős–Rényi', 'Barabási-Albert'])\n",
    "plt.show()"
   ]
  },
  {
   "cell_type": "code",
   "execution_count": 31,
   "metadata": {},
   "outputs": [
    {
     "data": {
      "image/png": "[encoded data removed]",
      "text/plain": [
       "<Figure size 432x288 with 1 Axes>"
      ]
     },
     "metadata": {
      "needs_background": "light"
     },
     "output_type": "display_data"
    }
   ],
   "source": [
    "plt.title('Comparing (non normalized) degree distribution histogram')\n",
    "plt.xlabel('Degree')\n",
    "plt.ylabel('Nbr of Occurences')\n",
    "for i in degree_networks_:\n",
    "    custom_scatter_histogram(i, alpha=0.6, title='Plots in comparison')\n",
    "    \n",
    "    \n",
    "plt.legend(['Our network', ' Erdős–Rényi', 'Barabási-Albert'])\n",
    "plt.show()"
   ]
  },
  {
   "cell_type": "markdown",
   "metadata": {},
   "source": [
    "**Your answer here.**\n",
    "\n",
    "We can clearly see that the overall shape of the Barabási-Albert degree distribution is more similar to our model than the Erdős–Rényi degree distribution. The KL-values over the whole distribution do not reflect this. \n",
    "By removing the first 5 values, we see that the KL for this now reflect that Barabási-Albert model is indeed more similar to our model. The offset in small degree values (no nodes of degree <m ) in Barabási-Albert model causes this discrepancy.\n"
   ]
  },
  {
   "cell_type": "markdown",
   "metadata": {},
   "source": [
    "### Question 9\n",
    "\n",
    "Imagine you got equal degree distributions. Would that guarantee you got the same graph? Explain."
   ]
  },
  {
   "cell_type": "markdown",
   "metadata": {},
   "source": [
    "If we have the same degree distrubtion, this does not mean that we have the same graph. \n",
    "\n",
    "If two graphs have same degree sequence, that does not mean that the graphs are isomorphic, hence they may not be the same. \n",
    "\n",
    "To prove this, consider the following counter example: \n",
    "These two have the same degree distribution but are not isomorphic : {1: 2, 2: 3}\n",
    "\n",
    "```\n",
    "* 1 -- 2 -- 3 -- 4 -- 5\n",
    "* 1 -- 2   3 -- 4\n",
    "             \\ /\n",
    "              5\n",
    "```"
   ]
  },
  {
   "cell_type": "markdown",
   "metadata": {},
   "source": [
    "## Part 2\n",
    "\n",
    "**You are allowed to use any additional library here (e.g., NetworkX, PyGSP, etc.).** Be careful not to include something here and use it in part 1!"
   ]
  },
  {
   "cell_type": "code",
   "execution_count": 32,
   "metadata": {},
   "outputs": [],
   "source": [
    "import networkx as nx"
   ]
  },
  {
   "cell_type": "markdown",
   "metadata": {},
   "source": [
    "### Question 10\n",
    "\n",
    "Choose a random network model that fits you network well. Explain your choice. \n",
    "\n",
    "**Hint:** Check lecture notes for different network models and their properties. Your choice should be made based on at least one property you'd expect to be similar."
   ]
  },
  {
   "cell_type": "markdown",
   "metadata": {},
   "source": [
    "From the previous extercises we see that our network follows a power law distribution. As we saw in class such distributions emerge whenever both growth and preferential attachment come into play. \n",
    "Moreover, not only do these comonents give raise mathematically to the desired distribution, but they also model the behaviour that gave rise to the real network.\n",
    "\n",
    "Very popular airports represent economical and social hubs in our society. As a consequence, they are more likely to get new links (addition of a new direct flight) whenever new companies and/or airports join the network. We chose then to reproduce a network with a similar degree distribution shape, maintaining the same number of nodes and similar number of edges."
   ]
  },
  {
   "cell_type": "markdown",
   "metadata": {},
   "source": [
    "### Question 11\n",
    "\n",
    "Explain (in short) how the chosen model works."
   ]
  },
  {
   "cell_type": "markdown",
   "metadata": {},
   "source": [
    "**Answer**\n",
    "\n",
    "As we can see above, the Barabasi Albert model with similar number of edges as our network has smaller hubs than ours. In the above Barabasi Albert model, preferential attchment ($\\alpha$) is equal to $1$, meaning that the probability for a new node to create a link with older nodes is linear in the node degree. \n",
    "\n",
    "The occurene of larger hubs in our network indicates that we need a model that can generate networks with super linear preferential attachment.\n",
    "In order to come up with such model we decided to slightly modify the Barabasi-Albert algorithm. Another consideration refers to low degree nodes: in order to get more low degree nodes (as we have in our network) our model starts with high value for $m_0$ (initial poorly connected nodes).\n",
    "\n",
    "The algorithm is fairly simple:\n",
    "\n",
    "1. Create a single connected component of $m_0$ nodes.\n",
    "2. For every new node (until we reached the number of nodes we want):\n",
    "    1. Create links to ($m <<= m_0$) already existing nodes with probabilities proportional to the degree of the existing node elevated at some esponent $\\alpha$, i.e.\n",
    "    $$p_i = \\frac{degree_i^{\\alpha}}{\\sum_{j \\in S}{degree_j^{\\alpha}}} \\text{ where } S \\text{ is the set of existing nodes} $$\n"
   ]
  },
  {
   "cell_type": "markdown",
   "metadata": {},
   "source": [
    "### Question 12\n",
    "\n",
    "Create a random graph from that model, such that the number of nodes is the same as in your graph."
   ]
  },
  {
   "cell_type": "code",
   "execution_count": 46,
   "metadata": {},
   "outputs": [],
   "source": [
    "def preferential_attachment(n, m, seed=None, m_0 = None, alpha = 1):\n",
    "    \"\"\"Create an instance from the Barabasi-Albert graph model.\n",
    "    \n",
    "    Parameters\n",
    "    ----------\n",
    "    n: int\n",
    "        Size of the graph.\n",
    "    m: int\n",
    "        Number of edges to attach from a new node to existing nodes.\n",
    "    seed: int (optional)\n",
    "        Seed for the random number generator. To get reproducible results.\n",
    "    m_0: int (optinal)\n",
    "        The number of nodes in the initial connected component\n",
    "    \n",
    "    Returns\n",
    "    -------\n",
    "    adjacency\n",
    "        The adjacency matrix of a graph.\n",
    "    \"\"\"\n",
    "    \n",
    "    np.random.seed(seed)\n",
    "    # Initial connected network\n",
    "    adjacency = np.zeros((n,n))\n",
    "    \n",
    "\n",
    "    \n",
    "    adjacency[:m_0, :m_0] = erdos_renyi(m_0, 1./(10*m_0) , seed)\n",
    "    #Should it also be connected ??\n",
    "    for i in range(m_0-1):\n",
    "        adjacency[i, i+1] = 1;\n",
    "        adjacency[i+1, i] = 1;\n",
    "    #iterate:\n",
    "    for i in range(m_0, n):\n",
    "        degrees = adjacency[:i].sum(axis = 1)\n",
    "        total = (degrees**alpha).sum()\n",
    "        \n",
    "        new_links = np.random.choice(i, size=m, replace=False, p = degrees**alpha / total)\n",
    "        adjacency[i, new_links] = 1.\n",
    "        adjacency[new_links, i] = 1.\n",
    "    \n",
    "    return adjacency"
   ]
  },
  {
   "cell_type": "code",
   "execution_count": 47,
   "metadata": {},
   "outputs": [],
   "source": [
    "# These values were heuristically to tuned to obtain a fair representation of our netowrk\n",
    "preferential = preferential_attachment(n_nodes, m=7, m_0 = 500, alpha = 1.32)"
   ]
  },
  {
   "cell_type": "code",
   "execution_count": 35,
   "metadata": {},
   "outputs": [
    {
     "name": "stdout",
     "output_type": "stream",
     "text": [
      "Our network number of nodes: 3179 \n",
      "Edges: 18616.0\n",
      "New random network number of nodes: 3179 \n",
      "Edges: 19043.0\n"
     ]
    }
   ],
   "source": [
    "print(f\"Our network number of nodes: {n_nodes} \\nEdges: {n_edges}\")\n",
    "print(f\"New random network number of nodes: {ba_graph.shape[0]} \\nEdges: {ba_graph.sum() / 2}\")"
   ]
  },
  {
   "cell_type": "markdown",
   "metadata": {},
   "source": [
    "\n",
    "### Question 13\n",
    "\n",
    "Check the properties you expected to be similar, and compare to your network."
   ]
  },
  {
   "cell_type": "code",
   "execution_count": 50,
   "metadata": {
    "scrolled": false
   },
   "outputs": [
    {
     "data": {
      "image/png": "[encoded data removed]",
      "text/plain": [
       "<Figure size 432x288 with 1 Axes>"
      ]
     },
     "metadata": {
      "needs_background": "light"
     },
     "output_type": "display_data"
    }
   ],
   "source": [
    "# Your code here.\n",
    "one_adjacency = np.where(adjacency > 0, 1, 0)\n",
    "x = one_adjacency.sum(axis = 1)\n",
    "degree_pref_network = preferential.sum(axis = 1)\n",
    "\n",
    "\n",
    "plt.title('Degree distribution for our random network: superlinear attachment')\n",
    "plt.hist(degree_pref_network, bins = 237, alpha=0.4, log = True)\n",
    "plt.hist(x, bins = 237, alpha=0.4, log = True)\n",
    "plt.xlabel('Degree')\n",
    "plt.ylabel('Counts')\n",
    "plt.show()"
   ]
  },
  {
   "cell_type": "code",
   "execution_count": 58,
   "metadata": {},
   "outputs": [],
   "source": [
    "#Manipulating the distributions to compute KL Divergence and compare the networks\n",
    "degrees_pref_network, degrees_pref = get_degree_distribution(preferential)\n",
    "degree_network, degrees = get_degree_distribution(one_adjacency)"
   ]
  },
  {
   "cell_type": "code",
   "execution_count": 65,
   "metadata": {},
   "outputs": [
    {
     "data": {
      "text/plain": [
       "209"
      ]
     },
     "execution_count": 65,
     "metadata": {},
     "output_type": "execute_result"
    }
   ],
   "source": [
    "int((degree_pref_network.max()+1)-degree_pref_network.min())"
   ]
  },
  {
   "cell_type": "code",
   "execution_count": 67,
   "metadata": {},
   "outputs": [],
   "source": [
    "m, _ = get_degree_distribution(preferential)"
   ]
  },
  {
   "cell_type": "code",
   "execution_count": 70,
   "metadata": {},
   "outputs": [
    {
     "name": "stdout",
     "output_type": "stream",
     "text": [
      "[ 41  53  46  46  38 792 492 330 249 186 126 107  92  66  54  43  33  41\n",
      "  31  33  23  24  18  14  22  10   9  12  11   6   7   8   7   6   3   5\n",
      "   7   2   3   3   3   7   4   2   0   2   1   4   0   1   1   0   2   2\n",
      "   4   2   2   2   0   1   2   2   0   2   3   3   0   1   0   1   1   0\n",
      "   1   0   0   2   2   1   0   1   1   0   0   0   0   0   1   0   0   1\n",
      "   0   0   0   0   1   1   0   1   1   0   0   0   0   2   1   0   0   0\n",
      "   0   0   1   0   1   0   0   0   1   0   0   0   0   0   0   0   0   0\n",
      "   0   0   0   1   0   1   0   0   0   0   0   0   0   0   0   0   1   0\n",
      "   0   0   0   0   0   0   0   0   0   0   0   0   0   0   0   0   0   0\n",
      "   0   0   0   0   1   0   0   0   0   0   0   0   0   0   0   0   0   0\n",
      "   0   0   0   0   0   0   0   0   0   0   0   0   0   0   0   0   0   0\n",
      "   0   0   0   0   0   0   0   0   0   0   1]\n"
     ]
    },
    {
     "data": {
      "image/png": "[encoded data removed]",
      "text/plain": [
       "<Figure size 432x288 with 1 Axes>"
      ]
     },
     "metadata": {
      "needs_background": "light"
     },
     "output_type": "display_data"
    }
   ],
   "source": [
    "plt.figure()\n",
    "custom_scatter_histogram(m)"
   ]
  },
  {
   "cell_type": "code",
   "execution_count": 64,
   "metadata": {},
   "outputs": [
    {
     "data": {
      "text/plain": [
       "(array([1.400e+02, 8.400e+01, 1.284e+03, 5.790e+02, 3.120e+02, 1.990e+02,\n",
       "        1.200e+02, 7.600e+01, 7.200e+01, 5.600e+01, 4.200e+01, 3.600e+01,\n",
       "        3.100e+01, 1.700e+01, 1.500e+01, 1.300e+01, 8.000e+00, 9.000e+00,\n",
       "        6.000e+00, 1.000e+01, 6.000e+00, 2.000e+00, 5.000e+00, 1.000e+00,\n",
       "        1.000e+00, 8.000e+00, 4.000e+00, 2.000e+00, 3.000e+00, 2.000e+00,\n",
       "        5.000e+00, 3.000e+00, 1.000e+00, 2.000e+00, 1.000e+00, 0.000e+00,\n",
       "        4.000e+00, 2.000e+00, 1.000e+00, 0.000e+00, 0.000e+00, 1.000e+00,\n",
       "        1.000e+00, 0.000e+00, 0.000e+00, 2.000e+00, 1.000e+00, 1.000e+00,\n",
       "        0.000e+00, 2.000e+00, 1.000e+00, 0.000e+00, 1.000e+00, 1.000e+00,\n",
       "        0.000e+00, 1.000e+00, 0.000e+00, 0.000e+00, 0.000e+00, 0.000e+00,\n",
       "        0.000e+00, 0.000e+00, 2.000e+00, 0.000e+00, 0.000e+00, 0.000e+00,\n",
       "        0.000e+00, 0.000e+00, 1.000e+00, 0.000e+00, 0.000e+00, 0.000e+00,\n",
       "        0.000e+00, 0.000e+00, 0.000e+00, 0.000e+00, 0.000e+00, 0.000e+00,\n",
       "        0.000e+00, 1.000e+00, 0.000e+00, 0.000e+00, 0.000e+00, 0.000e+00,\n",
       "        0.000e+00, 0.000e+00, 0.000e+00, 0.000e+00, 0.000e+00, 0.000e+00,\n",
       "        0.000e+00, 0.000e+00, 0.000e+00, 0.000e+00, 0.000e+00, 0.000e+00,\n",
       "        0.000e+00, 0.000e+00, 0.000e+00, 1.000e+00]),\n",
       " array([  2.  ,   4.08,   6.16,   8.24,  10.32,  12.4 ,  14.48,  16.56,\n",
       "         18.64,  20.72,  22.8 ,  24.88,  26.96,  29.04,  31.12,  33.2 ,\n",
       "         35.28,  37.36,  39.44,  41.52,  43.6 ,  45.68,  47.76,  49.84,\n",
       "         51.92,  54.  ,  56.08,  58.16,  60.24,  62.32,  64.4 ,  66.48,\n",
       "         68.56,  70.64,  72.72,  74.8 ,  76.88,  78.96,  81.04,  83.12,\n",
       "         85.2 ,  87.28,  89.36,  91.44,  93.52,  95.6 ,  97.68,  99.76,\n",
       "        101.84, 103.92, 106.  , 108.08, 110.16, 112.24, 114.32, 116.4 ,\n",
       "        118.48, 120.56, 122.64, 124.72, 126.8 , 128.88, 130.96, 133.04,\n",
       "        135.12, 137.2 , 139.28, 141.36, 143.44, 145.52, 147.6 , 149.68,\n",
       "        151.76, 153.84, 155.92, 158.  , 160.08, 162.16, 164.24, 166.32,\n",
       "        168.4 , 170.48, 172.56, 174.64, 176.72, 178.8 , 180.88, 182.96,\n",
       "        185.04, 187.12, 189.2 , 191.28, 193.36, 195.44, 197.52, 199.6 ,\n",
       "        201.68, 203.76, 205.84, 207.92, 210.  ]),\n",
       " <a list of 100 Patch objects>)"
      ]
     },
     "execution_count": 64,
     "metadata": {},
     "output_type": "execute_result"
    },
    {
     "data": {
      "image/png": "[encoded data removed]",
      "text/plain": [
       "<Figure size 432x288 with 1 Axes>"
      ]
     },
     "metadata": {
      "needs_background": "light"
     },
     "output_type": "display_data"
    }
   ],
   "source": [
    "plt.hist(preferential.sum(axis=1), bins=100)"
   ]
  },
  {
   "cell_type": "code",
   "execution_count": 61,
   "metadata": {},
   "outputs": [
    {
     "data": {
      "text/plain": [
       "<matplotlib.image.AxesImage at 0xa40faf6d8>"
      ]
     },
     "execution_count": 61,
     "metadata": {},
     "output_type": "execute_result"
    },
    {
     "data": {
      "image/png": "[encoded data removed]",
      "text/plain": [
       "<Figure size 432x288 with 1 Axes>"
      ]
     },
     "metadata": {
      "needs_background": "light"
     },
     "output_type": "display_data"
    }
   ],
   "source": [
    "plt.spy(preferential)"
   ]
  },
  {
   "cell_type": "code",
   "execution_count": 49,
   "metadata": {},
   "outputs": [
    {
     "name": "stdout",
     "output_type": "stream",
     "text": [
      "[709 637 384 217 156 107  81  80  74  42  44  36  29  18  21  21  18  27\n",
      "  27  22  18  14  16   7   5  14   3  10   8  16   8  12  11   5   9   7\n",
      "   7  14   7   4  11   4   3   3   4   6   4   7   4   6   8   3   1   5\n",
      "   6   6   4   1   3   3   2   3   3   2   4   3   1   2   2   2   1   4\n",
      "   3   2   0   3   4   1   1   4   2   2   4   2   2   1   0   1   3   1\n",
      "   4   2   1   2   1   2   2   0   0   1   1   2   5   0   1   0   0   2\n",
      "   0   1   2   0   0   0   0   0   1   0   0   1   1   2   2   0   0   1\n",
      "   1   0   0   0   3   0   1   0   2   0   0   2   0   1   1   0   1   1\n",
      "   0   2   1   1   1   0   1   1   1   0   0   0   0   1   0   1   1   1\n",
      "   0   1   0   0   0   2   0   1   0   0   0   0   0   0   0   0   0   0\n",
      "   0   0   0   1   0   1   0   1   0   1   0   0   0   0   0   0   1   0\n",
      "   0   0   0   0   0   0   1   0   0   0   0   0   0   0   0   0   0   0\n",
      "   1   0   0   0   0   0   0   0   0   0   0   0   0   1   0   0   0   0\n",
      "   0   0   0   0   1   0   0   1   0   0   0   1]\n",
      "(array([1.e+00, 1.e+01, 1.e+02, 1.e+03, 1.e+04, 1.e+05]), <a list of 6 Text yticklabel objects>)\n",
      "[  0  41  53  46  46  38 792 492 330 249 186 126 107  92  66  54  43  33\n",
      "  41  31  33  23  24  18  14  22  10   9  12  11   6   7   8   7   6   3\n",
      "   5   7   2   3   3   3   7   4   2   0   2   1   4   0   1   1   0   2\n",
      "   2   4   2   2   2   0   1   2   2   0   2   3   3   0   1   0   1   1\n",
      "   0   1   0   0   2   2   1   0   1   1   0   0   0   0   0   1   0   0\n",
      "   1   0   0   0   0   1   1   0   1   1   0   0   0   0   2   1   0   0\n",
      "   0   0   0   1   0   1   0   0   0   1   0   0   0   0   0   0   0   0\n",
      "   0   0   0   0   1   0   1   0   0   0   0   0   0   0   0   0   0   1\n",
      "   0   0   0   0   0   0   0   0   0   0   0   0   0   0   0   0   0   0\n",
      "   0   0   0   0   0   1   0   0   0   0   0   0   0   0   0   0   0   0\n",
      "   0   0   0   0   0   0   0   0   0   0   0   0   0   0   0   0   0   0\n",
      "   0   0   0   0   0   0   0   0   0   0   0   1   0   0   0   0   0   0\n",
      "   0   0   0   0   0   0   0   0   0   0   0   0   0   0   0   0   0   0\n",
      "   0   0   0   0   0   0   0   0   0   0   0   0]\n",
      "(array([   10.,   100.,  1000., 10000.]), <a list of 4 Text yticklabel objects>)\n"
     ]
    },
    {
     "data": {
      "text/plain": [
       "<matplotlib.legend.Legend at 0xa3f70a5c0>"
      ]
     },
     "execution_count": 49,
     "metadata": {},
     "output_type": "execute_result"
    },
    {
     "data": {
      "image/png": "[encoded data removed]",
      "text/plain": [
       "<Figure size 432x288 with 1 Axes>"
      ]
     },
     "metadata": {
      "needs_background": "light"
     },
     "output_type": "display_data"
    }
   ],
   "source": [
    "deg = np.array([degrees, degrees_pref])\n",
    "min_s = deg.min(axis=1)\n",
    "max_s = deg.max(axis=1)\n",
    "degree_networks = [degree_network, degrees_pref_network]\n",
    "\n",
    "#pad arrays to have same length\n",
    "\n",
    "for i, d in enumerate(deg):\n",
    "    degree_networks[i] = pad_distribution(degree_networks[i], d, min_s, max_s)\n",
    "    custom_scatter_histogram(degree_networks[i])\n",
    "    print(plt.yticks())\n",
    "plt.legend(['Barabási-Albert', 'Our network'])"
   ]
  },
  {
   "cell_type": "code",
   "execution_count": 38,
   "metadata": {},
   "outputs": [
    {
     "data": {
      "text/plain": [
       "[<matplotlib.lines.Line2D at 0xa3a85d7f0>]"
      ]
     },
     "execution_count": 38,
     "metadata": {},
     "output_type": "execute_result"
    },
    {
     "data": {
      "image/png": "[encoded data removed]",
      "text/plain": [
       "<Figure size 432x288 with 1 Axes>"
      ]
     },
     "metadata": {
      "needs_background": "light"
     },
     "output_type": "display_data"
    }
   ],
   "source": [
    "plt.plot(degrees_pref_network)"
   ]
  },
  {
   "cell_type": "code",
   "execution_count": 39,
   "metadata": {},
   "outputs": [],
   "source": [
    "def custom_scatter_histogram(degree_dist, title='Degree distribution of our network', alpha=1):\n",
    "    if title:\n",
    "        plt.title(title)\n",
    "    plt.scatter(range(len(degree_dist)), degree_dist, alpha=alpha)\n",
    "    print(degree_dist)\n",
    "    plt.yscale(\"log\")\n",
    "    plt.xlabel('degree')\n",
    "    plt.ylabel('frequency')"
   ]
  },
  {
   "cell_type": "code",
   "execution_count": null,
   "metadata": {},
   "outputs": [],
   "source": [
    "tmp = []\n",
    "\n",
    "for n in degree_networks:\n",
    "    n[n== 0] = 1    \n",
    "    N = n.shape[0]\n",
    "    n = running_mean(n, 3)\n",
    "    n = n/ n.sum()\n",
    "    tmp.append(n)\n",
    "    \n",
    "degree_networks = tmp"
   ]
  },
  {
   "cell_type": "code",
   "execution_count": null,
   "metadata": {},
   "outputs": [],
   "source": [
    "print(f\"KL Divergence between the original network and the Barabasi Albert network: {kl_divergence(degree_networks[0], degree_networks[1])}\")"
   ]
  },
  {
   "cell_type": "markdown",
   "metadata": {},
   "source": [
    "**Your answer here.**\n",
    "\n",
    "We can see from the plot that the two distribution are very similar indeed the KL Divergence has more than halved with respect to those of both models presented in Part 1.\n",
    "\n",
    "Actually the point were the two distriutions differ the most is again in the low degree nodes. It is indeed quite difficult to obtain such preferential attachment with a growing model that ends up having many low degree nodes as in our network."
   ]
  },
  {
   "cell_type": "markdown",
   "metadata": {},
   "source": [
    "$\\textbf{Networkx tool}$\n",
    "\n",
    "To fill that gap, we looked for different generating methods in the networkx libraries. All \"growing\" model presented similar problem in the low degree nodes so we decided to test the method $\\textit{nx.expected_degree_graph()}$ that generates random networks starting from the array representing, for every nodes, its degree. The model does not make use of \"growth\" but it just creates a link between two nodes $i$ and $j$ with probability:\n",
    "\n",
    "$$ p_{ij} = \\frac{k_ik_j}{\\sum_{t}{k_t}}, \\text{ where } k_t \\text{ is the degree of node $t$}. $$\n"
   ]
  },
  {
   "cell_type": "code",
   "execution_count": null,
   "metadata": {},
   "outputs": [],
   "source": [
    "# Your code here.\n",
    "random_graph = nx.expected_degree_graph(list(degrees), selfloops=False)\n",
    "#Create degrees vector\n",
    "degree_random = [d for n, d in random_graph.degree()]\n",
    "\n",
    "\n",
    "print(f\"Our network number of nodes: {n_nodes} and edges: {n_edges}\")\n",
    "print(f\"New model network number of nodes: {random_graph.number_of_nodes()} and edges: {random_graph.number_of_edges()}\")\n",
    "\n",
    "plt.title('Degree distribution for our random network')\n",
    "plt.hist(degree_random, bins = 237, alpha=0.4, log = True)\n",
    "\n",
    "plt.xlabel('Degree')\n",
    "plt.ylabel('Counts')\n",
    "plt.show()\n"
   ]
  },
  {
   "cell_type": "code",
   "execution_count": null,
   "metadata": {},
   "outputs": [],
   "source": [
    "degrees_random_new = np.array(degree_random)\n",
    "\n",
    "degree_network_random_new = get_degree_distribution(np.array(degree_random_new))\n",
    "degree_network = get_degree_distribution(np.where(adjacency > 0, 1, 0))\n",
    "\n",
    "min_s = [degrees.min(), degrees_random_new.min()]\n",
    "max_s = [degrees.max(), degrees_random_new.max()]\n",
    "degree_networks = [degree_network, degree_network_random_new]"
   ]
  },
  {
   "cell_type": "code",
   "execution_count": null,
   "metadata": {},
   "outputs": [],
   "source": [
    "#pad arrays to have same length\n",
    "\n",
    "for i, s in enumerate(min_s):\n",
    "    before_pad = int(s - min(min_s))\n",
    "    after_pad = int( max(max_s) - max_s[i])\n",
    "    degree_networks[i] = np.pad(degree_networks[i], pad_width=(before_pad, after_pad), mode='constant', constant_values = 0)"
   ]
  },
  {
   "cell_type": "code",
   "execution_count": null,
   "metadata": {},
   "outputs": [],
   "source": [
    "tmp = []\n",
    "\n",
    "for n in degree_networks:\n",
    "    n[n== 0] = 1    \n",
    "    N = n.shape[0]\n",
    "    n = running_mean(n, 3)\n",
    "    n = n/ n.sum()\n",
    "    tmp.append(n)\n",
    "    \n",
    "degree_networks = tmp"
   ]
  },
  {
   "cell_type": "code",
   "execution_count": null,
   "metadata": {
    "scrolled": true
   },
   "outputs": [],
   "source": [
    "# Your code here.\n",
    "# Your code here.\n",
    "plt.hist(degree_random, alpha=0.4, log=True, bins=237)\n",
    "\n",
    "plt.hist(np.where(adjacency > 0, 1, 0).sum(axis=1), alpha=0.4, bins=237)\n",
    "plt.legend(['Random', 'Flights'])\n",
    "plt.show()\n",
    "\n",
    "print(f\"KL Divergence between the original network and the Erdős–Rényi network: {kl_divergence(degree_networks[0], degree_networks[1])}\")"
   ]
  },
  {
   "cell_type": "markdown",
   "metadata": {},
   "source": [
    "**Your answer here.**\n",
    "\n",
    "We can see that now the two distributions overlap in nearly all points and the KL Divergence is very small."
   ]
  }
 ],
 "metadata": {
  "kernelspec": {
   "display_name": "Python 3",
   "language": "python",
   "name": "python3"
  },
  "language_info": {
   "codemirror_mode": {
    "name": "ipython",
    "version": 3
   },
   "file_extension": ".py",
   "mimetype": "text/x-python",
   "name": "python",
   "nbconvert_exporter": "python",
   "pygments_lexer": "ipython3",
   "version": "3.7.0"
  }
 },
 "nbformat": 4,
 "nbformat_minor": 2
}
