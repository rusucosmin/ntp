{
 "cells": [
  {
   "cell_type": "markdown",
   "metadata": {},
   "source": [
    "# [NTDS'18] milestone 2: network models\n",
    "[ntds'18]: https://github.com/mdeff/ntds_2018\n",
    "\n",
    "[Hermina Petric Maretic](https://people.epfl.ch/hermina.petricmaretic), [EPFL LTS4](https://lts4.epfl.ch)"
   ]
  },
  {
   "cell_type": "markdown",
   "metadata": {},
   "source": [
    "## Students\n",
    "\n",
    "* Team: `28`\n",
    "* Students: `Guillain, Léonore Valentine; Pase, Francesco; Rusu, Cosmin-Ionut; Zhuang, Ying`\n",
    "* Dataset: `Flight Routes`"
   ]
  },
  {
   "cell_type": "markdown",
   "metadata": {},
   "source": [
    "## Rules\n",
    "\n",
    "* Milestones have to be completed by teams. No collaboration between teams is allowed.\n",
    "* Textual answers shall be short. Typically one to two sentences.\n",
    "* Code has to be clean.\n",
    "* In the first part, you cannot import any other library than we imported. In the second part, you are allowed to import any library you want.\n",
    "* When submitting, the notebook is executed and the results are stored. I.e., if you open the notebook again it should show numerical results and plots. We won't be able to execute your notebooks.\n",
    "* The notebook is re-executed from a blank state before submission. That is to be sure it is reproducible. You can click \"Kernel\" then \"Restart & Run All\" in Jupyter."
   ]
  },
  {
   "cell_type": "markdown",
   "metadata": {},
   "source": [
    "## Objective\n",
    "\n",
    "The purpose of this milestone is to explore various random network models, analyse their properties and compare them to your network. In the first part of the milestone you will implement two random graph models and try to fit them to your network. In this part you are not allowed to use any additional package. In the second part of the milestone you will choose a third random graph model that you think shares some properties with your network. You will be allowed to use additional packages to construct this network, but you must explain your network choice. Finally, make your code as clean as possible, and keep your textual answers short."
   ]
  },
  {
   "cell_type": "markdown",
   "metadata": {},
   "source": [
    "## Part 0\n",
    "\n",
    "Import the adjacency matrix of your graph that you constructed in milestone 1, as well as the number of nodes and edges of your network."
   ]
  },
  {
   "cell_type": "code",
   "execution_count": 1,
   "metadata": {},
   "outputs": [],
   "source": [
    "import numpy as np\n",
    "import pandas as pd\n",
    "\n",
    "adjacency = np.load('adjacency.npy') # the adjacency matrix\n",
    "n_nodes =  adjacency.shape[0] # the number of nodes in the network\n",
    "n_edges =  np.where(adjacency > 0, 1, 0).sum() / 2 # the number of edges in the network"
   ]
  },
  {
   "cell_type": "markdown",
   "metadata": {},
   "source": [
    "## Part 1\n",
    "\n",
    "**For the computation of this part of the milestone you are only allowed to use the packages that have been imported in the cell below.**"
   ]
  },
  {
   "cell_type": "code",
   "execution_count": 2,
   "metadata": {},
   "outputs": [],
   "source": [
    "%matplotlib inline\n",
    "\n",
    "import random\n",
    "import numpy as np\n",
    "import pandas as pd\n",
    "import matplotlib.pyplot as plt\n",
    "import scipy"
   ]
  },
  {
   "cell_type": "markdown",
   "metadata": {},
   "source": [
    "### Question 1\n",
    "\n",
    "Create a function that constructs an Erdős–Rényi graph."
   ]
  },
  {
   "cell_type": "code",
   "execution_count": 3,
   "metadata": {},
   "outputs": [],
   "source": [
    "def erdos_renyi(n, p, seed = None):\n",
    "    \"\"\"Create an instance from the Erdos-Renyi graph model.\n",
    "    \n",
    "    Parameters\n",
    "    ----------\n",
    "    n: int\n",
    "        Size of the graph.\n",
    "    p: float\n",
    "        Edge probability. A number between 0 and 1.\n",
    "    seed: int (optional)\n",
    "        Seed for the random number generator. To get reproducible results.\n",
    "    \n",
    "    Returns\n",
    "    -------\n",
    "    adjacency\n",
    "        The adjacency matrix of a graph.\n",
    "    \"\"\"\n",
    "    \n",
    "    # Your code here.\n",
    " \n",
    "    \n",
    "    \n",
    "    np.random.seed(seed)\n",
    "    adjacency = np.zeros((n,n))\n",
    "    \n",
    "    for i in range(n):\n",
    "        # add the +1 to avoid selfloops\n",
    "        adjacency[i, i+1:] = np.random.binomial(1, p, n-i-1)\n",
    "        adjacency[i+1:, i] = adjacency[i, i+1:]\n",
    "    \n",
    "    \n",
    "    return adjacency"
   ]
  },
  {
   "cell_type": "code",
   "execution_count": 4,
   "metadata": {},
   "outputs": [
    {
     "data": {
      "text/plain": [
       "Text(0.5,1.05,'Erdos-Renyi (5, 0.6)')"
      ]
     },
     "execution_count": 4,
     "metadata": {},
     "output_type": "execute_result"
    },
    {
     "data": {
      "image/png": "[encoded data removed]",
      "text/plain": [
       "<Figure size 432x288 with 1 Axes>"
      ]
     },
     "metadata": {
      "needs_background": "light"
     },
     "output_type": "display_data"
    }
   ],
   "source": [
    "er = erdos_renyi(5, 0.6, 9765)\n",
    "plt.spy(er)\n",
    "plt.title('Erdos-Renyi (5, 0.6)')"
   ]
  },
  {
   "cell_type": "code",
   "execution_count": 5,
   "metadata": {},
   "outputs": [
    {
     "data": {
      "text/plain": [
       "Text(0.5,1.05,'Erdos-Renyi (10, 0.4)')"
      ]
     },
     "execution_count": 5,
     "metadata": {},
     "output_type": "execute_result"
    },
    {
     "data": {
      "image/png": "[encoded data removed]",
      "text/plain": [
       "<Figure size 432x288 with 1 Axes>"
      ]
     },
     "metadata": {
      "needs_background": "light"
     },
     "output_type": "display_data"
    }
   ],
   "source": [
    "er = erdos_renyi(10, 0.4, 7648)\n",
    "plt.spy(er)\n",
    "plt.title('Erdos-Renyi (10, 0.4)')"
   ]
  },
  {
   "cell_type": "markdown",
   "metadata": {},
   "source": [
    "### Question 2\n",
    "\n",
    "Use the function to create a random Erdos-Renyi graph. Choose the parameters such that number of nodes is the same as in your graph, and the number of edges similar. You don't need to set the random seed. Comment on your choice of parameters."
   ]
  },
  {
   "cell_type": "code",
   "execution_count": 6,
   "metadata": {},
   "outputs": [
    {
     "name": "stdout",
     "output_type": "stream",
     "text": [
      "Connection propabiblity :   0.0036852923458718925\n"
     ]
    }
   ],
   "source": [
    "# calculation of probability\n",
    "p = 2*n_edges/(n_nodes*(n_nodes-1))\n",
    "print('Connection propabiblity :  ', p)"
   ]
  },
  {
   "cell_type": "code",
   "execution_count": 7,
   "metadata": {},
   "outputs": [
    {
     "name": "stdout",
     "output_type": "stream",
     "text": [
      "Edges in our graph : 18630.0\n"
     ]
    }
   ],
   "source": [
    "print('Edges in our graph :', erdos_renyi(n_nodes, p).sum()/2)"
   ]
  },
  {
   "cell_type": "code",
   "execution_count": 8,
   "metadata": {},
   "outputs": [
    {
     "data": {
      "text/plain": [
       "<matplotlib.image.AxesImage at 0x12838a828>"
      ]
     },
     "execution_count": 8,
     "metadata": {},
     "output_type": "execute_result"
    },
    {
     "data": {
      "image/png": "[encoded data removed]",
      "text/plain": [
       "<Figure size 432x288 with 1 Axes>"
      ]
     },
     "metadata": {
      "needs_background": "light"
     },
     "output_type": "display_data"
    }
   ],
   "source": [
    "er_graph = erdos_renyi(n_nodes, p)\n",
    "plt.spy(er_graph)"
   ]
  },
  {
   "cell_type": "markdown",
   "metadata": {},
   "source": [
    "**Your answer here.**\n",
    "\n",
    "We calcuate the probability $p$ so that the random Erdos-Renyi graph we create has a similar number of edges as our network.\n",
    "The number of links will be:\n",
    "$L=p* N(N-1)/2$\n",
    "\n",
    "Hence we choose $p = 2*L/(N*(N-1))$\n",
    "\n",
    "The resulting number of edges is similar to the one in our network."
   ]
  },
  {
   "cell_type": "markdown",
   "metadata": {},
   "source": [
    "### Question 3\n",
    "\n",
    "Create a function that constructs a Barabási-Albert graph."
   ]
  },
  {
   "cell_type": "code",
   "execution_count": 9,
   "metadata": {},
   "outputs": [],
   "source": [
    "def barabasi_albert(n, m, seed=None, m_0 = None):\n",
    "    \"\"\"Create an instance from the Barabasi-Albert graph model.\n",
    "    \n",
    "    Parameters\n",
    "    ----------\n",
    "    n: int\n",
    "        Size of the graph.\n",
    "    m: int\n",
    "        Number of edges to attach from a new node to existing nodes.\n",
    "    seed: int (optional)\n",
    "        Seed for the random number generator. To get reproducible results.\n",
    "    m_0: int (optinal)\n",
    "        The number of nodes in the initial connected component\n",
    "    \n",
    "    Returns\n",
    "    -------\n",
    "    adjacency\n",
    "        The adjacency matrix of a graph.\n",
    "    \"\"\"\n",
    "    \n",
    "    np.random.seed(seed)\n",
    "    \n",
    "    #to ensure scale free network property\n",
    "    m_0 = max(m, 2)\n",
    "\n",
    "    # Initial connected network\n",
    "    adjacency = np.zeros((n,n))\n",
    "\n",
    "    \n",
    "    #Generating random subgraph of size m_0 x m_0\n",
    "    adjacency[:m_0, :m_0] = erdos_renyi(m_0, 1./m_0 , seed)\n",
    "\n",
    "    #Force Connectivity\n",
    "    for i in range(m_0-1):\n",
    "        adjacency[i, i+1] = 1;\n",
    "        adjacency[i+1, i] = 1;\n",
    "    \n",
    "    \n",
    "    #iterate:\n",
    "    for i in range(m_0, n):\n",
    "        degrees = adjacency[:i].sum(axis = 1)\n",
    "        total = degrees.sum()\n",
    "        \n",
    "        new_links = np.random.choice(i, size=m, replace=False, p = degrees / total)\n",
    "        adjacency[i, new_links] = 1.\n",
    "        adjacency[new_links, i] = 1.\n",
    "    \n",
    "    return adjacency"
   ]
  },
  {
   "cell_type": "code",
   "execution_count": 10,
   "metadata": {},
   "outputs": [
    {
     "data": {
      "text/plain": [
       "Text(0.5,1.05,'Barabasi-Albert (5, 1)')"
      ]
     },
     "execution_count": 10,
     "metadata": {},
     "output_type": "execute_result"
    },
    {
     "data": {
      "image/png": "[encoded data removed]",
      "text/plain": [
       "<Figure size 432x288 with 1 Axes>"
      ]
     },
     "metadata": {
      "needs_background": "light"
     },
     "output_type": "display_data"
    }
   ],
   "source": [
    "ba = barabasi_albert(5, 1, 908)\n",
    "plt.spy(ba)\n",
    "plt.title('Barabasi-Albert (5, 1)')"
   ]
  },
  {
   "cell_type": "code",
   "execution_count": 11,
   "metadata": {},
   "outputs": [
    {
     "data": {
      "text/plain": [
       "Text(0.5,1.05,'Barabasi-Albert (10, 2)')"
      ]
     },
     "execution_count": 11,
     "metadata": {},
     "output_type": "execute_result"
    },
    {
     "data": {
      "image/png": "[encoded data removed]",
      "text/plain": [
       "<Figure size 432x288 with 1 Axes>"
      ]
     },
     "metadata": {
      "needs_background": "light"
     },
     "output_type": "display_data"
    }
   ],
   "source": [
    "ba = barabasi_albert(10, 2, 8708)\n",
    "plt.spy(ba)\n",
    "plt.title('Barabasi-Albert (10, 2)')"
   ]
  },
  {
   "cell_type": "markdown",
   "metadata": {},
   "source": [
    "### Question 4\n",
    "\n",
    "Use the function to create a random Barabási-Albert graph. Choose the parameters such that number of nodes is the same as in your graph, and the number of edges similar. You don't need to set the random seed. Comment on your choice of parameters."
   ]
  },
  {
   "cell_type": "code",
   "execution_count": 12,
   "metadata": {},
   "outputs": [
    {
     "name": "stdout",
     "output_type": "stream",
     "text": [
      "The average degree of our graph is:  11.711859075180875\n"
     ]
    }
   ],
   "source": [
    "avg_degree = np.where(adjacency > 0, 1, 0).sum(axis = 1).mean()\n",
    "print('The average degree of our graph is: ', avg_degree)"
   ]
  },
  {
   "cell_type": "code",
   "execution_count": 13,
   "metadata": {},
   "outputs": [
    {
     "data": {
      "text/plain": [
       "<matplotlib.image.AxesImage at 0x12e6106a0>"
      ]
     },
     "execution_count": 13,
     "metadata": {},
     "output_type": "execute_result"
    },
    {
     "data": {
      "image/png": "[encoded data removed]",
      "text/plain": [
       "<Figure size 432x288 with 1 Axes>"
      ]
     },
     "metadata": {
      "needs_background": "light"
     },
     "output_type": "display_data"
    }
   ],
   "source": [
    "# Your code here.\n",
    "ba_graph = barabasi_albert(n_nodes, 6)\n",
    "plt.spy(ba_graph)"
   ]
  },
  {
   "cell_type": "code",
   "execution_count": 14,
   "metadata": {},
   "outputs": [
    {
     "name": "stdout",
     "output_type": "stream",
     "text": [
      "Number of edges in Barabási-Albert graph:  19045.0\n"
     ]
    }
   ],
   "source": [
    "print(\"Number of edges in Barabási-Albert graph: \", ba_graph.sum()/2)"
   ]
  },
  {
   "cell_type": "code",
   "execution_count": 15,
   "metadata": {},
   "outputs": [
    {
     "data": {
      "text/plain": [
       "<matplotlib.image.AxesImage at 0x133e20d68>"
      ]
     },
     "execution_count": 15,
     "metadata": {},
     "output_type": "execute_result"
    },
    {
     "data": {
      "image/png": "[encoded data removed]",
      "text/plain": [
       "<Figure size 432x288 with 1 Axes>"
      ]
     },
     "metadata": {
      "needs_background": "light"
     },
     "output_type": "display_data"
    }
   ],
   "source": [
    "# Your code here.\n",
    "ba_graph = barabasi_albert(n_nodes, 6)\n",
    "plt.spy(ba_graph)"
   ]
  },
  {
   "cell_type": "markdown",
   "metadata": {},
   "source": [
    "**Your answer here**\n",
    "\n",
    "We calcuate $m$ so that the random Barabási-Albert graph we create has a similar number of edges as our network. The algorithm will create approximately $mt + m_0$ links, with $t= n-m_0$.\n",
    "We obtain $L= m*n-m*m_0+m_0$, as the $m_0 = m$ in our implementation, we get that 6 is the closest integer to give the desired results.\n",
    "\n"
   ]
  },
  {
   "cell_type": "markdown",
   "metadata": {},
   "source": [
    "### Question 5\n",
    "\n",
    "Compare the number of edges in all three networks (your real network, the Erdős–Rényi network, and the Barabási-Albert netowk)."
   ]
  },
  {
   "cell_type": "code",
   "execution_count": 16,
   "metadata": {},
   "outputs": [
    {
     "name": "stdout",
     "output_type": "stream",
     "text": [
      "Number of edges in the real network: 18616.0\n",
      "Number of edges in the Erdős–Rényi network: 18722.0\n",
      "Number of edges in the Barabási-Albert network: 19043.0\n"
     ]
    }
   ],
   "source": [
    "# Your code here.\n",
    "print(f\"Number of edges in the real network: {n_edges}\")\n",
    "print(f\"Number of edges in the Erdős–Rényi network: {er_graph.sum() / 2}\")\n",
    "print(f\"Number of edges in the Barabási-Albert network: {ba_graph.sum() / 2}\")"
   ]
  },
  {
   "cell_type": "markdown",
   "metadata": {},
   "source": [
    "### Question 6\n",
    "\n",
    "Implement a function that computes the [Kullback–Leibler (KL) divergence](https://en.wikipedia.org/wiki/Kullback%E2%80%93Leibler_divergence) between two probability distributions.\n",
    "We'll use it to compare the degree distributions of networks."
   ]
  },
  {
   "cell_type": "code",
   "execution_count": 17,
   "metadata": {},
   "outputs": [],
   "source": [
    "def kl_divergence(p, q):\n",
    "    \"\"\"Compute the KL divergence between probability distributions of degrees of two networks.\n",
    "    \n",
    "    Parameters\n",
    "    ----------\n",
    "    p: np.array\n",
    "        Probability distribution of degrees of the 1st graph.\n",
    "    q: np.array\n",
    "        Probability distribution of degrees of the 2nd graph.\n",
    "    \n",
    "    Returns\n",
    "    -------\n",
    "    kl\n",
    "        The KL divergence between the two distributions.\n",
    "    \"\"\"\n",
    "    \n",
    "    assert p.shape == q.shape\n",
    "    #check that we have the same support\n",
    "    np.testing.assert_array_equal(np.where(p>0), np.where(q>0), err_msg='The two distributions have different supports')\n",
    "    \n",
    "    kl = 0\n",
    "    for x, p_x in enumerate(p):\n",
    "        kl += p_x*np.log(p_x/q[x])\n",
    "    \n",
    "    return kl"
   ]
  },
  {
   "cell_type": "code",
   "execution_count": 18,
   "metadata": {},
   "outputs": [
    {
     "data": {
      "text/plain": [
       "0.09151622184943575"
      ]
     },
     "execution_count": 18,
     "metadata": {},
     "output_type": "execute_result"
    }
   ],
   "source": [
    "p_test = np.array([0.2, 0.2, 0.2, 0.4])\n",
    "q_test = np.array([0.3, 0.3, 0.1, 0.3])\n",
    "\n",
    "kl_divergence(p_test, q_test)"
   ]
  },
  {
   "cell_type": "markdown",
   "metadata": {},
   "source": [
    "### Question 7\n",
    "\n",
    "Compare the degree distribution of your network to each of the two synthetic ones, in terms of KL divergence. **Hint:** Make sure you normalise your degree distributions to make them valid probability distributions."
   ]
  },
  {
   "cell_type": "code",
   "execution_count": 19,
   "metadata": {},
   "outputs": [],
   "source": [
    "# Your code here.\n",
    "\n",
    "#calculate degree distrubution for each graph\n",
    "degrees = np.where(adjacency > 0, 1, 0).sum(axis = 1)\n",
    "degree_network = np.histogram(degrees, bins=(degrees.max()+1)-degrees.min())\n",
    "degree_network = degree_network[0]\n",
    "\n",
    "degrees_er = er_graph.sum(axis = 1) \n",
    "degree_er_network = np.histogram(degrees_er, bins=int(degrees_er.max()+1-degrees_er.min()))\n",
    "degree_er_network = degree_er_network[0]\n",
    "\n",
    "degrees_ba = ba_graph.sum(axis = 1)\n",
    "degree_ba_network = np.histogram(degrees_ba, bins=int(degrees_ba.max()+1-degrees_ba.min()))\n",
    "degree_ba_network = degree_ba_network[0]\n",
    "\n",
    "min_s = [degrees.min(), degrees_er.min(), degrees_ba.min()]\n",
    "max_s = [degrees.max(), degrees_er.max(), degrees_ba.max()]\n",
    "degree_networks = [degree_network, degree_er_network, degree_ba_network]"
   ]
  },
  {
   "cell_type": "code",
   "execution_count": 20,
   "metadata": {},
   "outputs": [],
   "source": [
    "#pad arrays to have same length\n",
    "\n",
    "for i, s in enumerate(min_s):\n",
    "    before_pad = int(s - min(min_s))\n",
    "    after_pad = int( max(max_s) - max_s[i])\n",
    "    degree_networks[i] = np.pad(degree_networks[i], pad_width=(before_pad, after_pad), mode='constant', constant_values = 0)"
   ]
  },
  {
   "cell_type": "code",
   "execution_count": 22,
   "metadata": {},
   "outputs": [],
   "source": [
    "def running_mean(x, N):\n",
    "    cumsum = np.cumsum(np.insert(x, 0, 0)) \n",
    "    return (cumsum[N:] - cumsum[:-N]) / float(N)"
   ]
  },
  {
   "cell_type": "code",
   "execution_count": 23,
   "metadata": {},
   "outputs": [],
   "source": [
    "#normalize\n",
    "\n",
    "tmp = []\n",
    "\n",
    "for n in degree_networks:\n",
    "    \n",
    "    #to avoid issues with log at zero, affects accuracy only in order of 1e-3\n",
    "    n += 1\n",
    "    \n",
    "    #alternative smoothing, we still would have issues with zero\n",
    "    #scp = scipy.interpolate.UnivariateSpline(range(min(min_s), max(max_s)+1), n)\n",
    "    #n = scp(range(min(min_s), max(max_s)+1))\n",
    "    \n",
    "    #do moving average to smooth function\n",
    "    N = n.shape[0]\n",
    "    n = running_mean(n, 3)\n",
    "    n = n/ n.sum()\n",
    "    tmp.append(n)\n",
    "    \n",
    "degree_networks = tmp"
   ]
  },
  {
   "cell_type": "code",
   "execution_count": 24,
   "metadata": {},
   "outputs": [
    {
     "data": {
      "text/plain": [
       "<matplotlib.legend.Legend at 0x134924f98>"
      ]
     },
     "execution_count": 24,
     "metadata": {},
     "output_type": "execute_result"
    },
    {
     "data": {
      "image/png": "[encoded data removed]",
      "text/plain": [
       "<Figure size 432x288 with 1 Axes>"
      ]
     },
     "metadata": {
      "needs_background": "light"
     },
     "output_type": "display_data"
    }
   ],
   "source": [
    "plt.title('normalized degree distributions')\n",
    "for i in degree_networks:\n",
    "    plt.plot(i)\n",
    "    \n",
    "plt.legend(['our network', ' Erdős–Rényi', 'Barabási-Albert'])"
   ]
  },
  {
   "cell_type": "code",
   "execution_count": 25,
   "metadata": {},
   "outputs": [
    {
     "name": "stdout",
     "output_type": "stream",
     "text": [
      "KL Divergence between the original network and the Erdős–Rényi network: 2.1388565488144495\n",
      "KL Divergence between the original network and the Barabási-Albert network: 2.556471004146974\n"
     ]
    }
   ],
   "source": [
    "print(f\"KL Divergence between the original network and the Erdős–Rényi network: {kl_divergence(degree_networks[0], degree_networks[1])}\")\n",
    "print(f\"KL Divergence between the original network and the Barabási-Albert network: {kl_divergence(degree_networks[0], degree_networks[2])}\")"
   ]
  },
  {
   "cell_type": "code",
   "execution_count": 26,
   "metadata": {},
   "outputs": [],
   "source": [
    "tmp = []\n",
    "\n",
    "for n in degree_networks:\n",
    "    n = n[5:]\n",
    "    n = n/ n.sum()\n",
    "    tmp.append(n)\n",
    "    \n",
    "degree_networks = tmp"
   ]
  },
  {
   "cell_type": "code",
   "execution_count": 27,
   "metadata": {},
   "outputs": [
    {
     "name": "stdout",
     "output_type": "stream",
     "text": [
      "KL Divergence between the original network and the Erdős–Rényi network: 1.1030042667675442\n",
      "KL Divergence between the original network and the Barabási-Albert network: 0.5248153502091341\n"
     ]
    }
   ],
   "source": [
    "print(f\"KL Divergence between the original network and the Erdős–Rényi network: {kl_divergence(degree_networks[0], degree_networks[1])}\")\n",
    "print(f\"KL Divergence between the original network and the Barabási-Albert network: {kl_divergence(degree_networks[0], degree_networks[2])}\")"
   ]
  },
  {
   "cell_type": "markdown",
   "metadata": {},
   "source": [
    "### Question 8\n",
    "\n",
    "Plot the degree distribution historgrams for all three networks. Are they consistent with the KL divergence results? Explain."
   ]
  },
  {
   "cell_type": "code",
   "execution_count": 28,
   "metadata": {},
   "outputs": [
    {
     "data": {
      "image/png": "[encoded data removed]",
      "text/plain": [
       "<Figure size 432x288 with 1 Axes>"
      ]
     },
     "metadata": {
      "needs_background": "light"
     },
     "output_type": "display_data"
    }
   ],
   "source": [
    "# Your code here.\n",
    "plt.title('degree distribution of our network')\n",
    "plt.hist(adjacency.sum(axis = 1), bins=50)\n",
    "plt.xlabel('degree')\n",
    "plt.ylabel('counts')\n",
    "plt.show()"
   ]
  },
  {
   "cell_type": "code",
   "execution_count": 29,
   "metadata": {},
   "outputs": [
    {
     "data": {
      "image/png": "[encoded data removed]",
      "text/plain": [
       "<Figure size 432x288 with 1 Axes>"
      ]
     },
     "metadata": {
      "needs_background": "light"
     },
     "output_type": "display_data"
    }
   ],
   "source": [
    "plt.title('degree distribution of Erdős–Rényi graph')\n",
    "plt.hist(er_graph.sum(axis = 1), bins=50)\n",
    "plt.xlabel('degree')\n",
    "plt.ylabel('counts')\n",
    "plt.show()"
   ]
  },
  {
   "cell_type": "code",
   "execution_count": 30,
   "metadata": {},
   "outputs": [
    {
     "data": {
      "image/png": "[encoded data removed]",
      "text/plain": [
       "<Figure size 432x288 with 1 Axes>"
      ]
     },
     "metadata": {
      "needs_background": "light"
     },
     "output_type": "display_data"
    }
   ],
   "source": [
    "plt.title('degree distribution of Erdős–Rényi')\n",
    "plt.hist(ba_graph.sum(axis = 1), bins=50)\n",
    "plt.xlabel('degree')\n",
    "plt.ylabel('counts')\n",
    "plt.show()"
   ]
  },
  {
   "cell_type": "code",
   "execution_count": 31,
   "metadata": {},
   "outputs": [
    {
     "data": {
      "image/png": "[encoded data removed]",
      "text/plain": [
       "<Figure size 432x288 with 1 Axes>"
      ]
     },
     "metadata": {
      "needs_background": "light"
     },
     "output_type": "display_data"
    }
   ],
   "source": [
    "# Your code here.\n",
    "plt.hist(er_graph.sum(axis=1), alpha=0.4, log=True)\n",
    "plt.hist(ba_graph.sum(axis=1), alpha=0.4, bins=100)\n",
    "plt.hist(np.where(adjacency > 0, 1, 0).sum(axis=1), alpha=0.4, bins=100)\n",
    "plt.legend(['er', 'ab', 'flights'])\n",
    "plt.show()"
   ]
  },
  {
   "cell_type": "markdown",
   "metadata": {},
   "source": [
    "**Your answer here.**\n",
    "\n",
    "\n"
   ]
  },
  {
   "cell_type": "markdown",
   "metadata": {},
   "source": [
    "### Question 9\n",
    "\n",
    "Imagine you got equal degree distributions. Would that guarantee you got the same graph? Explain."
   ]
  },
  {
   "cell_type": "markdown",
   "metadata": {},
   "source": [
    "If we have the same degree distrubtion, this does not mean that we have the same graph. \n",
    "\n",
    "If two graphs have same degree sequence, that does not mean that the graphs are isomorphic, hence they may not be the same. \n",
    "\n",
    "To prove this, consider the following counter example: \n",
    "These two have the same degree distribution but are not isomorphic : {1: 2, 2: 3}\n",
    "\n",
    "```\n",
    "* 1 -- 2 -- 3 -- 4 -- 5\n",
    "* 1 -- 2   3 -- 4\n",
    "             \\ /\n",
    "              5\n",
    "```"
   ]
  },
  {
   "cell_type": "markdown",
   "metadata": {},
   "source": [
    "## Part 2\n",
    "\n",
    "**You are allowed to use any additional library here (e.g., NetworkX, PyGSP, etc.).** Be careful not to include something here and use it in part 1!"
   ]
  },
  {
   "cell_type": "code",
   "execution_count": 32,
   "metadata": {},
   "outputs": [],
   "source": [
    "import networkx as nx"
   ]
  },
  {
   "cell_type": "markdown",
   "metadata": {},
   "source": [
    "### Question 10\n",
    "\n",
    "Choose a random network model that fits you network well. Explain your choice. \n",
    "\n",
    "**Hint:** Check lecture notes for different network models and their properties. Your choice should be made based on at least one property you'd expect to be similar."
   ]
  },
  {
   "cell_type": "markdown",
   "metadata": {},
   "source": [
    "**TODO(team): Check this answer**\n",
    "\n",
    "In our network, very popular airports act as hubs. Since these airports are bigger, they are more probable to get new links (create a new direct flight). Moreover, the distribution of a generated Barabási-Albert model have the same \"shape\" as the one of our flight network. The chosen degree (the average degreee), however, yields a network with far more edges than we have (one reason why the KL-divergence is big). We expect that by choosing the correct paremeter, the degree distribution of the nodes will be similar."
   ]
  },
  {
   "cell_type": "markdown",
   "metadata": {},
   "source": [
    "### Question 11\n",
    "\n",
    "Explain (in short) how the chosen model works."
   ]
  },
  {
   "cell_type": "markdown",
   "metadata": {},
   "source": [
    "**TODO(team): Check this answer**\n",
    "\n",
    "[WikiPage](https://en.wikipedia.org/wiki/Barab%C3%A1si%E2%80%93Albert_model)\n",
    "\n",
    "\n",
    "The Barabási-Albert generates a random scale-free network (the degree distrubtion follows a power law), Some examples of such networks are: Internet, World Wide Web, Citations Network or Social Networks. The graphs usually contains high degree nodes also knows as \"hubs\". The model incorporates two important general concepts: growth and preferential attachment. Both growth and preferential attachment exist widely in real networks. Growth means that the number of nodes in the network increase over time. Preferential attachment states that the more connected a node is, the more likely it is to receive new links. If we think in terms of our Flights Network, it is likely that if a new airport opens up in a country, they will likely create direct flights to the most popular airports so that more traffic flows through the new airport.\n",
    "\n",
    "The algorithm is fairly simple:\n",
    "\n",
    "1. Create a single connected component of $m0$ nodes (this will be our approximate hubs) \n",
    "2. For every new node (until we reached the number of nodes we want):\n",
    "    1. Create links to ($m <= m0$) already existing nodes with probabilities proportional to the degree of the existing node, i.e.\n",
    "    $$p_i = \\frac{degree_i}{\\sum_{j \\in S}{degree_j}} \\text{ where } S \\text{ is the set of existing nodes} $$\n"
   ]
  },
  {
   "cell_type": "markdown",
   "metadata": {},
   "source": [
    "### Question 12\n",
    "\n",
    "Create a random graph from that model, such that the number of nodes is the same as in your graph."
   ]
  },
  {
   "cell_type": "code",
   "execution_count": 44,
   "metadata": {},
   "outputs": [],
   "source": [
    "def preferential_attachment(n, m, seed=None, m_0 = None, alpha = 1):\n",
    "    \"\"\"Create an instance from the Barabasi-Albert graph model.\n",
    "    \n",
    "    Parameters\n",
    "    ----------\n",
    "    n: int\n",
    "        Size of the graph.\n",
    "    m: int\n",
    "        Number of edges to attach from a new node to existing nodes.\n",
    "    seed: int (optional)\n",
    "        Seed for the random number generator. To get reproducible results.\n",
    "    m_0: int (optinal)\n",
    "        The number of nodes in the initial connected component\n",
    "    \n",
    "    Returns\n",
    "    -------\n",
    "    adjacency\n",
    "        The adjacency matrix of a graph.\n",
    "    \"\"\"\n",
    "    \n",
    "    np.random.seed(seed)\n",
    "    \n",
    "    #to ensure scale free network property\n",
    "    #m_0 = max(m, 2)\n",
    "\n",
    "    # Initial connected network\n",
    "    adjacency = np.zeros((n,n))\n",
    "    \n",
    "\n",
    "    \n",
    "    adjacency[:m_0, :m_0] = erdos_renyi(m_0, 1./(10*m_0) , seed)\n",
    "    #Should it also be connected ??\n",
    "    for i in range(m_0-1):\n",
    "        adjacency[i, i+1] = 1;\n",
    "        adjacency[i+1, i] = 1;\n",
    "    \n",
    "    print (adjacency[:m_0, :m_0])\n",
    "    \n",
    "    \n",
    "    #iterate:\n",
    "    for i in range(m_0, n):\n",
    "        degrees = adjacency[:i].sum(axis = 1)\n",
    "        total = (degrees**alpha).sum()\n",
    "        \n",
    "        new_links = np.random.choice(i, size=m, replace=False, p = degrees**alpha / total)\n",
    "        adjacency[i, new_links] = 1.\n",
    "        adjacency[new_links, i] = 1.\n",
    "    \n",
    "    return adjacency"
   ]
  },
  {
   "cell_type": "code",
   "execution_count": 45,
   "metadata": {},
   "outputs": [
    {
     "name": "stdout",
     "output_type": "stream",
     "text": [
      "[[0. 1. 0. ... 0. 0. 0.]\n",
      " [1. 0. 1. ... 0. 0. 0.]\n",
      " [0. 1. 0. ... 0. 0. 0.]\n",
      " ...\n",
      " [0. 0. 0. ... 0. 1. 0.]\n",
      " [0. 0. 0. ... 1. 0. 1.]\n",
      " [0. 0. 0. ... 0. 1. 0.]]\n",
      "19282.0\n"
     ]
    }
   ],
   "source": [
    "# Your code here.\n",
    "#ba_graph = nx.powerlaw_cluster_graph(n_node_s, 5, 0.45 )\n",
    "ba_graph = preferential_attachment(n_nodes, m=7, m_0 = 500, alpha = 1.32)\n",
    "#plt.spy(ba_graph)\n",
    "print(ba_graph.sum()/2)"
   ]
  },
  {
   "cell_type": "code",
   "execution_count": 46,
   "metadata": {},
   "outputs": [
    {
     "name": "stdout",
     "output_type": "stream",
     "text": [
      "Our network number of nodes: 3179 and edges: 18616.0\n",
      "Barabási-Albert network number of nodes: 3179 and edges: 19282.0\n"
     ]
    }
   ],
   "source": [
    "print(f\"Our network number of nodes: {n_nodes} and edges: {n_edges}\")\n",
    "print(f\"Barabási-Albert network number of nodes: {ba_graph.shape[0]} and edges: {ba_graph.sum() / 2}\")"
   ]
  },
  {
   "cell_type": "markdown",
   "metadata": {},
   "source": [
    "\n",
    "### Question 13\n",
    "\n",
    "Check the properties you expected to be similar, and compare to your network."
   ]
  },
  {
   "cell_type": "code",
   "execution_count": 49,
   "metadata": {
    "scrolled": false
   },
   "outputs": [
    {
     "data": {
      "image/png": "[encoded data removed]",
      "text/plain": [
       "<Figure size 432x288 with 1 Axes>"
      ]
     },
     "metadata": {
      "needs_background": "light"
     },
     "output_type": "display_data"
    }
   ],
   "source": [
    "# Your code here.\n",
    "one_adjacency = np.where(adjacency > 0, 1, 0)\n",
    "x = one_adjacency.sum(axis = 1)\n",
    "degree_ba_network = ba_graph.sum(axis = 1)\n",
    "\n",
    "\n",
    "plt.title('Degree distribution for our random network: superlinear attachment')\n",
    "plt.hist(degree_ba_network, bins = 237, alpha=0.4, log = True)\n",
    "plt.xlabel('Degree')\n",
    "plt.ylabel('Counts')\n",
    "plt.show()"
   ]
  },
  {
   "cell_type": "markdown",
   "metadata": {},
   "source": [
    "**Your answer here.**\n",
    "\n",
    "We see the distributions are fairly equal, altought the KL Divergence is quite big (we see there are some outliers in our random model that drives this metric up. Our original network does not have many hubs, but the Barabási-Albert model tends to create more hubs."
   ]
  },
  {
   "cell_type": "code",
   "execution_count": 39,
   "metadata": {},
   "outputs": [],
   "source": [
    "degrees_ba_new = ba_graph.sum(axis = 1)\n",
    "degree_network_ba_new = np.histogram(degrees_ba_new, bins=int(degrees_ba_new.max()+1-degrees_ba_new.min()))\n",
    "degree_network_ba_new = degree_network_ba_new[0]\n",
    "\n",
    "degrees = np.where(adjacency > 0, 1, 0).sum(axis = 1)\n",
    "degree_network = np.histogram(degrees, bins=(degrees.max()+1)-degrees.min())\n",
    "degree_network = degree_network[0]"
   ]
  },
  {
   "cell_type": "code",
   "execution_count": 40,
   "metadata": {},
   "outputs": [],
   "source": [
    "min_s = [degrees.min(), degrees_ba_new.min()]\n",
    "max_s = [degrees.max(), degrees_ba_new.max()]\n",
    "degree_networks = [degree_network, degree_network_ba_new]\n",
    "\n",
    "#pad arrays to have same length\n",
    "\n",
    "for i, s in enumerate(min_s):\n",
    "    before_pad = int(s - min(min_s))\n",
    "    after_pad = int( max(max_s) - max_s[i])\n",
    "    degree_networks[i] = np.pad(degree_networks[i], pad_width=(before_pad, after_pad), mode='constant', constant_values = 0)"
   ]
  },
  {
   "cell_type": "code",
   "execution_count": 41,
   "metadata": {},
   "outputs": [],
   "source": [
    "tmp = []\n",
    "\n",
    "for n in degree_networks:\n",
    "    n[n== 0] = 1    \n",
    "    N = n.shape[0]\n",
    "    n = running_mean(n, 3)\n",
    "    n = n/ n.sum()\n",
    "    tmp.append(n)\n",
    "    \n",
    "degree_networks = tmp"
   ]
  },
  {
   "cell_type": "code",
   "execution_count": 42,
   "metadata": {},
   "outputs": [
    {
     "name": "stdout",
     "output_type": "stream",
     "text": [
      "KL Divergence between the original network and the Erdős–Rényi network: 1.1819389133167488\n"
     ]
    }
   ],
   "source": [
    "print(f\"KL Divergence between the original network and the Erdős–Rényi network: {kl_divergence(degree_networks[0], degree_networks[1])}\")"
   ]
  },
  {
   "cell_type": "code",
   "execution_count": null,
   "metadata": {},
   "outputs": [],
   "source": []
  }
 ],
 "metadata": {
  "kernelspec": {
   "display_name": "Python 3",
   "language": "python",
   "name": "python3"
  },
  "language_info": {
   "codemirror_mode": {
    "name": "ipython",
    "version": 3
   },
   "file_extension": ".py",
   "mimetype": "text/x-python",
   "name": "python",
   "nbconvert_exporter": "python",
   "pygments_lexer": "ipython3",
   "version": "3.6.6"
  }
 },
 "nbformat": 4,
 "nbformat_minor": 2
}
