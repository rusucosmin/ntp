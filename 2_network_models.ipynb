{
 "cells": [
  {
   "cell_type": "markdown",
   "metadata": {},
   "source": [
    "# [NTDS'18] milestone 2: network models\n",
    "[ntds'18]: https://github.com/mdeff/ntds_2018\n",
    "\n",
    "[Hermina Petric Maretic](https://people.epfl.ch/hermina.petricmaretic), [EPFL LTS4](https://lts4.epfl.ch)"
   ]
  },
  {
   "cell_type": "markdown",
   "metadata": {},
   "source": [
    "## Students\n",
    "\n",
    "* Team: `28`\n",
    "* Students: `Guillain, Léonore Valentine; Pase, Francesco; Rusu, Cosmin-Ionut; Zhuang, Ying`\n",
    "* Dataset: `Flight Routes`"
   ]
  },
  {
   "cell_type": "markdown",
   "metadata": {},
   "source": [
    "## Rules\n",
    "\n",
    "* Milestones have to be completed by teams. No collaboration between teams is allowed.\n",
    "* Textual answers shall be short. Typically one to two sentences.\n",
    "* Code has to be clean.\n",
    "* In the first part, you cannot import any other library than we imported. In the second part, you are allowed to import any library you want.\n",
    "* When submitting, the notebook is executed and the results are stored. I.e., if you open the notebook again it should show numerical results and plots. We won't be able to execute your notebooks.\n",
    "* The notebook is re-executed from a blank state before submission. That is to be sure it is reproducible. You can click \"Kernel\" then \"Restart & Run All\" in Jupyter."
   ]
  },
  {
   "cell_type": "markdown",
   "metadata": {},
   "source": [
    "## Objective\n",
    "\n",
    "The purpose of this milestone is to explore various random network models, analyse their properties and compare them to your network. In the first part of the milestone you will implement two random graph models and try to fit them to your network. In this part you are not allowed to use any additional package. In the second part of the milestone you will choose a third random graph model that you think shares some properties with your network. You will be allowed to use additional packages to construct this network, but you must explain your network choice. Finally, make your code as clean as possible, and keep your textual answers short."
   ]
  },
  {
   "cell_type": "markdown",
   "metadata": {},
   "source": [
    "## Part 0\n",
    "\n",
    "Import the adjacency matrix of your graph that you constructed in milestone 1, as well as the number of nodes and edges of your network."
   ]
  },
  {
   "cell_type": "code",
   "execution_count": 1,
   "metadata": {},
   "outputs": [],
   "source": [
    "import numpy as np\n",
    "import pandas as pd\n",
    "\n",
    "adjacency = np.load('adjacency.npy') # the adjacency matrix\n",
    "n_nodes =  adjacency.shape[0] # the number of nodes in the network\n",
    "n_edges =  np.where(adjacency > 0, 1, 0).sum() / 2 # the number of edges in the network"
   ]
  },
  {
   "cell_type": "markdown",
   "metadata": {},
   "source": [
    "## Part 1\n",
    "\n",
    "**For the computation of this part of the milestone you are only allowed to use the packages that have been imported in the cell below.**"
   ]
  },
  {
   "cell_type": "code",
   "execution_count": 2,
   "metadata": {},
   "outputs": [],
   "source": [
    "%matplotlib inline\n",
    "\n",
    "import random\n",
    "import numpy as np\n",
    "import pandas as pd\n",
    "import matplotlib.pyplot as plt\n",
    "import scipy"
   ]
  },
  {
   "cell_type": "markdown",
   "metadata": {},
   "source": [
    "### Question 1\n",
    "\n",
    "Create a function that constructs an Erdős–Rényi graph."
   ]
  },
  {
   "cell_type": "code",
   "execution_count": 3,
   "metadata": {},
   "outputs": [],
   "source": [
    "def erdos_renyi(n, p, seed = None):\n",
    "    \"\"\"Create an instance from the Erdos-Renyi graph model.\n",
    "    \n",
    "    Parameters\n",
    "    ----------\n",
    "    n: int\n",
    "        Size of the graph.\n",
    "    p: float\n",
    "        Edge probability. A number between 0 and 1.\n",
    "    seed: int (optional)\n",
    "        Seed for the random number generator. To get reproducible results.\n",
    "    \n",
    "    Returns\n",
    "    -------\n",
    "    adjacency\n",
    "        The adjacency matrix of a graph.\n",
    "    \"\"\"\n",
    "    \n",
    "    # Your code here.\n",
    " \n",
    "    \n",
    "    \n",
    "    np.random.seed(seed)\n",
    "    adjacency = np.zeros((n,n))\n",
    "    \n",
    "    for i in range(n):\n",
    "        # add the +1 to avoid selfloops\n",
    "        adjacency[i, i+1:] = np.random.binomial(1, p, n-i-1)\n",
    "        adjacency[i+1:, i] = adjacency[i, i+1:]\n",
    "    \n",
    "    \n",
    "    return adjacency"
   ]
  },
  {
   "cell_type": "code",
   "execution_count": 4,
   "metadata": {},
   "outputs": [
    {
     "data": {
      "text/plain": [
       "Text(0.5,1.05,'Erdos-Renyi (5, 0.6)')"
      ]
     },
     "execution_count": 4,
     "metadata": {},
     "output_type": "execute_result"
    },
    {
     "data": {
      "image/png": "[encoded data removed]",
      "text/plain": [
       "<Figure size 432x288 with 1 Axes>"
      ]
     },
     "metadata": {
      "needs_background": "light"
     },
     "output_type": "display_data"
    }
   ],
   "source": [
    "er = erdos_renyi(5, 0.6, 9765)\n",
    "plt.spy(er)\n",
    "plt.title('Erdos-Renyi (5, 0.6)')"
   ]
  },
  {
   "cell_type": "code",
   "execution_count": 5,
   "metadata": {},
   "outputs": [
    {
     "data": {
      "text/plain": [
       "Text(0.5,1.05,'Erdos-Renyi (10, 0.4)')"
      ]
     },
     "execution_count": 5,
     "metadata": {},
     "output_type": "execute_result"
    },
    {
     "data": {
      "image/png": "[encoded data removed]",
      "text/plain": [
       "<Figure size 432x288 with 1 Axes>"
      ]
     },
     "metadata": {
      "needs_background": "light"
     },
     "output_type": "display_data"
    }
   ],
   "source": [
    "er = erdos_renyi(10, 0.4, 7648)\n",
    "plt.spy(er)\n",
    "plt.title('Erdos-Renyi (10, 0.4)')"
   ]
  },
  {
   "cell_type": "markdown",
   "metadata": {},
   "source": [
    "### Question 2\n",
    "\n",
    "Use the function to create a random Erdos-Renyi graph. Choose the parameters such that number of nodes is the same as in your graph, and the number of edges similar. You don't need to set the random seed. Comment on your choice of parameters."
   ]
  },
  {
   "cell_type": "code",
   "execution_count": 6,
   "metadata": {},
   "outputs": [
    {
     "data": {
      "text/plain": [
       "0.0036852923458718925"
      ]
     },
     "execution_count": 6,
     "metadata": {},
     "output_type": "execute_result"
    }
   ],
   "source": [
    "p = 2*n_edges/(n_nodes*(n_nodes-1))\n",
    "p"
   ]
  },
  {
   "cell_type": "code",
   "execution_count": 7,
   "metadata": {},
   "outputs": [
    {
     "data": {
      "text/plain": [
       "18881.0"
      ]
     },
     "execution_count": 7,
     "metadata": {},
     "output_type": "execute_result"
    }
   ],
   "source": [
    "erdos_renyi(n_nodes, p).sum()/2"
   ]
  },
  {
   "cell_type": "code",
   "execution_count": 8,
   "metadata": {},
   "outputs": [
    {
     "data": {
      "text/plain": [
       "<matplotlib.image.AxesImage at 0x127c7c940>"
      ]
     },
     "execution_count": 8,
     "metadata": {},
     "output_type": "execute_result"
    },
    {
     "data": {
      "image/png": "[encoded data removed]",
      "text/plain": [
       "<Figure size 432x288 with 1 Axes>"
      ]
     },
     "metadata": {
      "needs_background": "light"
     },
     "output_type": "display_data"
    }
   ],
   "source": [
    "er_graph = erdos_renyi(n_nodes, p)\n",
    "plt.spy(er_graph)"
   ]
  },
  {
   "cell_type": "markdown",
   "metadata": {},
   "source": [
    "**Your answer here.**\n",
    "\n",
    "We calcuate p so that the random er_graph we create have the similar number of edges as in our network.\n",
    "\n",
    "$L=p* N(N-1)/2$\n",
    "\n",
    "The result we have corresponds to our network."
   ]
  },
  {
   "cell_type": "markdown",
   "metadata": {},
   "source": [
    "### Question 3\n",
    "\n",
    "Create a function that constructs a Barabási-Albert graph."
   ]
  },
  {
   "cell_type": "code",
   "execution_count": 9,
   "metadata": {},
   "outputs": [],
   "source": [
    "def barabasi_albert(n, m, seed=None, m_0 = None):\n",
    "    \"\"\"Create an instance from the Barabasi-Albert graph model.\n",
    "    \n",
    "    Parameters\n",
    "    ----------\n",
    "    n: int\n",
    "        Size of the graph.\n",
    "    m: int\n",
    "        Number of edges to attach from a new node to existing nodes.\n",
    "    seed: int (optional)\n",
    "        Seed for the random number generator. To get reproducible results.\n",
    "    m_0: int (optinal)\n",
    "        The number of nodes in the initial connected component\n",
    "    \n",
    "    Returns\n",
    "    -------\n",
    "    adjacency\n",
    "        The adjacency matrix of a graph.\n",
    "    \"\"\"\n",
    "    \n",
    "    np.random.seed(seed)\n",
    "    \n",
    "    #to ensure scale free network property\n",
    "    m_0 = max(m, 2)\n",
    "\n",
    "    # Initial connected network\n",
    "    adjacency = np.zeros((n,n))\n",
    "    \n",
    "\n",
    "    \n",
    "    adjacency[:m_0, :m_0] = erdos_renyi(m_0, 1./m_0 , seed)\n",
    "    #Should it also be connected ??\n",
    "    for i in range(m_0-1):\n",
    "        adjacency[i, i+1] = 1;\n",
    "        adjacency[i+1, i] = 1;\n",
    "    \n",
    "    \n",
    "    #make sure we have at least one link per node\n",
    "   \n",
    "    '''\n",
    "    for i in range(m_0):\n",
    "        if np.where(adjacency[i, :m_0-i] == 0, 0, 1).sum() == 0:\n",
    "                position = np.random.randint(0, m_0)\n",
    "                adjacency[i, position] = 1\n",
    "                adjacency[position, i] = 1\n",
    "    '''\n",
    "    \n",
    "    #iterate:\n",
    "    for i in range(m_0, n):\n",
    "        degrees = adjacency[:i].sum(axis = 1)\n",
    "        total = degrees.sum()\n",
    "        \n",
    "        new_links = np.random.choice(i, size=m, replace=False, p = degrees / total)\n",
    "        adjacency[i, new_links] = 1.\n",
    "        adjacency[new_links, i] = 1.\n",
    "    \n",
    "    return adjacency"
   ]
  },
  {
   "cell_type": "code",
   "execution_count": 10,
   "metadata": {},
   "outputs": [
    {
     "data": {
      "text/plain": [
       "Text(0.5,1.05,'Barabasi-Albert (5, 1)')"
      ]
     },
     "execution_count": 10,
     "metadata": {},
     "output_type": "execute_result"
    },
    {
     "data": {
      "image/png": "[encoded data removed]",
      "text/plain": [
       "<Figure size 432x288 with 1 Axes>"
      ]
     },
     "metadata": {
      "needs_background": "light"
     },
     "output_type": "display_data"
    }
   ],
   "source": [
    "#bad see, is all zero\n",
    "ba = barabasi_albert(5, 1, 908)\n",
    "plt.spy(ba)\n",
    "plt.title('Barabasi-Albert (5, 1)')"
   ]
  },
  {
   "cell_type": "code",
   "execution_count": 11,
   "metadata": {},
   "outputs": [
    {
     "data": {
      "text/plain": [
       "Text(0.5,1.05,'Barabasi-Albert (10, 2)')"
      ]
     },
     "execution_count": 11,
     "metadata": {},
     "output_type": "execute_result"
    },
    {
     "data": {
      "image/png": "[encoded data removed]",
      "text/plain": [
       "<Figure size 432x288 with 1 Axes>"
      ]
     },
     "metadata": {
      "needs_background": "light"
     },
     "output_type": "display_data"
    }
   ],
   "source": [
    "ba = barabasi_albert(10, 2, 8708)\n",
    "plt.spy(ba)\n",
    "plt.title('Barabasi-Albert (10, 2)')"
   ]
  },
  {
   "cell_type": "markdown",
   "metadata": {},
   "source": [
    "### Question 4\n",
    "\n",
    "Use the function to create a random Barabási-Albert graph. Choose the parameters such that number of nodes is the same as in your graph, and the number of edges similar. You don't need to set the random seed. Comment on your choice of parameters."
   ]
  },
  {
   "cell_type": "code",
   "execution_count": 12,
   "metadata": {},
   "outputs": [
    {
     "data": {
      "text/plain": [
       "11.711859075180875"
      ]
     },
     "execution_count": 12,
     "metadata": {},
     "output_type": "execute_result"
    }
   ],
   "source": [
    "avg_degree = np.where(adjacency > 0, 1, 0).sum(axis = 1).mean()\n",
    "avg_degree"
   ]
  },
  {
   "cell_type": "code",
   "execution_count": 13,
   "metadata": {},
   "outputs": [
    {
     "data": {
      "text/plain": [
       "<matplotlib.image.AxesImage at 0x12df028d0>"
      ]
     },
     "execution_count": 13,
     "metadata": {},
     "output_type": "execute_result"
    },
    {
     "data": {
      "image/png": "[encoded data removed]",
      "text/plain": [
       "<Figure size 432x288 with 1 Axes>"
      ]
     },
     "metadata": {
      "needs_background": "light"
     },
     "output_type": "display_data"
    }
   ],
   "source": [
    "# Your code here.\n",
    "ba_graph = barabasi_albert(n_nodes, int(avg_degree))\n",
    "plt.spy(ba_graph)"
   ]
  },
  {
   "cell_type": "code",
   "execution_count": 14,
   "metadata": {},
   "outputs": [
    {
     "data": {
      "text/plain": [
       "34862.0"
      ]
     },
     "execution_count": 14,
     "metadata": {},
     "output_type": "execute_result"
    }
   ],
   "source": [
    "ba_graph.sum()/2"
   ]
  },
  {
   "cell_type": "code",
   "execution_count": 15,
   "metadata": {},
   "outputs": [
    {
     "data": {
      "text/plain": [
       "<matplotlib.image.AxesImage at 0x133713fd0>"
      ]
     },
     "execution_count": 15,
     "metadata": {},
     "output_type": "execute_result"
    },
    {
     "data": {
      "image/png": "[encoded data removed]",
      "text/plain": [
       "<Figure size 432x288 with 1 Axes>"
      ]
     },
     "metadata": {
      "needs_background": "light"
     },
     "output_type": "display_data"
    }
   ],
   "source": [
    "# Your code here.\n",
    "#mt + m0 links -> t= n-m_0 m*(n-m)+m -> m*n-m*m+m -> m*(n+1)-m**2\n",
    "# e = m*(n+1)-m**2\n",
    "ba_graph = barabasi_albert(n_nodes, 6)\n",
    "plt.spy(ba_graph)"
   ]
  },
  {
   "cell_type": "code",
   "execution_count": 16,
   "metadata": {},
   "outputs": [
    {
     "data": {
      "text/plain": [
       "19044.0"
      ]
     },
     "execution_count": 16,
     "metadata": {},
     "output_type": "execute_result"
    }
   ],
   "source": [
    "ba_graph.sum()/2"
   ]
  },
  {
   "cell_type": "markdown",
   "metadata": {},
   "source": [
    "**Your answer here**\n",
    "\n",
    "We calcuate m so that the random er_graph we create have the similar number of edges as in our network.\n",
    "\n",
    "we have $mt + m0$ links, with $t= n-m_0$ \n",
    "\n",
    "with $t$ we obtain $e= m*(n+1)-m^2$\n",
    "\n"
   ]
  },
  {
   "cell_type": "markdown",
   "metadata": {},
   "source": [
    "### Question 5\n",
    "\n",
    "Compare the number of edges in all three networks (your real network, the Erdős–Rényi network, and the Barabási-Albert netowk)."
   ]
  },
  {
   "cell_type": "code",
   "execution_count": 17,
   "metadata": {},
   "outputs": [
    {
     "name": "stdout",
     "output_type": "stream",
     "text": [
      "Number of edges in the real network: 18616.0\n",
      "Number of edges in the Erdős–Rényi network: 18504.0\n",
      "Number of edges in the Barabási-Albert network: 19044.0\n"
     ]
    }
   ],
   "source": [
    "# Your code here.\n",
    "print(f\"Number of edges in the real network: {n_edges}\")\n",
    "print(f\"Number of edges in the Erdős–Rényi network: {er_graph.sum() / 2}\")\n",
    "print(f\"Number of edges in the Barabási-Albert network: {ba_graph.sum() / 2}\")"
   ]
  },
  {
   "cell_type": "markdown",
   "metadata": {},
   "source": [
    "### Question 6\n",
    "\n",
    "Implement a function that computes the [Kullback–Leibler (KL) divergence](https://en.wikipedia.org/wiki/Kullback%E2%80%93Leibler_divergence) between two probability distributions.\n",
    "We'll use it to compare the degree distributions of networks."
   ]
  },
  {
   "cell_type": "code",
   "execution_count": 18,
   "metadata": {},
   "outputs": [],
   "source": [
    "def kl_divergence(p, q):\n",
    "    \"\"\"Compute the KL divergence between probability distributions of degrees of two networks.\n",
    "    \n",
    "    Parameters\n",
    "    ----------\n",
    "    p: np.array\n",
    "        Probability distribution of degrees of the 1st graph.\n",
    "    q: np.array\n",
    "        Probability distribution of degrees of the 2nd graph.\n",
    "    \n",
    "    Returns\n",
    "    -------\n",
    "    kl\n",
    "        The KL divergence between the two distributions.\n",
    "    \"\"\"\n",
    "    assert p.shape == q.shape\n",
    "    np.testing.assert_array_equal(np.where(p>0), np.where(q>0), err_msg='The two distributions have different supports')\n",
    "    \n",
    "    kl = 0\n",
    "    for x, p_x in enumerate(p):\n",
    "        kl += p_x*np.log(p_x/q[x])\n",
    "    \n",
    "    return kl"
   ]
  },
  {
   "cell_type": "code",
   "execution_count": 19,
   "metadata": {},
   "outputs": [
    {
     "data": {
      "text/plain": [
       "0.09151622184943575"
      ]
     },
     "execution_count": 19,
     "metadata": {},
     "output_type": "execute_result"
    }
   ],
   "source": [
    "p_test = np.array([0.2, 0.2, 0.2, 0.4])\n",
    "q_test = np.array([0.3, 0.3, 0.1, 0.3])\n",
    "\n",
    "kl_divergence(p_test, q_test)"
   ]
  },
  {
   "cell_type": "markdown",
   "metadata": {},
   "source": [
    "### Question 7\n",
    "\n",
    "Compare the degree distribution of your network to each of the two synthetic ones, in terms of KL divergence. **Hint:** Make sure you normalise your degree distributions to make them valid probability distributions."
   ]
  },
  {
   "cell_type": "code",
   "execution_count": 20,
   "metadata": {},
   "outputs": [],
   "source": [
    "# Your code here.\n",
    "\n",
    "#calculate degree distrubution for each graph\n",
    "degrees = np.where(adjacency > 0, 1, 0).sum(axis = 1)\n",
    "degree_network = np.histogram(degrees, bins=(degrees.max()+1)-degrees.min())\n",
    "degree_network = degree_network[0]\n",
    "\n",
    "degrees_er = er_graph.sum(axis = 1) \n",
    "degree_er_network = np.histogram(degrees_er, bins=int(degrees_er.max()+1-degrees_er.min()))\n",
    "degree_er_network = degree_er_network[0]\n",
    "\n",
    "degrees_ba = ba_graph.sum(axis = 1)\n",
    "degree_ba_network = np.histogram(degrees_ba, bins=int(degrees_ba.max()+1-degrees_ba.min()))\n",
    "degree_ba_network = degree_ba_network[0]\n",
    "\n",
    "min_s = [degrees.min(), degrees_er.min(), degrees_ba.min()]\n",
    "max_s = [degrees.max(), degrees_er.max(), degrees_ba.max()]\n",
    "degree_networks = [degree_network, degree_er_network, degree_ba_network]"
   ]
  },
  {
   "cell_type": "code",
   "execution_count": 21,
   "metadata": {},
   "outputs": [],
   "source": [
    "#pad arrays to have same length\n",
    "\n",
    "for i, s in enumerate(min_s):\n",
    "    before_pad = int(s - min(min_s))\n",
    "    after_pad = int( max(max_s) - max_s[i])\n",
    "    degree_networks[i] = np.pad(degree_networks[i], pad_width=(before_pad, after_pad), mode='constant', constant_values = 0)"
   ]
  },
  {
   "cell_type": "code",
   "execution_count": 22,
   "metadata": {},
   "outputs": [],
   "source": [
    "#normalize\n",
    "\n",
    "tmp = []\n",
    "\n",
    "for n in degree_networks:\n",
    "    n[n== 0] = 1\n",
    "    \n",
    "    #alternative smoothing\n",
    "    #scp = scipy.interpolate.UnivariateSpline(range(min(min_s), max(max_s)+1), n)\n",
    "    #n = scp(range(min(min_s), max(max_s)+1))\n",
    "    \n",
    "    N = n.shape[0]\n",
    "    np.convolve(n, np.ones((N,))/N, mode='valid')\n",
    "    n = n/ n.sum()\n",
    "    tmp.append(n)\n",
    "    \n",
    "degree_networks = tmp"
   ]
  },
  {
   "cell_type": "code",
   "execution_count": 23,
   "metadata": {},
   "outputs": [
    {
     "data": {
      "text/plain": [
       "<matplotlib.legend.Legend at 0x1341c7e80>"
      ]
     },
     "execution_count": 23,
     "metadata": {},
     "output_type": "execute_result"
    },
    {
     "data": {
      "image/png": "[encoded data removed]",
      "text/plain": [
       "<Figure size 432x288 with 1 Axes>"
      ]
     },
     "metadata": {
      "needs_background": "light"
     },
     "output_type": "display_data"
    }
   ],
   "source": [
    "plt.title('normalized degree distributions')\n",
    "for i in degree_networks:\n",
    "    plt.plot(i)\n",
    "    \n",
    "plt.legend(['our network', 'erdos-reyni', 'a-b'])"
   ]
  },
  {
   "cell_type": "code",
   "execution_count": 24,
   "metadata": {},
   "outputs": [
    {
     "name": "stdout",
     "output_type": "stream",
     "text": [
      "KL Divergence between the original network and the Erdős–Rényi network: 3.2832352128454736\n",
      "KL Divergence between the original network and the Barabási-Albert network: 3.743004657141131\n"
     ]
    }
   ],
   "source": [
    "print(f\"KL Divergence between the original network and the Erdős–Rényi network: {kl_divergence(degree_networks[0], degree_networks[1])}\")\n",
    "print(f\"KL Divergence between the original network and the Barabási-Albert network: {kl_divergence(degree_networks[0], degree_networks[2])}\")"
   ]
  },
  {
   "cell_type": "code",
   "execution_count": 25,
   "metadata": {},
   "outputs": [],
   "source": [
    "tmp = []\n",
    "\n",
    "for n in degree_networks:\n",
    "    n = n[5:]\n",
    "    n = n/ n.sum()\n",
    "    tmp.append(n)\n",
    "    \n",
    "degree_networks = tmp"
   ]
  },
  {
   "cell_type": "code",
   "execution_count": 26,
   "metadata": {},
   "outputs": [
    {
     "name": "stdout",
     "output_type": "stream",
     "text": [
      "KL Divergence between the original network and the Erdős–Rényi network: 0.8850524577349806\n",
      "KL Divergence between the original network and the Barabási-Albert network: 0.44344890587994906\n"
     ]
    }
   ],
   "source": [
    "print(f\"KL Divergence between the original network and the Erdős–Rényi network: {kl_divergence(degree_networks[0], degree_networks[1])}\")\n",
    "print(f\"KL Divergence between the original network and the Barabási-Albert network: {kl_divergence(degree_networks[0], degree_networks[2])}\")"
   ]
  },
  {
   "cell_type": "markdown",
   "metadata": {},
   "source": [
    "### Question 8\n",
    "\n",
    "Plot the degree distribution historgrams for all three networks. Are they consistent with the KL divergence results? Explain."
   ]
  },
  {
   "cell_type": "code",
   "execution_count": 27,
   "metadata": {},
   "outputs": [
    {
     "data": {
      "image/png": "[encoded data removed]",
      "text/plain": [
       "<Figure size 432x288 with 1 Axes>"
      ]
     },
     "metadata": {
      "needs_background": "light"
     },
     "output_type": "display_data"
    }
   ],
   "source": [
    "# Your code here.\n",
    "plt.title('degree distribution of our network')\n",
    "plt.hist(adjacency.sum(axis = 1), bins=50)\n",
    "plt.xlabel('degree')\n",
    "plt.ylabel('counts')\n",
    "plt.show()"
   ]
  },
  {
   "cell_type": "code",
   "execution_count": 28,
   "metadata": {},
   "outputs": [
    {
     "data": {
      "image/png": "[encoded data removed]",
      "text/plain": [
       "<Figure size 432x288 with 1 Axes>"
      ]
     },
     "metadata": {
      "needs_background": "light"
     },
     "output_type": "display_data"
    }
   ],
   "source": [
    "plt.title('degree distribution of Erdős–Rényi graph')\n",
    "plt.hist(er_graph.sum(axis = 1), bins=50)\n",
    "plt.xlabel('degree')\n",
    "plt.ylabel('counts')\n",
    "plt.show()"
   ]
  },
  {
   "cell_type": "code",
   "execution_count": 29,
   "metadata": {},
   "outputs": [
    {
     "data": {
      "image/png": "[encoded data removed]",
      "text/plain": [
       "<Figure size 432x288 with 1 Axes>"
      ]
     },
     "metadata": {
      "needs_background": "light"
     },
     "output_type": "display_data"
    }
   ],
   "source": [
    "plt.title('degree distribution of Erdős–Rényi')\n",
    "plt.hist(ba_graph.sum(axis = 1), bins=50)\n",
    "plt.xlabel('degree')\n",
    "plt.ylabel('counts')\n",
    "plt.show()"
   ]
  },
  {
   "cell_type": "code",
   "execution_count": 30,
   "metadata": {},
   "outputs": [
    {
     "data": {
      "image/png": "[encoded data removed]",
      "text/plain": [
       "<Figure size 432x288 with 1 Axes>"
      ]
     },
     "metadata": {
      "needs_background": "light"
     },
     "output_type": "display_data"
    }
   ],
   "source": [
    "# Your code here.\n",
    "plt.hist(er_graph.sum(axis=1), alpha=0.4, log=True)\n",
    "plt.hist(ba_graph.sum(axis=1), alpha=0.4, bins=100)\n",
    "plt.hist(np.where(adjacency > 0, 1, 0).sum(axis=1), alpha=0.4, bins=100)\n",
    "plt.legend(['er', 'ab', 'flights'])\n",
    "plt.show()"
   ]
  },
  {
   "cell_type": "markdown",
   "metadata": {},
   "source": [
    "**Your answer here.**\n",
    "\n",
    "\n"
   ]
  },
  {
   "cell_type": "markdown",
   "metadata": {},
   "source": [
    "### Question 9\n",
    "\n",
    "Imagine you got equal degree distributions. Would that guarantee you got the same graph? Explain."
   ]
  },
  {
   "cell_type": "markdown",
   "metadata": {},
   "source": [
    "# TODO(someone): Proof read my (cosmin) answer:\n",
    "\n",
    "If we have the same degree distrubtion, this does not mean that we have the same graph. \n",
    "\n",
    "If two graphs have same degree sequence, that does not mean that the graphs are isomorphic, hence they may not be the same. \n",
    "\n",
    "To prove this, consider the following counter example: \n",
    "These two have the same degree distribution but are not isomorphic : {1: 2, 2: 3}\n",
    "\n",
    "```\n",
    "* 1 -- 2 -- 3 -- 4 -- 5\n",
    "* 1 -- 2   3 -- 4\n",
    "             \\ /\n",
    "              5\n",
    "```"
   ]
  },
  {
   "cell_type": "markdown",
   "metadata": {},
   "source": [
    "## Part 2\n",
    "\n",
    "**You are allowed to use any additional library here (e.g., NetworkX, PyGSP, etc.).** Be careful not to include something here and use it in part 1!"
   ]
  },
  {
   "cell_type": "code",
   "execution_count": 31,
   "metadata": {},
   "outputs": [],
   "source": [
    "import networkx as nx"
   ]
  },
  {
   "cell_type": "markdown",
   "metadata": {},
   "source": [
    "### Question 10\n",
    "\n",
    "Choose a random network model that fits you network well. Explain your choice. \n",
    "\n",
    "**Hint:** Check lecture notes for different network models and their properties. Your choice should be made based on at least one property you'd expect to be similar."
   ]
  },
  {
   "cell_type": "markdown",
   "metadata": {},
   "source": [
    "**TODO(team): Check this answer**\n",
    "\n",
    "In our network, very popular airports act as hubs. Since these airports are bigger, they are more probable to get new links (create a new direct flight). Moreover, the distribution of a generated Barabási-Albert model have the same \"shape\" as the one of our flight network. The chosen degree (the average degreee), however, yields a network with far more edges than we have (one reason why the KL-divergence is big). We expect that by choosing the correct paremeter, the degree distribution of the nodes will be similar."
   ]
  },
  {
   "cell_type": "markdown",
   "metadata": {},
   "source": [
    "### Question 11\n",
    "\n",
    "Explain (in short) how the chosen model works."
   ]
  },
  {
   "cell_type": "markdown",
   "metadata": {},
   "source": [
    "**TODO(team): Check this answer**\n",
    "\n",
    "[WikiPage](https://en.wikipedia.org/wiki/Barab%C3%A1si%E2%80%93Albert_model)\n",
    "\n",
    "\n",
    "The Barabási-Albert generates a random scale-free network (the degree distrubtion follows a power law), Some examples of such networks are: Internet, World Wide Web, Citations Network or Social Networks. The graphs usually contains high degree nodes also knows as \"hubs\". The model incorporates two important general concepts: growth and preferential attachment. Both growth and preferential attachment exist widely in real networks. Growth means that the number of nodes in the network increase over time. Preferential attachment states that the more connected a node is, the more likely it is to receive new links. If we think in terms of our Flights Network, it is likely that if a new airport opens up in a country, they will likely create direct flights to the most popular airports so that more traffic flows through the new airport.\n",
    "\n",
    "The algorithm is fairly simple:\n",
    "\n",
    "1. Create a single connected component of $m0$ nodes (this will be our approximate hubs) \n",
    "2. For every new node (until we reached the number of nodes we want):\n",
    "    1. Create links to ($m <= m0$) already existing nodes with probabilities proportional to the degree of the existing node, i.e.\n",
    "    $$p_i = \\frac{degree_i}{\\sum_{j \\in S}{degree_j}} \\text{ where } S \\text{ is the set of existing nodes} $$\n"
   ]
  },
  {
   "cell_type": "markdown",
   "metadata": {},
   "source": [
    "### Question 12\n",
    "\n",
    "Create a random graph from that model, such that the number of nodes is the same as in your graph."
   ]
  },
  {
   "cell_type": "code",
   "execution_count": 65,
   "metadata": {},
   "outputs": [],
   "source": [
    "def new_barabasi_albert(n, m, seed=None, m_0 = None, alpha = 1):\n",
    "    \"\"\"Create an instance from the Barabasi-Albert graph model.\n",
    "    \n",
    "    Parameters\n",
    "    ----------\n",
    "    n: int\n",
    "        Size of the graph.\n",
    "    m: int\n",
    "        Number of edges to attach from a new node to existing nodes.\n",
    "    seed: int (optional)\n",
    "        Seed for the random number generator. To get reproducible results.\n",
    "    m_0: int (optinal)\n",
    "        The number of nodes in the initial connected component\n",
    "    \n",
    "    Returns\n",
    "    -------\n",
    "    adjacency\n",
    "        The adjacency matrix of a graph.\n",
    "    \"\"\"\n",
    "    \n",
    "    np.random.seed(seed)\n",
    "    \n",
    "    #to ensure scale free network property\n",
    "    #m_0 = max(m, 2)\n",
    "\n",
    "    # Initial connected network\n",
    "    adjacency = np.zeros((n,n))\n",
    "    \n",
    "\n",
    "    \n",
    "    adjacency[:m_0, :m_0] = erdos_renyi(m_0, 1./(10*m_0) , seed)\n",
    "    #Should it also be connected ??\n",
    "    for i in range(m_0-1):\n",
    "        adjacency[i, i+1] = 1;\n",
    "        adjacency[i+1, i] = 1;\n",
    "    \n",
    "    print (adjacency[:m_0, :m_0])\n",
    "    \n",
    "    \n",
    "    #iterate:\n",
    "    for i in range(m_0, n):\n",
    "        degrees = adjacency[:i].sum(axis = 1)\n",
    "        total = (degrees**alpha).sum()\n",
    "        \n",
    "        new_links = np.random.choice(i, size=m, replace=False, p = degrees**alpha / total)\n",
    "        adjacency[i, new_links] = 1.\n",
    "        adjacency[new_links, i] = 1.\n",
    "    \n",
    "    return adjacency"
   ]
  },
  {
   "cell_type": "code",
   "execution_count": 76,
   "metadata": {},
   "outputs": [
    {
     "name": "stdout",
     "output_type": "stream",
     "text": [
      "[[0. 1. 0. ... 0. 0. 0.]\n",
      " [1. 0. 1. ... 0. 0. 0.]\n",
      " [0. 1. 0. ... 0. 0. 0.]\n",
      " ...\n",
      " [0. 0. 0. ... 0. 1. 0.]\n",
      " [0. 0. 0. ... 1. 0. 1.]\n",
      " [0. 0. 0. ... 0. 1. 0.]]\n",
      "19274.0\n"
     ]
    }
   ],
   "source": [
    "# Your code here.\n",
    "#ba_graph = nx.powerlaw_cluster_graph(n_node_s, 5, 0.45 )\n",
    "ba_graph = new_barabasi_albert(n_nodes, m=7, m_0 = 500, alpha = 1.32)\n",
    "#plt.spy(ba_graph)\n",
    "print(ba_graph.sum()/2)"
   ]
  },
  {
   "cell_type": "code",
   "execution_count": 77,
   "metadata": {},
   "outputs": [
    {
     "name": "stdout",
     "output_type": "stream",
     "text": [
      "Our network number of nodes: 3179 and edges: 18616.0\n",
      "Barabási-Albert network number of nodes: 3179 and edges: 19274.0\n"
     ]
    }
   ],
   "source": [
    "print(f\"Our network number of nodes: {n_nodes} and edges: {n_edges}\")\n",
    "print(f\"Barabási-Albert network number of nodes: {ba_graph.shape[0]} and edges: {ba_graph.sum() / 2}\")"
   ]
  },
  {
   "cell_type": "markdown",
   "metadata": {},
   "source": [
    "\n",
    "### Question 13\n",
    "\n",
    "Check the properties you expected to be similar, and compare to your network."
   ]
  },
  {
   "cell_type": "code",
   "execution_count": 78,
   "metadata": {
    "scrolled": false
   },
   "outputs": [
    {
     "data": {
      "image/png": "[encoded data removed]",
      "text/plain": [
       "<Figure size 432x288 with 1 Axes>"
      ]
     },
     "metadata": {
      "needs_background": "light"
     },
     "output_type": "display_data"
    },
    {
     "name": "stdout",
     "output_type": "stream",
     "text": [
      "KL Divergence between the original network and the Barabási-Albert network: 42528.58402394913\n"
     ]
    }
   ],
   "source": [
    "# Your code here.\n",
    "one_adjacency = np.where(adjacency > 0, 1, 0)\n",
    "x = one_adjacency.sum(axis = 1)\n",
    "degree_network = x[x>0]\n",
    "degree_ba_network = ba_graph.sum(axis = 1)\n",
    "\n",
    "\n",
    "#plt.hist(degree_network, bins = 237, alpha=0.4, log = True)\n",
    "plt.hist(degree_ba_network, bins = 237, alpha=0.4, log = True)\n",
    "\n",
    "plt.show()\n",
    "\n",
    "print(f\"KL Divergence between the original network and the Barabási-Albert network: {kl_divergence(degree_network, degree_ba_network)}\")"
   ]
  },
  {
   "cell_type": "code",
   "execution_count": 79,
   "metadata": {},
   "outputs": [
    {
     "data": {
      "text/plain": [
       "array([[0, 1, 1, ..., 0, 0, 0],\n",
       "       [1, 0, 1, ..., 0, 0, 0],\n",
       "       [1, 1, 0, ..., 0, 0, 0],\n",
       "       ...,\n",
       "       [0, 0, 0, ..., 0, 0, 0],\n",
       "       [0, 0, 0, ..., 0, 0, 0],\n",
       "       [0, 0, 0, ..., 0, 0, 0]])"
      ]
     },
     "execution_count": 79,
     "metadata": {},
     "output_type": "execute_result"
    }
   ],
   "source": [
    "adjacency"
   ]
  },
  {
   "cell_type": "code",
   "execution_count": 80,
   "metadata": {},
   "outputs": [
    {
     "data": {
      "text/plain": [
       "(array([709., 637., 384., 217., 156., 107.,  81.,  80.,  74.,  42.,  44.,\n",
       "         36.,  29.,  18.,  21.,  21.,  18.,  27.,  27.,  22.,  18.,  14.,\n",
       "         16.,   7.,   5.,  14.,   3.,  10.,   8.,  16.,   8.,  12.,  11.,\n",
       "          5.,   9.,   7.,   7.,  14.,   7.,   4.,  11.,   4.,   3.,   3.,\n",
       "          4.,   6.,   4.,   7.,   4.,   6.,   8.,   3.,   1.,   5.,   6.,\n",
       "          6.,   4.,   1.,   3.,   3.,   2.,   3.,   3.,   2.,   4.,   3.,\n",
       "          1.,   2.,   2.,   2.,   1.,   4.,   3.,   2.,   0.,   3.,   4.,\n",
       "          1.,   1.,   4.,   2.,   2.,   4.,   2.,   2.,   1.,   0.,   1.,\n",
       "          3.,   1.,   4.,   2.,   1.,   2.,   1.,   2.,   2.,   0.,   0.,\n",
       "          1.,   1.,   2.,   5.,   0.,   1.,   0.,   0.,   2.,   0.,   1.,\n",
       "          2.,   0.,   0.,   0.,   0.,   0.,   1.,   0.,   0.,   1.,   1.,\n",
       "          2.,   2.,   0.,   0.,   0.,   1.,   1.,   0.,   0.,   0.,   3.,\n",
       "          0.,   1.,   0.,   2.,   0.,   0.,   2.,   0.,   1.,   1.,   0.,\n",
       "          1.,   1.,   0.,   2.,   1.,   1.,   1.,   0.,   1.,   1.,   1.,\n",
       "          0.,   0.,   0.,   0.,   1.,   0.,   1.,   1.,   1.,   0.,   1.,\n",
       "          0.,   0.,   0.,   2.,   0.,   1.,   0.,   0.,   0.,   0.,   0.,\n",
       "          0.,   0.,   0.,   0.,   0.,   0.,   0.,   0.,   1.,   0.,   1.,\n",
       "          0.,   1.,   0.,   1.,   0.,   0.,   0.,   0.,   0.,   0.,   1.,\n",
       "          0.,   0.,   0.,   0.,   0.,   0.,   0.,   1.,   0.,   0.,   0.,\n",
       "          0.,   0.,   0.,   0.,   0.,   0.,   0.,   0.,   1.,   0.,   0.,\n",
       "          0.,   0.,   0.,   0.,   0.,   0.,   0.,   0.,   0.,   0.,   1.,\n",
       "          0.,   0.,   0.,   0.,   0.,   0.,   0.,   0.,   1.,   0.,   0.,\n",
       "          1.,   0.,   0.,   0.,   1.]),\n",
       " array([  1.        ,   1.99190283,   2.98380567,   3.9757085 ,\n",
       "          4.96761134,   5.95951417,   6.951417  ,   7.94331984,\n",
       "          8.93522267,   9.92712551,  10.91902834,  11.91093117,\n",
       "         12.90283401,  13.89473684,  14.88663968,  15.87854251,\n",
       "         16.87044534,  17.86234818,  18.85425101,  19.84615385,\n",
       "         20.83805668,  21.82995951,  22.82186235,  23.81376518,\n",
       "         24.80566802,  25.79757085,  26.78947368,  27.78137652,\n",
       "         28.77327935,  29.76518219,  30.75708502,  31.74898785,\n",
       "         32.74089069,  33.73279352,  34.72469636,  35.71659919,\n",
       "         36.70850202,  37.70040486,  38.69230769,  39.68421053,\n",
       "         40.67611336,  41.66801619,  42.65991903,  43.65182186,\n",
       "         44.6437247 ,  45.63562753,  46.62753036,  47.6194332 ,\n",
       "         48.61133603,  49.60323887,  50.5951417 ,  51.58704453,\n",
       "         52.57894737,  53.5708502 ,  54.56275304,  55.55465587,\n",
       "         56.5465587 ,  57.53846154,  58.53036437,  59.52226721,\n",
       "         60.51417004,  61.50607287,  62.49797571,  63.48987854,\n",
       "         64.48178138,  65.47368421,  66.46558704,  67.45748988,\n",
       "         68.44939271,  69.44129555,  70.43319838,  71.42510121,\n",
       "         72.41700405,  73.40890688,  74.40080972,  75.39271255,\n",
       "         76.38461538,  77.37651822,  78.36842105,  79.36032389,\n",
       "         80.35222672,  81.34412955,  82.33603239,  83.32793522,\n",
       "         84.31983806,  85.31174089,  86.30364372,  87.29554656,\n",
       "         88.28744939,  89.27935223,  90.27125506,  91.26315789,\n",
       "         92.25506073,  93.24696356,  94.2388664 ,  95.23076923,\n",
       "         96.22267206,  97.2145749 ,  98.20647773,  99.19838057,\n",
       "        100.1902834 , 101.18218623, 102.17408907, 103.1659919 ,\n",
       "        104.15789474, 105.14979757, 106.1417004 , 107.13360324,\n",
       "        108.12550607, 109.11740891, 110.10931174, 111.10121457,\n",
       "        112.09311741, 113.08502024, 114.07692308, 115.06882591,\n",
       "        116.06072874, 117.05263158, 118.04453441, 119.03643725,\n",
       "        120.02834008, 121.02024291, 122.01214575, 123.00404858,\n",
       "        123.99595142, 124.98785425, 125.97975709, 126.97165992,\n",
       "        127.96356275, 128.95546559, 129.94736842, 130.93927126,\n",
       "        131.93117409, 132.92307692, 133.91497976, 134.90688259,\n",
       "        135.89878543, 136.89068826, 137.88259109, 138.87449393,\n",
       "        139.86639676, 140.8582996 , 141.85020243, 142.84210526,\n",
       "        143.8340081 , 144.82591093, 145.81781377, 146.8097166 ,\n",
       "        147.80161943, 148.79352227, 149.7854251 , 150.77732794,\n",
       "        151.76923077, 152.7611336 , 153.75303644, 154.74493927,\n",
       "        155.73684211, 156.72874494, 157.72064777, 158.71255061,\n",
       "        159.70445344, 160.69635628, 161.68825911, 162.68016194,\n",
       "        163.67206478, 164.66396761, 165.65587045, 166.64777328,\n",
       "        167.63967611, 168.63157895, 169.62348178, 170.61538462,\n",
       "        171.60728745, 172.59919028, 173.59109312, 174.58299595,\n",
       "        175.57489879, 176.56680162, 177.55870445, 178.55060729,\n",
       "        179.54251012, 180.53441296, 181.52631579, 182.51821862,\n",
       "        183.51012146, 184.50202429, 185.49392713, 186.48582996,\n",
       "        187.47773279, 188.46963563, 189.46153846, 190.4534413 ,\n",
       "        191.44534413, 192.43724696, 193.4291498 , 194.42105263,\n",
       "        195.41295547, 196.4048583 , 197.39676113, 198.38866397,\n",
       "        199.3805668 , 200.37246964, 201.36437247, 202.3562753 ,\n",
       "        203.34817814, 204.34008097, 205.33198381, 206.32388664,\n",
       "        207.31578947, 208.30769231, 209.29959514, 210.29149798,\n",
       "        211.28340081, 212.27530364, 213.26720648, 214.25910931,\n",
       "        215.25101215, 216.24291498, 217.23481781, 218.22672065,\n",
       "        219.21862348, 220.21052632, 221.20242915, 222.19433198,\n",
       "        223.18623482, 224.17813765, 225.17004049, 226.16194332,\n",
       "        227.15384615, 228.14574899, 229.13765182, 230.12955466,\n",
       "        231.12145749, 232.11336032, 233.10526316, 234.09716599,\n",
       "        235.08906883, 236.08097166, 237.07287449, 238.06477733,\n",
       "        239.05668016, 240.048583  , 241.04048583, 242.03238866,\n",
       "        243.0242915 , 244.01619433, 245.00809717, 246.        ]),\n",
       " <a list of 247 Patch objects>)"
      ]
     },
     "execution_count": 80,
     "metadata": {},
     "output_type": "execute_result"
    },
    {
     "data": {
      "image/png": "[encoded data removed]",
      "text/plain": [
       "<Figure size 432x288 with 1 Axes>"
      ]
     },
     "metadata": {
      "needs_background": "light"
     },
     "output_type": "display_data"
    }
   ],
   "source": [
    "plt.hist(ba_graph.sum(axis=1), bins = 247, alpha=0.4, log = True)\n",
    "plt.hist(one_adjacency.sum(axis=1), alpha=0.4, bins=247, log = True)"
   ]
  },
  {
   "cell_type": "markdown",
   "metadata": {},
   "source": [
    "**Your answer here.**\n",
    "\n",
    "We see the distributions are fairly equal, altought the KL Divergence is quite big (we see there are some outliers in our random model that drives this metric up. Our original network does not have many hubs, but the Barabási-Albert model tends to create more hubs."
   ]
  },
  {
   "cell_type": "code",
   "execution_count": 81,
   "metadata": {},
   "outputs": [],
   "source": [
    "degrees_ba_new = ba_graph.sum(axis = 1)\n",
    "degree_network_ba_new = np.histogram(degrees_ba_new, bins=int(degrees_ba_new.max()+1-degrees_ba_new.min()))\n",
    "degree_network_ba_new = degree_network_ba_new[0]\n",
    "\n",
    "degrees = np.where(adjacency > 0, 1, 0).sum(axis = 1)\n",
    "degree_network = np.histogram(degrees, bins=(degrees.max()+1)-degrees.min())\n",
    "degree_network = degree_network[0]"
   ]
  },
  {
   "cell_type": "code",
   "execution_count": 82,
   "metadata": {},
   "outputs": [],
   "source": [
    "min_s = [degrees.min(), degrees_ba_new.min()]\n",
    "max_s = [degrees.max(), degrees_ba_new.max()]\n",
    "degree_networks = [degree_network, degree_network_ba_new]\n",
    "\n",
    "#pad arrays to have same length\n",
    "\n",
    "for i, s in enumerate(min_s):\n",
    "    before_pad = int(s - min(min_s))\n",
    "    after_pad = int( max(max_s) - max_s[i])\n",
    "    degree_networks[i] = np.pad(degree_networks[i], pad_width=(before_pad, after_pad), mode='constant', constant_values = 0)"
   ]
  },
  {
   "cell_type": "code",
   "execution_count": 83,
   "metadata": {},
   "outputs": [],
   "source": [
    "tmp = []\n",
    "\n",
    "for n in degree_networks:\n",
    "    n[n== 0] = 1    \n",
    "    N = n.shape[0]\n",
    "    np.convolve(n, np.ones((N,))/N, mode='valid')\n",
    "    n = n/ n.sum()\n",
    "    tmp.append(n)\n",
    "    \n",
    "degree_networks = tmp"
   ]
  },
  {
   "cell_type": "code",
   "execution_count": 85,
   "metadata": {},
   "outputs": [
    {
     "name": "stdout",
     "output_type": "stream",
     "text": [
      "KL Divergence between the original network and the Erdős–Rényi network: 2.215201998276799\n"
     ]
    }
   ],
   "source": [
    "print(f\"KL Divergence between the original network and the Erdős–Rényi network: {kl_divergence(degree_networks[0], degree_networks[1])}\")"
   ]
  },
  {
   "cell_type": "code",
   "execution_count": null,
   "metadata": {},
   "outputs": [],
   "source": []
  }
 ],
 "metadata": {
  "kernelspec": {
   "display_name": "Python 3",
   "language": "python",
   "name": "python3"
  },
  "language_info": {
   "codemirror_mode": {
    "name": "ipython",
    "version": 3
   },
   "file_extension": ".py",
   "mimetype": "text/x-python",
   "name": "python",
   "nbconvert_exporter": "python",
   "pygments_lexer": "ipython3",
   "version": "3.7.0"
  }
 },
 "nbformat": 4,
 "nbformat_minor": 2
}
